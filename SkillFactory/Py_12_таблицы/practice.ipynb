{
 "cells": [
  {
   "cell_type": "code",
   "execution_count": 24,
   "metadata": {},
   "outputs": [],
   "source": [
    "import pandas as pd\n",
    "melb_data = pd.read_csv('data/melb_data_fe.csv', sep=',')\n",
    "\n",
    "melb_df = melb_data.copy()#создание копии"
   ]
  },
  {
   "cell_type": "code",
   "execution_count": 22,
   "metadata": {},
   "outputs": [
    {
     "data": {
      "text/plain": [
       "126.0"
      ]
     },
     "execution_count": 22,
     "metadata": {},
     "output_type": "execute_result"
    }
   ],
   "source": [
    "#AreaRatio по убыванию. При этом индексы полученной таблицы замените на новые.\n",
    "\n",
    "\n",
    "melb_df.sort_values(by='AreaRatio', ascending=False, ignore_index=True).head(2)\n",
    "melb_df['BuildingArea'].loc[1558]"
   ]
  },
  {
   "cell_type": "code",
   "execution_count": 29,
   "metadata": {},
   "outputs": [
    {
     "data": {
      "text/plain": [
       "Price    1300000.0\n",
       "Name: 18, dtype: object"
      ]
     },
     "execution_count": 29,
     "metadata": {},
     "output_type": "execute_result"
    }
   ],
   "source": [
    "#таунхаусы (Type) с количеством жилых комнат (Rooms) больше 2. Отсортируйте\n",
    "# полученную таблицу сначала по \n",
    "# возрастанию числа комнат, а затем по убыванию средней\n",
    "# площади комнат (MeanRoomsSquare). Индексы таблицы замените на новые.\n",
    "mask2 = melb_df['Rooms'] > 2\n",
    "mask1 = melb_df['Type'] == 'townhouse'\n",
    "melb_df[mask1 & mask2].sort_values(\n",
    "    by=['Rooms', 'MeanRoomsSquare'],     \n",
    "    ascending=[True, False], \n",
    "    ignore_index=True\n",
    ").loc[18, ['Price']]\n",
    "\n"
   ]
  },
  {
   "cell_type": "code",
   "execution_count": 30,
   "metadata": {},
   "outputs": [
    {
     "data": {
      "text/plain": [
       "SellerG\n",
       "LITTLE             2742000.0\n",
       "Cayzer             4439000.0\n",
       "Burnham            4550500.0\n",
       "Moonee             7328000.0\n",
       "Thomson            8332000.0\n",
       "Bells              8656000.0\n",
       "Alexkarbon        10985000.0\n",
       "McDonald          14637500.0\n",
       "Rendina           15422276.0\n",
       "Nick              16890000.0\n",
       "Douglas           18341000.0\n",
       "Buckingham        19033000.0\n",
       "C21               19515000.0\n",
       "Eview             19791500.0\n",
       "Collins           20217000.0\n",
       "Philip            22051800.0\n",
       "Chisholm          23225000.0\n",
       "Williams          23297000.0\n",
       "Love              23365500.0\n",
       "Purplebricks      23401000.0\n",
       "O'Brien           23855508.0\n",
       "HAR               25568000.0\n",
       "Village           26473000.0\n",
       "RW                29261000.0\n",
       "Raine             30687700.0\n",
       "Stockdale         35409800.0\n",
       "Sweeney           36882750.0\n",
       "Gary              39138400.0\n",
       "Hodges            43231000.0\n",
       "YPA               46354350.0\n",
       "Miles             47582000.0\n",
       "Kay               48569500.0\n",
       "RT                50498000.0\n",
       "Brad              55955000.0\n",
       "Jas               59281600.0\n",
       "Harcourts         68720250.0\n",
       "McGrath           78386500.0\n",
       "Greg              85621000.0\n",
       "Woodards          85977500.0\n",
       "Noel              88129800.0\n",
       "Fletchers        108847700.0\n",
       "Biggin           110429500.0\n",
       "Buxton           219104000.0\n",
       "Ray              249572986.0\n",
       "Marshall         253957888.0\n",
       "hockingstuart    282834310.0\n",
       "Barry            296723050.0\n",
       "other            365038432.0\n",
       "Nelson           379767500.0\n",
       "Jellis           414121833.0\n",
       "Name: Price, dtype: float64"
      ]
     },
     "execution_count": 30,
     "metadata": {},
     "output_type": "execute_result"
    }
   ],
   "source": [
    "# 3.1 данные по признаку количества комнат и найдите среднюю цену объектов недвижимости в каждой группе.\n",
    "# В качестве ответа запишите количество комнат, для которых средняя цена наибольшая\n",
    "melb_df.groupby('Rooms')['Price'].mean()\n",
    "melb_df.groupby('Rooms')['Price'].mean().sort_values(ascending=False)\n",
    "\n",
    "\n",
    "# 3.2 Какой регион имеет наименьшее стандартное отклонение по географической широте (Lattitude)\n",
    "melb_df.groupby('Regionname')['Lattitude'].std().sort_values()\n",
    "\n",
    "# 3.3 риелторская компания (SellerG) имеет наименьшую общую выручку за период с 1 мая по 1 сентября (включительно) 2017 года\n",
    "#рассчитайте сумму продаж (Price) каждой компании в заданный период\n",
    "melb_df['Date'] = pd.to_datetime(melb_df['Date'])\n",
    "date1 = pd.to_datetime('2017-05-01')\n",
    "date2 = pd.to_datetime('2017-09-01')\n",
    "mask = (date1 <= melb_df['Date']) & (melb_df['Date']<= date2)\n",
    "melb_df[mask].groupby('SellerG')['Price'].sum().sort_values(ascending=True)\n"
   ]
  },
  {
   "cell_type": "code",
   "execution_count": 28,
   "metadata": {},
   "outputs": [],
   "source": [
    "#ависимость медианной площади (BuildingArea) здания от типа объекта\n",
    "# недвижимости (Type) и количества жилых комнат в доме (Rooms).\n",
    "# Для какой комбинации признаков площадь здания наибольшая?\n",
    "#В качестве ответа запишите эту комбинацию (тип здания, число комнат) через запятую, без пробелов.\n",
    "pivot = melb_df.pivot_table(\n",
    "    values='BuildingArea',\n",
    "    index='Type',\n",
    "    columns='Rooms',\n",
    "    aggfunc=['median'],\n",
    "    fill_value=0\n",
    ")\n",
    "#display(pivot)\n",
    "\n"
   ]
  },
  {
   "cell_type": "code",
   "execution_count": 47,
   "metadata": {},
   "outputs": [
    {
     "name": "stdout",
     "output_type": "stream",
     "text": [
      "Index(['Nick'], dtype='object', name='SellerG')\n",
      "Nick\n"
     ]
    }
   ],
   "source": [
    "#зависимость медианной цены объекта недвижимости (Price)\n",
    "# от риелторского агентства (SellerG) и типа здания (Type)\n",
    "\n",
    "pivot = melb_df.pivot_table(\n",
    "    values='Price',\n",
    "    index='SellerG',\n",
    "    columns='Type',\n",
    "    aggfunc='median',\n",
    ")\n",
    "#display(pivot)\n",
    "#медианная цена для зданий типа unit максимальна\n",
    "#название этого агентства\n",
    "\n",
    "max_unit_price = pivot['unit'].max()\n",
    "print(pivot[pivot['unit'] == max_unit_price].index)\n",
    "print(pivot[pivot['unit'] == max_unit_price].index[0])"
   ]
  },
  {
   "cell_type": "code",
   "execution_count": 18,
   "metadata": {},
   "outputs": [
    {
     "name": "stdout",
     "output_type": "stream",
     "text": [
      "['users1.csv', 'users2.csv', 'users3.csv']\n"
     ]
    }
   ],
   "source": [
    "\n",
    "list1 = ['users2.csv', 'users1.csv', 'users3.csv']\n",
    "list2 = [1, 5, 4]\n",
    "list1.sort()\n",
    "print(list1)"
   ]
  },
  {
   "cell_type": "code",
   "execution_count": 21,
   "metadata": {},
   "outputs": [],
   "source": [
    "#6.3 В папке несколько файлов,указанпуть допапки,надо в функции склеить файлы,удалитьповторения\n",
    "import pandas as pd\n",
    "import os\n",
    "def concat_user_files(path):\n",
    "    data = pd.DataFrame() #итоговый массив должен бытьдата фрейм\n",
    "    file_list = os.listdir(path)\n",
    "    file_list.sort()\n",
    "    for file in file_list:\n",
    "        file1 = pd.read_csv(path + '/' + file) \n",
    "        data = pd.concat([data, file1], axis = 0, ignore_index=True)\n",
    "    data = data.drop_duplicates()\n",
    "    return data"
   ]
  },
  {
   "cell_type": "code",
   "execution_count": 24,
   "metadata": {},
   "outputs": [
    {
     "data": {
      "text/html": [
       "<div>\n",
       "<style scoped>\n",
       "    .dataframe tbody tr th:only-of-type {\n",
       "        vertical-align: middle;\n",
       "    }\n",
       "\n",
       "    .dataframe tbody tr th {\n",
       "        vertical-align: top;\n",
       "    }\n",
       "\n",
       "    .dataframe thead th {\n",
       "        text-align: right;\n",
       "    }\n",
       "</style>\n",
       "<table border=\"1\" class=\"dataframe\">\n",
       "  <thead>\n",
       "    <tr style=\"text-align: right;\">\n",
       "      <th></th>\n",
       "      <th>item_id</th>\n",
       "      <th>vendor</th>\n",
       "      <th>stock_count</th>\n",
       "      <th>purchase_id</th>\n",
       "      <th>price</th>\n",
       "    </tr>\n",
       "  </thead>\n",
       "  <tbody>\n",
       "    <tr>\n",
       "      <th>0</th>\n",
       "      <td>417283</td>\n",
       "      <td>Samsung</td>\n",
       "      <td>54</td>\n",
       "      <td>101</td>\n",
       "      <td>13900</td>\n",
       "    </tr>\n",
       "    <tr>\n",
       "      <th>1</th>\n",
       "      <td>849734</td>\n",
       "      <td>LG</td>\n",
       "      <td>33</td>\n",
       "      <td>101</td>\n",
       "      <td>5330</td>\n",
       "    </tr>\n",
       "    <tr>\n",
       "      <th>2</th>\n",
       "      <td>132223</td>\n",
       "      <td>Apple</td>\n",
       "      <td>122</td>\n",
       "      <td>101</td>\n",
       "      <td>38200</td>\n",
       "    </tr>\n",
       "    <tr>\n",
       "      <th>3</th>\n",
       "      <td>573943</td>\n",
       "      <td>Apple</td>\n",
       "      <td>18</td>\n",
       "      <td>112</td>\n",
       "      <td>49990</td>\n",
       "    </tr>\n",
       "    <tr>\n",
       "      <th>4</th>\n",
       "      <td>19475</td>\n",
       "      <td>LG</td>\n",
       "      <td>102</td>\n",
       "      <td>121</td>\n",
       "      <td>9890</td>\n",
       "    </tr>\n",
       "  </tbody>\n",
       "</table>\n",
       "</div>"
      ],
      "text/plain": [
       "   item_id   vendor  stock_count  purchase_id  price\n",
       "0   417283  Samsung           54          101  13900\n",
       "1   849734       LG           33          101   5330\n",
       "2   132223    Apple          122          101  38200\n",
       "3   573943    Apple           18          112  49990\n",
       "4    19475       LG          102          121   9890"
      ]
     },
     "metadata": {},
     "output_type": "display_data"
    }
   ],
   "source": [
    "# 7.5 Объединить обе таблицы, умнажить товарына складе напрайс и посчитать сумму всего\n",
    "import pandas as pd\n",
    "\n",
    "items_df = pd.DataFrame({\n",
    "    'item_id': [417283, 849734, 132223, 573943, 19475, 3294095, 382043, 302948, 100132, 312394],\n",
    "    'vendor': ['Samsung', 'LG', 'Apple', 'Apple', 'LG', 'Apple', 'Samsung', 'Samsung', 'LG', 'ZTE'],\n",
    "    'stock_count': [54, 33, 122, 18, 102, 43, 77, 143, 60, 19]\n",
    "})\n",
    "purchase_df = pd.DataFrame({\n",
    "    'purchase_id': [101, 101, 101, 112, 121, 145, 145, 145, 145, 221],\n",
    "    'item_id': [417283, 849734, 132223, 573943, 19475, 3294095, 382043, 302948, 103845, 100132],\n",
    "    'price': [13900, 5330, 38200, 49990, 9890, 33000, 67500, 34500, 89900, 11400]\n",
    "})\n",
    "\n",
    "merged = items_df.merge(\n",
    "    purchase_df ,\n",
    "    on='item_id',\n",
    "    how='inner'   #!!!!!!в итоговой таблице все столбцы с правой и левой!!!!!\n",
    ")\n",
    "display(merged.head())\n",
    "income = int((merged['stock_count'] * merged['price']).sum())"
   ]
  },
  {
   "cell_type": "code",
   "execution_count": 134,
   "metadata": {},
   "outputs": [],
   "source": [
    "import pandas as pd\n",
    "ratings_movies = pd.read_csv('data/ratings_movies.csv', sep=',')\n",
    "\n",
    "ratings_movies_df = ratings_movies.copy()\n",
    "\n",
    "#выделить из признака title год выпуска фильма\n",
    "import re \n",
    "def get_year_release(arg):\n",
    "    #находим все слова по шаблону \"(DDDD)\"\n",
    "    candidates = re.findall(r'\\(\\d{4}\\)', arg) \n",
    "    # проверяем число вхождений\n",
    "    if len(candidates) > 0:\n",
    "        #если число вхождений больше 0,\n",
    "\t#очищаем строку от знаков \"(\" и \")\"\n",
    "        year = candidates[0].replace('(', '')\n",
    "        year = year.replace(')', '')\n",
    "        return int(year)\n",
    "    else:\n",
    "        #если год не указан, возвращаем None\n",
    "        return None\n",
    "    \n",
    "# 8.1 Создайте в таблице новый признак year_release, который соответствует году выпуска фильма\n",
    "ratings_movies_df['year'] = ratings_movies_df['title'].apply(get_year_release)\n",
    "#ratings_movies_df.head()\n",
    "#ratings_movies_df.info()\n",
    "nan_year = ratings_movies_df['userId'].shape[0] - 100818\n",
    "#display(nan_year)\n",
    "\n",
    "# 8.2 Какой фильм, выпущенный в 1999 году, получил наименьшую среднюю оценку зрителей\n",
    "mask = ratings_movies_df['year'] == 1999\n",
    "ratings_movies_df[mask].groupby('title')['rating'].mean().sort_values()\n",
    "\n",
    "#8.3 Какое сочетание жанров фильмов (genres), выпущенных в 2010 году, получило наименьшую среднюю оценку (rating)?\n",
    "mask = ratings_movies_df['year'] == 2010\n",
    "ratings_movies_df[mask].groupby('genres')['rating'].mean().sort_values()\n",
    "\n",
    "# 8.4 Какой пользователь (userId) посмотрел наибольшее количество различных (уникальных)\n",
    "# комбинаций жанров (genres) фильмов?\n",
    "ratings_movies_df.groupby('userId')['genres'].nunique().sort_values(ascending=False)\n",
    "\n",
    "# 8.5 пользователя, который выставил наименьшее количество оценок, но его средняя оценка фильмам наибольшая\n",
    "ratings_movies_df.groupby('userId')['rating'].agg(\n",
    "    ['count', 'mean']\n",
    ").sort_values(\n",
    "    by = ['count', 'mean'], ascending=[True, False]\n",
    "    )\n",
    "\n",
    "# 8.6 Cочетание жанров (genres) за 2018 году, которое имеет наибольший средний рейтинг (среднее по столбцу rating),\n",
    "# и при этом число выставленных ему оценок (количество значений в столбце rating) больше 10\n",
    "mask = ratings_movies_df['year'] == 2018\n",
    "ratings_movies_df_ = ratings_movies_df[mask].groupby('genres')['rating'].agg(['mean', 'count']).sort_values(\n",
    "    by = ['mean', 'count'], ascending=[False, False]\n",
    "    )\n",
    "# Сохраняем полученнуютаблицу и снова еесортируем по маске!\n",
    "mask1 = ratings_movies_df_['count'] > 10\n",
    "ratings_movies_df_[mask1].sort_values(by = 'mean', ascending=False)\n",
    "\n",
    "# 8.7 Добавьте в таблицу новый признак year_rating — год выставления оценки.\n",
    "# Создайте сводную таблицу, которая иллюстрирует зависимость среднего\n",
    "# рейтинга фильма от года выставления оценки и жанра\n",
    "\n",
    "ratings_movies_df['date'] = pd.to_datetime(ratings_movies_df['date'])\n",
    "ratings_movies_df['year_rating'] = ratings_movies_df['date'].dt.year\n",
    "c = ratings_movies_df.pivot_table(\n",
    "    values='rating',\n",
    "    index='year_rating',\n",
    "    columns='genres',\n",
    "    aggfunc='mean'\n",
    ")\n",
    "#c.head()\n",
    "#mask3 = c['mean']['genres'] == 'Action|Adventure'\n",
    "#d = c[mask3]\n",
    "#display(d)\n",
    "#display(c.loc[2018])"
   ]
  },
  {
   "cell_type": "code",
   "execution_count": 162,
   "metadata": {},
   "outputs": [],
   "source": [
    "# 8.8 \n",
    "import pandas as pd\n",
    "orders = pd.read_csv('data/orders.csv', sep=';')\n",
    "orders_df = orders.copy()\n",
    "#orders_df.head()"
   ]
  },
  {
   "cell_type": "code",
   "execution_count": 163,
   "metadata": {},
   "outputs": [],
   "source": [
    "import pandas as pd\n",
    "products = pd.read_csv('data/products.csv', sep=';')\n",
    "products_df = products.copy()\n",
    "#products_df.head()"
   ]
  },
  {
   "cell_type": "code",
   "execution_count": 177,
   "metadata": {},
   "outputs": [
    {
     "data": {
      "text/plain": [
       "ID Покупателя\n",
       "7    17096.0\n",
       "5    13043.0\n",
       "8     1344.0\n",
       "1        0.0\n",
       "Name: profit, dtype: float64"
      ]
     },
     "execution_count": 177,
     "metadata": {},
     "output_type": "execute_result"
    }
   ],
   "source": [
    "orders_products = orders_df.merge(\n",
    "    products_df, \n",
    "    left_on='ID товара',\n",
    "    right_on='Product_ID',\n",
    "    how='left')\n",
    "\n",
    "# 8.8 идентификатор (Order ID) имеет заказ, для которого не оказалось информации о товаре\n",
    "orders_products.tail(1)['Order ID']\n",
    "# 8.9 какой товар отменен,указать имя\n",
    "orders_products[orders_products['Отменен'] == 'Да']['Name']\n",
    "\n",
    "# 8.10 Какой покупатель принёс наибольшую суммарную прибыль интернет-магазину за указанный период\n",
    "#Прибыль состоит только из оплаченных заказов и рассчитывается как количество купленного товара, умноженное на его цену\n",
    "orders_products['profit'] = orders_products['Количество'] * orders_products['Price']\n",
    "orders_products[orders_products['Оплачен'] == 'Да'].groupby('ID Покупателя')['profit'].sum().sort_values(ascending=False)"
   ]
  }
 ],
 "metadata": {
  "kernelspec": {
   "display_name": "Python 3.9.10 64-bit",
   "language": "python",
   "name": "python3"
  },
  "language_info": {
   "codemirror_mode": {
    "name": "ipython",
    "version": 3
   },
   "file_extension": ".py",
   "mimetype": "text/x-python",
   "name": "python",
   "nbconvert_exporter": "python",
   "pygments_lexer": "ipython3",
   "version": "3.9.10"
  },
  "orig_nbformat": 4,
  "vscode": {
   "interpreter": {
    "hash": "7a4b96c1986ca677e6d2ebfd9e4fc5687c706e8b683bd809e2bb5f8e7e7a77b7"
   }
  }
 },
 "nbformat": 4,
 "nbformat_minor": 2
}
