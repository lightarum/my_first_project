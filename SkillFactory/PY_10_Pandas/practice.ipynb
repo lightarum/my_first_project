{
 "cells": [
  {
   "cell_type": "code",
   "execution_count": 5,
   "metadata": {},
   "outputs": [
    {
     "name": "stdout",
     "output_type": "stream",
     "text": [
      "[2, 3, 6]\n"
     ]
    }
   ],
   "source": [
    "#2.4\n",
    "import pandas as pd\n",
    "def create_medications(names, counts):\n",
    "    medications = pd.Series(\n",
    "        data=counts,\n",
    "        index=names\n",
    ")\n",
    "    return medications\n",
    "\n",
    "def get_percent(medications, name):\n",
    "    fraction = medications.loc[name] / sum(medications.iloc[:]) * 100\n",
    "    return fraction\n",
    "\n",
    "alf = {'v':3, 'b':2, 'a':6}\n",
    "print(sorted(alf.values()))\n",
    "#как сортировать по значению"
   ]
  },
  {
   "cell_type": "code",
   "execution_count": 28,
   "metadata": {},
   "outputs": [
    {
     "name": "stdout",
     "output_type": "stream",
     "text": [
      "RangeIndex(start=0, stop=3, step=1)\n",
      "None\n"
     ]
    }
   ],
   "source": [
    "import pandas as pd\n",
    "def create_companyDF(income, expenses, years):\n",
    "    df = pd.DataFrame({\n",
    "    'Income': income,\n",
    "    'Expenses': expenses   \n",
    "    })\n",
    "    index = years\n",
    "    return df\n",
    "\n",
    "income = [478, 512, 196]\n",
    "expenses = [156, 130, 270]\n",
    "years = [2018, 2019, 2020]\n",
    "df = create_companyDF(income, expenses, years)\n",
    "\n",
    "def get_profit(df, year):\n",
    "    print(df.index)\n",
    "    if year in df.index:\n",
    "        return df.loc[year, 'Income'] - df.loc[year, 'Expenses']\n",
    "    else:\n",
    "        return None\n",
    "    \n",
    "print(get_profit(df, 2020))\n",
    "\n",
    "\n"
   ]
  },
  {
   "cell_type": "code",
   "execution_count": 103,
   "metadata": {},
   "outputs": [
    {
     "data": {
      "text/plain": [
       "1369"
      ]
     },
     "execution_count": 103,
     "metadata": {},
     "output_type": "execute_result"
    }
   ],
   "source": [
    "melb_data = pd.read_csv('data/melb_data.csv', sep=',') #прочитать таблицу\n",
    "melb_data.describe()\n",
    "melb_data.describe(include = ['object'])\n",
    "melb_data['Type'].value_counts(normalize=True) \n",
    "melb_data[melb_data['Type'] == 't']['Rooms'].max() \n",
    "\n",
    "#СКОЛЬКО ПРОПУЩЕННЫХ ЗНАЧЕНИЙ\n",
    "melb_data['CouncilArea'].value_counts(dropna = False) \n",
    "melb_data['CouncilArea'].isna().sum()\n",
    "#.isna().sum()\n",
    "# value_count(dropna = False)"
   ]
  },
  {
   "cell_type": "code",
   "execution_count": 45,
   "metadata": {},
   "outputs": [
    {
     "name": "stdout",
     "output_type": "stream",
     "text": [
      "5.868724943071711\n",
      "0    3.0\n",
      "Name: Bedroom, dtype: float64\n",
      "21650.0\n",
      "0.9023592033763547\n"
     ]
    }
   ],
   "source": [
    "print(melb_data['Distance'].std()) #тандартное отклонение (разброс) расстояния от центра города до объекта недвижимости\n",
    "print(melb_data['Bedroom'].mode()) #Сколько спален чаще всего встречается в домах в Мельбурне\n",
    "print(melb_data['Propertycount'].max()) #максимальное количество домов на продажу в районе (Propertycount)\n",
    "\n",
    "# отклонение (в процентах) медианного значения площади здания от его среднего значения ОТВЕТ 10% !!!!!!!\n",
    "buildarea_median = melb_data['BuildingArea'].median() \n",
    "buildarea_mean =  melb_data['BuildingArea'].mean()\n",
    "print(abs(buildarea_median / buildarea_mean))\n",
    "#deviance = abs(building_median - building_mean)/building_mean #эталон решение\n",
    "#print(round(deviance * 100, 2))"
   ]
  },
  {
   "cell_type": "code",
   "execution_count": 68,
   "metadata": {},
   "outputs": [
    {
     "data": {
      "text/plain": [
       "0    Northern Metropolitan\n",
       "Name: Regionname, dtype: object"
      ]
     },
     "execution_count": 68,
     "metadata": {},
     "output_type": "execute_result"
    }
   ],
   "source": [
    "melb_data[melb_data['Bathroom'] == 0].shape[0]#отсутствуют ванные комнаты\n",
    "melb_data[(melb_data['SellerG'] == 'Nelson') & (melb_data['Price'] > 3000000)].shape[0] #проданыриэлтерами нельсон и цена выше 3 млн\n",
    "melb_data[melb_data['BuildingArea'] == 0]['Price'].min()#минимальная стоимость участка без здания (площадь здания равна 0) \n",
    "#средняя цена объектов недвижимости в таблице melb_data с ценой менее одного миллиона, \n",
    "# в которых либо количество комнат больше пяти, либо здание моложе 2015 года\n",
    "round(melb_data[((melb_data['Rooms'] > 5) | (melb_data['YearBuilt'] > 2015)) & (melb_data['Price'] < 1000000)]['Price'].mean())\n",
    "\n",
    "#районе Мельбурна чаще всего продаются виллы и коттеджи (тип здания — h) с ценой меньше трёх миллионов\n",
    "melb_data[(melb_data['Type'] =='h') & (melb_data['Price'] < 3000000)]['Regionname'].mode()"
   ]
  },
  {
   "cell_type": "markdown",
   "metadata": {},
   "source": [
    "Оценка студентов"
   ]
  },
  {
   "cell_type": "code",
   "execution_count": 99,
   "metadata": {},
   "outputs": [
    {
     "name": "stdout",
     "output_type": "stream",
     "text": [
      "11.799999999999999\n"
     ]
    }
   ],
   "source": [
    "student_data = pd.read_csv('data/students_performance.csv', sep=',') #начинаем всегда с прочтения таблицы\n",
    "student_data.describe() #сколько всего строк в таблице  student_data.shape[0]\n",
    "student_data.loc[155, 'writing score'] #баллпо письму уконкретного ученика\n",
    "\n",
    "#student_data.info() #посмотреть пропущенные строки в детальном описании столбов #столбцы с типом object #объем памяти\n",
    "int(student_data['math score'].mean()) #средний балл по математике\n",
    "student_data['race/ethnicity'].mode() #самая крупная группа\n",
    "round(student_data[student_data['test preparation course'] == 'completed']['reading score'].mean()) #средний балл по чтению у студентов, которые посещали курсы подготовки к экзаменам\n",
    "student_data[student_data['math score'] == 0].shape[0] #сколько студентов получили по математике 0\n",
    "\n",
    "#студентов с оплачиваемым питанием средний балл по математике выше\n",
    "#чем у студентов с льготным питанием\n",
    "st_paid = student_data[student_data['lunch'] == 'standard']['math score'].mean()\n",
    "st_nopaid = student_data[student_data['lunch'] == 'free/reduced']['math score'].mean()\n",
    "st_paid > st_nopaid #True\n",
    "#print(st_paid)\n",
    "\n",
    "#медианный балл по письму у студентов в расовой группе А отличается от\n",
    "# среднего балла по письму у студентов в расовой группе C\n",
    "# !!!! print(round(abs(a - b)))\n",
    "st_med = student_data[student_data['race/ethnicity'] == 'group A']['writing score'].median()\n",
    "st_mean = student_data[student_data['race/ethnicity'] == 'group C']['writing score'].mean()\n",
    "#display(st_med, st_mean)\n",
    "#display(st_med - st_mean)\n",
    "\n",
    "#процент студентов, родители которых имеют высшее образование уровня бакалавриата\n",
    "# student_data[\"parental level of education\"].value_counts(normalize=True)\n",
    "st_par = student_data[student_data['parental level of education'] == \"bachelor's degree\"].shape[0]\n",
    "print((st_par / 1000)*100)"
   ]
  }
 ],
 "metadata": {
  "kernelspec": {
   "display_name": "Python 3.9.10 64-bit",
   "language": "python",
   "name": "python3"
  },
  "language_info": {
   "codemirror_mode": {
    "name": "ipython",
    "version": 3
   },
   "file_extension": ".py",
   "mimetype": "text/x-python",
   "name": "python",
   "nbconvert_exporter": "python",
   "pygments_lexer": "ipython3",
   "version": "3.9.10"
  },
  "orig_nbformat": 4,
  "vscode": {
   "interpreter": {
    "hash": "7a4b96c1986ca677e6d2ebfd9e4fc5687c706e8b683bd809e2bb5f8e7e7a77b7"
   }
  }
 },
 "nbformat": 4,
 "nbformat_minor": 2
}
