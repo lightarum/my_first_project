{
 "cells": [
  {
   "cell_type": "markdown",
   "metadata": {},
   "source": [
    "## Дипломный проект на курсе Data Science школа SkillFactory\n",
    "# «Модель прогнозирования стоимости жилья для агентства недвижимости»"
   ]
  },
  {
   "cell_type": "markdown",
   "metadata": {},
   "source": [
    "**Цель:** разработать модель, которая позволила бы агентству недвижимости обойти конкурентов по скорости и качеству совершения сделок."
   ]
  },
  {
   "cell_type": "markdown",
   "metadata": {},
   "source": [
    "**Поставленные задачи:**\n",
    "1. Провести разведывательный анализ и очистку исходных данных. Обратите внимание, что данные в таблице реальные: в результате во многих признаках присутствуют дублирующиеся категории, ошибки ввода, жаргонные сокращения и т .д. Вам предстоит отыскать закономерности, самостоятельно расшифровать все сокращения, найти синонимы в данных, обработать пропуски и удалить выбросы. \n",
    "2. Выделить наиболее значимые факторы, влияющие на стоимость недвижимости.\n",
    "3. Построить модель для прогнозирования стоимости недвижимости.\n",
    "4. Разработать небольшой веб-сервис, на вход которому поступают данные о некоторой выставленной на продажу недвижимости, а сервис прогнозирует его стоимость."
   ]
  },
  {
   "cell_type": "markdown",
   "metadata": {},
   "source": [
    "**Описание данных:**<br>\n",
    "<br>\n",
    "➔ 'status' — статус продажи;<br>\n",
    "➔ 'private pool' и 'PrivatePool' — наличие собственного бассейна;<br>\n",
    "➔ 'propertyType' — тип объекта недвижимости;<br>\n",
    "➔ 'street' — адрес объекта;<br>\n",
    "➔ 'baths' — количество ванных комнат;<br>\n",
    "➔ 'homeFacts' — сведения о строительстве объекта (содержит несколько\n",
    "типов сведений, влияющих на оценку объекта);<br>\n",
    "➔ 'fireplace' — наличие камина;<br>\n",
    "➔ 'city' — город;<br>\n",
    "➔ 'schools' — сведения о школах в районе;<br>\n",
    "➔ 'sqft' — площадь в футах;<br>\n",
    "➔ 'zipcode' — почтовый индекс;<br>\n",
    "➔ 'beds' — количество спален;<br>\n",
    "➔ 'state' — штат;<br>\n",
    "➔ 'stories' — количество этажей;<br>\n",
    "➔ 'mls-id' и 'MlsId' — идентификатор MLS (Multiple Listing Service, система\n",
    "мультилистинга);<br><br>\n",
    "\n",
    "➔ **'target'** — цена объекта недвижимости (целевой признак, который\n",
    "необходимо спрогнозировать)."
   ]
  },
  {
   "cell_type": "code",
   "execution_count": 3,
   "metadata": {},
   "outputs": [],
   "source": [
    "import numpy as np \n",
    "import pandas as pd\n",
    "\n",
    "# импортируем библиотеки для визуализации\n",
    "import matplotlib.pyplot as plt\n",
    "import seaborn as sns \n",
    "\n",
    "# импортируем модуль регулярных выражений\n",
    "import re"
   ]
  },
  {
   "cell_type": "code",
   "execution_count": 4,
   "metadata": {},
   "outputs": [],
   "source": [
    "# зафиусируем RANDOM_SEED\n",
    "RANDOM_SEED = 42"
   ]
  },
  {
   "cell_type": "code",
   "execution_count": 5,
   "metadata": {},
   "outputs": [],
   "source": [
    "# зафиксируем версию пакетов\n",
    "!pip freeze > requirements.txt"
   ]
  },
  {
   "cell_type": "markdown",
   "metadata": {},
   "source": [
    "## 1. Знакомство с данными, первичная обработка"
   ]
  },
  {
   "cell_type": "code",
   "execution_count": 6,
   "metadata": {},
   "outputs": [
    {
     "data": {
      "text/html": [
       "<div>\n",
       "<style scoped>\n",
       "    .dataframe tbody tr th:only-of-type {\n",
       "        vertical-align: middle;\n",
       "    }\n",
       "\n",
       "    .dataframe tbody tr th {\n",
       "        vertical-align: top;\n",
       "    }\n",
       "\n",
       "    .dataframe thead th {\n",
       "        text-align: right;\n",
       "    }\n",
       "</style>\n",
       "<table border=\"1\" class=\"dataframe\">\n",
       "  <thead>\n",
       "    <tr style=\"text-align: right;\">\n",
       "      <th></th>\n",
       "      <th>status</th>\n",
       "      <th>private pool</th>\n",
       "      <th>propertyType</th>\n",
       "      <th>street</th>\n",
       "      <th>baths</th>\n",
       "      <th>homeFacts</th>\n",
       "      <th>fireplace</th>\n",
       "      <th>city</th>\n",
       "      <th>schools</th>\n",
       "      <th>sqft</th>\n",
       "      <th>zipcode</th>\n",
       "      <th>beds</th>\n",
       "      <th>state</th>\n",
       "      <th>stories</th>\n",
       "      <th>mls-id</th>\n",
       "      <th>PrivatePool</th>\n",
       "      <th>MlsId</th>\n",
       "      <th>target</th>\n",
       "    </tr>\n",
       "  </thead>\n",
       "  <tbody>\n",
       "    <tr>\n",
       "      <th>0</th>\n",
       "      <td>Active</td>\n",
       "      <td>NaN</td>\n",
       "      <td>Single Family Home</td>\n",
       "      <td>240 Heather Ln</td>\n",
       "      <td>3.5</td>\n",
       "      <td>{'atAGlanceFacts': [{'factValue': '2019', 'fac...</td>\n",
       "      <td>Gas Logs</td>\n",
       "      <td>Southern Pines</td>\n",
       "      <td>[{'rating': ['4', '4', '7', 'NR', '4', '7', 'N...</td>\n",
       "      <td>2900</td>\n",
       "      <td>28387</td>\n",
       "      <td>4</td>\n",
       "      <td>NC</td>\n",
       "      <td>NaN</td>\n",
       "      <td>NaN</td>\n",
       "      <td>NaN</td>\n",
       "      <td>611019</td>\n",
       "      <td>$418,000</td>\n",
       "    </tr>\n",
       "    <tr>\n",
       "      <th>1</th>\n",
       "      <td>for sale</td>\n",
       "      <td>NaN</td>\n",
       "      <td>single-family home</td>\n",
       "      <td>12911 E Heroy Ave</td>\n",
       "      <td>3 Baths</td>\n",
       "      <td>{'atAGlanceFacts': [{'factValue': '2019', 'fac...</td>\n",
       "      <td>NaN</td>\n",
       "      <td>Spokane Valley</td>\n",
       "      <td>[{'rating': ['4/10', 'None/10', '4/10'], 'data...</td>\n",
       "      <td>1,947 sqft</td>\n",
       "      <td>99216</td>\n",
       "      <td>3 Beds</td>\n",
       "      <td>WA</td>\n",
       "      <td>2.0</td>\n",
       "      <td>NaN</td>\n",
       "      <td>NaN</td>\n",
       "      <td>201916904</td>\n",
       "      <td>$310,000</td>\n",
       "    </tr>\n",
       "    <tr>\n",
       "      <th>2</th>\n",
       "      <td>for sale</td>\n",
       "      <td>NaN</td>\n",
       "      <td>single-family home</td>\n",
       "      <td>2005 Westridge Rd</td>\n",
       "      <td>2 Baths</td>\n",
       "      <td>{'atAGlanceFacts': [{'factValue': '1961', 'fac...</td>\n",
       "      <td>yes</td>\n",
       "      <td>Los Angeles</td>\n",
       "      <td>[{'rating': ['8/10', '4/10', '8/10'], 'data': ...</td>\n",
       "      <td>3,000 sqft</td>\n",
       "      <td>90049</td>\n",
       "      <td>3 Beds</td>\n",
       "      <td>CA</td>\n",
       "      <td>1.0</td>\n",
       "      <td>NaN</td>\n",
       "      <td>yes</td>\n",
       "      <td>FR19221027</td>\n",
       "      <td>$2,895,000</td>\n",
       "    </tr>\n",
       "    <tr>\n",
       "      <th>3</th>\n",
       "      <td>for sale</td>\n",
       "      <td>NaN</td>\n",
       "      <td>single-family home</td>\n",
       "      <td>4311 Livingston Ave</td>\n",
       "      <td>8 Baths</td>\n",
       "      <td>{'atAGlanceFacts': [{'factValue': '2006', 'fac...</td>\n",
       "      <td>yes</td>\n",
       "      <td>Dallas</td>\n",
       "      <td>[{'rating': ['9/10', '9/10', '10/10', '9/10'],...</td>\n",
       "      <td>6,457 sqft</td>\n",
       "      <td>75205</td>\n",
       "      <td>5 Beds</td>\n",
       "      <td>TX</td>\n",
       "      <td>3.0</td>\n",
       "      <td>NaN</td>\n",
       "      <td>NaN</td>\n",
       "      <td>14191809</td>\n",
       "      <td>$2,395,000</td>\n",
       "    </tr>\n",
       "    <tr>\n",
       "      <th>4</th>\n",
       "      <td>for sale</td>\n",
       "      <td>NaN</td>\n",
       "      <td>lot/land</td>\n",
       "      <td>1524 Kiscoe St</td>\n",
       "      <td>NaN</td>\n",
       "      <td>{'atAGlanceFacts': [{'factValue': '', 'factLab...</td>\n",
       "      <td>NaN</td>\n",
       "      <td>Palm Bay</td>\n",
       "      <td>[{'rating': ['4/10', '5/10', '5/10'], 'data': ...</td>\n",
       "      <td>NaN</td>\n",
       "      <td>32908</td>\n",
       "      <td>NaN</td>\n",
       "      <td>FL</td>\n",
       "      <td>NaN</td>\n",
       "      <td>NaN</td>\n",
       "      <td>NaN</td>\n",
       "      <td>861745</td>\n",
       "      <td>$5,000</td>\n",
       "    </tr>\n",
       "  </tbody>\n",
       "</table>\n",
       "</div>"
      ],
      "text/plain": [
       "     status private pool        propertyType               street    baths  \\\n",
       "0    Active          NaN  Single Family Home       240 Heather Ln      3.5   \n",
       "1  for sale          NaN  single-family home    12911 E Heroy Ave  3 Baths   \n",
       "2  for sale          NaN  single-family home    2005 Westridge Rd  2 Baths   \n",
       "3  for sale          NaN  single-family home  4311 Livingston Ave  8 Baths   \n",
       "4  for sale          NaN            lot/land       1524 Kiscoe St      NaN   \n",
       "\n",
       "                                           homeFacts fireplace  \\\n",
       "0  {'atAGlanceFacts': [{'factValue': '2019', 'fac...  Gas Logs   \n",
       "1  {'atAGlanceFacts': [{'factValue': '2019', 'fac...       NaN   \n",
       "2  {'atAGlanceFacts': [{'factValue': '1961', 'fac...       yes   \n",
       "3  {'atAGlanceFacts': [{'factValue': '2006', 'fac...       yes   \n",
       "4  {'atAGlanceFacts': [{'factValue': '', 'factLab...       NaN   \n",
       "\n",
       "             city                                            schools  \\\n",
       "0  Southern Pines  [{'rating': ['4', '4', '7', 'NR', '4', '7', 'N...   \n",
       "1  Spokane Valley  [{'rating': ['4/10', 'None/10', '4/10'], 'data...   \n",
       "2     Los Angeles  [{'rating': ['8/10', '4/10', '8/10'], 'data': ...   \n",
       "3          Dallas  [{'rating': ['9/10', '9/10', '10/10', '9/10'],...   \n",
       "4        Palm Bay  [{'rating': ['4/10', '5/10', '5/10'], 'data': ...   \n",
       "\n",
       "         sqft zipcode    beds state stories mls-id PrivatePool       MlsId  \\\n",
       "0        2900   28387       4    NC     NaN    NaN         NaN      611019   \n",
       "1  1,947 sqft   99216  3 Beds    WA     2.0    NaN         NaN   201916904   \n",
       "2  3,000 sqft   90049  3 Beds    CA     1.0    NaN         yes  FR19221027   \n",
       "3  6,457 sqft   75205  5 Beds    TX     3.0    NaN         NaN    14191809   \n",
       "4         NaN   32908     NaN    FL     NaN    NaN         NaN      861745   \n",
       "\n",
       "       target  \n",
       "0    $418,000  \n",
       "1    $310,000  \n",
       "2  $2,895,000  \n",
       "3  $2,395,000  \n",
       "4      $5,000  "
      ]
     },
     "execution_count": 6,
     "metadata": {},
     "output_type": "execute_result"
    }
   ],
   "source": [
    "df = pd.read_csv('data/data.csv')\n",
    "df.head()"
   ]
  },
  {
   "cell_type": "code",
   "execution_count": 7,
   "metadata": {},
   "outputs": [
    {
     "name": "stdout",
     "output_type": "stream",
     "text": [
      "<class 'pandas.core.frame.DataFrame'>\n",
      "RangeIndex: 377185 entries, 0 to 377184\n",
      "Data columns (total 18 columns):\n",
      " #   Column        Non-Null Count   Dtype \n",
      "---  ------        --------------   ----- \n",
      " 0   status        337267 non-null  object\n",
      " 1   private pool  4181 non-null    object\n",
      " 2   propertyType  342452 non-null  object\n",
      " 3   street        377183 non-null  object\n",
      " 4   baths         270847 non-null  object\n",
      " 5   homeFacts     377185 non-null  object\n",
      " 6   fireplace     103115 non-null  object\n",
      " 7   city          377151 non-null  object\n",
      " 8   schools       377185 non-null  object\n",
      " 9   sqft          336608 non-null  object\n",
      " 10  zipcode       377185 non-null  object\n",
      " 11  beds          285903 non-null  object\n",
      " 12  state         377185 non-null  object\n",
      " 13  stories       226470 non-null  object\n",
      " 14  mls-id        24942 non-null   object\n",
      " 15  PrivatePool   40311 non-null   object\n",
      " 16  MlsId         310305 non-null  object\n",
      " 17  target        374704 non-null  object\n",
      "dtypes: object(18)\n",
      "memory usage: 51.8+ MB\n"
     ]
    }
   ],
   "source": [
    "df.info()"
   ]
  },
  {
   "cell_type": "code",
   "execution_count": 8,
   "metadata": {},
   "outputs": [
    {
     "name": "stdout",
     "output_type": "stream",
     "text": [
      "Количество строк в датасете: 377185\n"
     ]
    }
   ],
   "source": [
    "count_rows = df.shape[0]\n",
    "print(f'Количество строк в датасете: {count_rows}')"
   ]
  },
  {
   "cell_type": "markdown",
   "metadata": {},
   "source": [
    "В датасете 377185 строк и 17 признаков + столбец таргета. Все данные типа object. Почти во всех столбцах присутствуют пропуски.<br>\n",
    "Сразу удалим полные дубликаты строк, если такие есть."
   ]
  },
  {
   "cell_type": "markdown",
   "metadata": {},
   "source": [
    "### Поиск и удаление дубликатов"
   ]
  },
  {
   "cell_type": "code",
   "execution_count": 9,
   "metadata": {},
   "outputs": [
    {
     "name": "stdout",
     "output_type": "stream",
     "text": [
      "Удалено дубликатов: 50\n"
     ]
    }
   ],
   "source": [
    "#удаляем дубликаты\n",
    "df = df.drop_duplicates(ignore_index=True)\n",
    "\n",
    "# посчитаем сколько строк было удалено\n",
    "duplicate_rows = count_rows - df.shape[0]\n",
    "print(f'Удалено дубликатов: {duplicate_rows}')"
   ]
  },
  {
   "cell_type": "markdown",
   "metadata": {},
   "source": [
    "### Исследование пропусков"
   ]
  },
  {
   "cell_type": "code",
   "execution_count": 10,
   "metadata": {},
   "outputs": [
    {
     "data": {
      "text/plain": [
       "status          10.584274\n",
       "private pool    98.891378\n",
       "propertyType     9.209699\n",
       "street           0.000530\n",
       "baths           28.188315\n",
       "homeFacts        0.000000\n",
       "fireplace       72.659127\n",
       "city             0.009015\n",
       "schools          0.000000\n",
       "sqft            10.752118\n",
       "zipcode          0.000000\n",
       "beds            24.196640\n",
       "state            0.000000\n",
       "stories         39.952007\n",
       "mls-id          93.386453\n",
       "PrivatePool     89.311520\n",
       "MlsId           17.730786\n",
       "target           0.657589\n",
       "dtype: float64"
      ]
     },
     "execution_count": 10,
     "metadata": {},
     "output_type": "execute_result"
    }
   ],
   "source": [
    "df.isnull().mean() * 100"
   ]
  },
  {
   "cell_type": "markdown",
   "metadata": {},
   "source": [
    "Признаки mls-id и MlsId являются внутренними риэлторскими метками, никак не влияющими на стоимость квартиры, поэтому данные столбцы можно удалить."
   ]
  },
  {
   "cell_type": "code",
   "execution_count": 11,
   "metadata": {},
   "outputs": [],
   "source": [
    "# Удаляем столбец PrivatePool\n",
    "df = df.drop(['MlsId', 'mls-id'], axis=1)"
   ]
  },
  {
   "cell_type": "markdown",
   "metadata": {},
   "source": [
    "### Столбцы private pool и PrivatePool, stories и fireplace"
   ]
  },
  {
   "cell_type": "markdown",
   "metadata": {},
   "source": [
    "Самое большое количество пропусков в столбцах: PrivatePool и private pool, > 89%. Объединим данные столбцы, считая пропуски в них за отсутствие бассейна."
   ]
  },
  {
   "cell_type": "code",
   "execution_count": 12,
   "metadata": {},
   "outputs": [
    {
     "name": "stdout",
     "output_type": "stream",
     "text": [
      "[nan 'Yes']\n",
      "[nan 'yes' 'Yes']\n"
     ]
    }
   ],
   "source": [
    "# посмотрим, какие варианты значений содержат столбцы\n",
    "print(df['private pool'].unique())\n",
    "print(df['PrivatePool'].unique())\n",
    "\n",
    "# создаем третий столбец и заполняем его данными из двух, меняем данные на булевые переменные\n",
    "df['private_pool_final'] = df['private pool'].fillna('') + df['PrivatePool'].fillna('')\n",
    "df['private_pool_final'] = df['private_pool_final'].replace(['yes', 'Yes'], True)\n",
    "df['private_pool_final'] = df['private_pool_final'].replace('', False)\n",
    "# проеверим уникальные значения в новом столбце\n",
    "df['private_pool_final'].unique()\n",
    "# удаляем обработанные столбцы\n",
    "df = df.drop(['private pool', 'PrivatePool'], axis=1)"
   ]
  },
  {
   "cell_type": "markdown",
   "metadata": {},
   "source": [
    "В столбце fireplace 73% пропусков, посмотрим на содержание столбца."
   ]
  },
  {
   "cell_type": "code",
   "execution_count": 13,
   "metadata": {},
   "outputs": [
    {
     "data": {
      "text/plain": [
       "yes                                                                     50353\n",
       "Yes                                                                     20856\n",
       "1                                                                       14544\n",
       "2                                                                        2432\n",
       "Not Applicable                                                           1993\n",
       "                                                                        ...  \n",
       "Free-standing, Insert, Wood                                                 1\n",
       "Wood Burning, Attached Fireplace Doors/Screen, Electric, Gas Starter        1\n",
       "One, Living Room                                                            1\n",
       "FAMILYRM, Great Room, Living Room                                           1\n",
       "Ceiling Fan, SMAPL, Utility Connection, Walk-In Closets                     1\n",
       "Name: fireplace, Length: 1653, dtype: int64"
      ]
     },
     "execution_count": 13,
     "metadata": {},
     "output_type": "execute_result"
    }
   ],
   "source": [
    "df['fireplace'].value_counts()"
   ]
  },
  {
   "cell_type": "markdown",
   "metadata": {},
   "source": [
    "Изучив столбец наличия камина (fireplace), заметила, что в данный столбец писали информацию не только по каминам, но так же общую информацию по объекту недвижимости (такую как: наличие инженерных сетей, гардеробных и тд).Уникальных записей 1653. К сожалению, отфильтровать реальную информацию по наличию камина не представляется возможным, а пропуски в данном столбце очень большой (73%). Поэтому данный столбец удаляем. <br>\n",
    "В столбце этажей (stories) 40% пропусков, так как определить на каком этаже квартира в доме затруднительно, а оставлять пропуски нельзя, придется удалить данный столбец тоже."
   ]
  },
  {
   "cell_type": "code",
   "execution_count": 14,
   "metadata": {},
   "outputs": [],
   "source": [
    "df = df.drop(['stories', 'fireplace'], axis=1)"
   ]
  },
  {
   "cell_type": "markdown",
   "metadata": {},
   "source": [
    "### Пропуски и обработка столбцов beds, sqft, baths и city"
   ]
  },
  {
   "cell_type": "markdown",
   "metadata": {},
   "source": [
    "Столбец beds"
   ]
  },
  {
   "cell_type": "code",
   "execution_count": 15,
   "metadata": {},
   "outputs": [],
   "source": [
    "# переносим данные по площади в другие столбцы, они нам могут понадобиться для заполнения пропусков в столбце sqft\n",
    "df['sqft_from_beds'] = df['beds'].str.extract(r'(\\d+,\\d+)\\s+sqft', expand=False)\n",
    "df['acres_from_beds'] = df['beds'].str.extract(r'([\\d.]+)\\s+acres', expand=False)"
   ]
  },
  {
   "cell_type": "code",
   "execution_count": 16,
   "metadata": {},
   "outputs": [
    {
     "name": "stdout",
     "output_type": "stream",
     "text": [
      "Пропуски в столбце beds_final: 0.0 %\n"
     ]
    }
   ],
   "source": [
    "# удаляем лишние данные\n",
    "df['beds'] = df['beds'].str.replace(r'(\\d+,\\d+)\\s+sqft', '', regex=True)\n",
    "df['beds'] = df['beds'].str.replace(r'([\\d.]+)\\s+acres', '', regex=True)\n",
    "\n",
    "# точечно изменяем некоторые значения\n",
    "df['beds'] = df['beds'].replace(['1 Bath, 2 Bedrooms, Cable TV Available, Dining Room, Eat-In Kitchen, Living Room', '1 Bath, 2 Bedrooms, Living Room, Range/Oven, Refrigerator', '1 Bath, 2 Bedrooms', '1 Bath, 2 Bedrooms, Eat-In Kitchen, Living Room, Range/Oven, Refrigerator'], 2)\n",
    "df['beds'] = df['beds'].replace(['1 Bath, 3 or More Bedrooms, Cable TV Available, Dining Room, Eat-In Kitchen, Living Room, Range/Oven, Refrigerator', '3 or More Bedrooms, Dining Room, Living Room, Range/Oven, Refrigerator', '3 or More Bedrooms', '2 Baths, 3 or More Bedrooms'], 3)\n",
    "df['beds'] = df['beds'].replace([\"Based on Redfin's St Johns data, we estimate the home's value is $360,731, which is 2.2% less than its current list price.\", \"Based on Redfin's Raleigh data, we estimate the home's value is $708,248, which is 1.2% more than its current list price.\", '-- bd', '-- sqft', '4 sqft', '60 sqft', '1 acre', '840 sqft', '540 sqft', '100 sqft', '871 sqft', '640 sqft', '831 sqft', '448 sqft', '248 sqft', '# Bedrooms 1st Floor'], 0)\n",
    "\n",
    "# переносим данные по спальням в другие столбецы\n",
    "df['beds_final1'] = df['beds'].str.extract(r'(\\d+)\\s*(?:Beds|bd)', expand=False)\n",
    "df['beds_final2'] = df['beds'].str.extract(r'(\\d+\\.\\d+|\\d+)')\n",
    "\n",
    "# создаем итоговы столбец beds_final и заполняем его данными из двух, заменяем пропуски на 0\n",
    "df['beds_final'] = df['beds_final1'].fillna(0)\n",
    "df['beds_final'] = df['beds_final2'].fillna(0)\n",
    "\n",
    "# проверяем на пропуски\n",
    "beds_nulldata = df['beds_final'].isnull().mean()*100\n",
    "print(f'Пропуски в столбце beds_final: {beds_nulldata} %')\n",
    "\n",
    "# меняем тип данных\n",
    "df['beds_final'] = df['beds_final'].astype(float)\n",
    "\n",
    "# удаляем отработанные столбцы\n",
    "df = df.drop(['beds_final1', 'beds_final2', 'beds'], axis=1)"
   ]
  },
  {
   "cell_type": "markdown",
   "metadata": {},
   "source": [
    "Столбец sqft"
   ]
  },
  {
   "cell_type": "code",
   "execution_count": 17,
   "metadata": {},
   "outputs": [
    {
     "name": "stdout",
     "output_type": "stream",
     "text": [
      "Количество пропущенных значений: 10.75 %\n"
     ]
    },
    {
     "data": {
      "text/plain": [
       "array(['2900', '1,947 sqft', '3,000 sqft', '6,457 sqft', nan, '897 sqft',\n",
       "       '1,507', '3588', '1,930', '1,300 sqft', '3,130', '2,839 sqft',\n",
       "       'Total interior livable area: 1,820 sqft', '2,454', '2,203',\n",
       "       '3,325', '3,080 sqft', '1,612 sqft', '1,731 sqft',\n",
       "       'Total interior livable area: 5,266 sqft'], dtype=object)"
      ]
     },
     "execution_count": 17,
     "metadata": {},
     "output_type": "execute_result"
    }
   ],
   "source": [
    "# посмотрим на содержание столбца и пропуски\n",
    "sqft_isnulldata = df['sqft'].isnull().mean()*100\n",
    "print(f'Количество пропущенных значений: {sqft_isnulldata:.2f} %')\n",
    "df['sqft'].unique()[0:20]"
   ]
  },
  {
   "cell_type": "code",
   "execution_count": 18,
   "metadata": {},
   "outputs": [
    {
     "name": "stdout",
     "output_type": "stream",
     "text": [
      "Количество пропущенных значений sqft: 41370\n"
     ]
    }
   ],
   "source": [
    "# оставляем только числовое значение без ,\n",
    "df['sqft'] = df['sqft'].str.replace(',', '').str.extract('(\\d+)')\n",
    "\n",
    "# посмотрим, сколько пропусков в столбце\n",
    "sqft_dataisnull = df['sqft'].isnull().sum()\n",
    "print(f'Количество пропущенных значений sqft: {sqft_dataisnull}')"
   ]
  },
  {
   "cell_type": "markdown",
   "metadata": {},
   "source": [
    "Попробуем заполнить пропуски в столбце с площадью данными из столбца beds (sqft_from_beds и acres_from_beds)"
   ]
  },
  {
   "cell_type": "code",
   "execution_count": 19,
   "metadata": {},
   "outputs": [
    {
     "name": "stdout",
     "output_type": "stream",
     "text": [
      "Количество пропущенных значений sqft после дополнения: 40049\n"
     ]
    }
   ],
   "source": [
    "# убираем лишние знаки\n",
    "df['sqft_from_beds'] = df['sqft_from_beds'].replace(',', '', regex=True)\n",
    "\n",
    "# заполняем столбец данными из sqft_from_beds\n",
    "df['sqft'] = df['sqft'].fillna(df['sqft_from_beds'])\n",
    "\n",
    "# проверим, сколько пропусков в столбце столо теперь\n",
    "sqft_dataisnull_1 = df['sqft'].isnull().sum()\n",
    "print(f'Количество пропущенных значений sqft после дополнения: {sqft_dataisnull_1}')"
   ]
  },
  {
   "cell_type": "code",
   "execution_count": 20,
   "metadata": {},
   "outputs": [
    {
     "name": "stdout",
     "output_type": "stream",
     "text": [
      "Количество пропущенных значений sqft после второго дополнения: 38458\n"
     ]
    }
   ],
   "source": [
    "# посмотрим содержание столбца\n",
    "df['acres_from_beds'].unique()[0:500]\n",
    "\n",
    "# переведем столбец в числовое значение и создадим новый столбец, где акры переведем в футы (1 акр = 43560 футов кв.)\n",
    "df['acres_from_beds'] = df['acres_from_beds'].astype(float)\n",
    "df['acres_from_beds_new'] = df['acres_from_beds'] * 43560\n",
    "\n",
    "# заполняем столбец данными из sqft_from_beds\n",
    "df['sqft'] = df['sqft'].fillna(df['acres_from_beds_new'])\n",
    "\n",
    "# проверим, сколько пропусков в столбце столо теперь\n",
    "sqft_dataisnull_2 = df['sqft'].isnull().sum()\n",
    "print(f'Количество пропущенных значений sqft после второго дополнения: {sqft_dataisnull_2}')"
   ]
  },
  {
   "cell_type": "code",
   "execution_count": 21,
   "metadata": {},
   "outputs": [],
   "source": [
    "# заменяем пропуски на значение 0\n",
    "df['sqft'] = df['sqft'].fillna(0)\n",
    "\n",
    "# меняем тип данных\n",
    "df['sqft'] = df['sqft'].astype(int)\n",
    "\n",
    "# удаляем лишние столбцы\n",
    "df = df.drop(['sqft_from_beds', 'acres_from_beds', 'acres_from_beds_new'], axis=1)"
   ]
  },
  {
   "cell_type": "markdown",
   "metadata": {},
   "source": [
    "Столбец baths"
   ]
  },
  {
   "cell_type": "code",
   "execution_count": 22,
   "metadata": {},
   "outputs": [
    {
     "name": "stdout",
     "output_type": "stream",
     "text": [
      "Количество пропущенных значений: 28.19 %\n"
     ]
    },
    {
     "data": {
      "text/plain": [
       "array(['3.5', '3 Baths', '2 Baths', '8 Baths', nan, '2', '3',\n",
       "       'Bathrooms: 2', '1,750', '4 Baths', '2 ba', 'Bathrooms: 5',\n",
       "       '1,000', '7 Baths', '2.0', '3.0', 'Bathrooms: 1', '4.0',\n",
       "       '2.1 Baths', '2.5 Baths'], dtype=object)"
      ]
     },
     "execution_count": 22,
     "metadata": {},
     "output_type": "execute_result"
    }
   ],
   "source": [
    "# посмотрим на содержание столбца и пропуски\n",
    "baths_isnulldata = df['baths'].isnull().mean()*100\n",
    "print(f'Количество пропущенных значений: {baths_isnulldata:.2f} %')\n",
    "df['baths'].unique()[0:20]"
   ]
  },
  {
   "cell_type": "code",
   "execution_count": 23,
   "metadata": {},
   "outputs": [],
   "source": [
    "# удалим из данных буквы и пробелы\n",
    "df['baths'] = df['baths'].str.replace('[a-zA-Z+:]','', regex=True)\n",
    "\n",
    "# точечно меняем некоторые данные\n",
    "df['baths'] = df['baths'].replace(['~', '0 / 0', '. . ', '-- ', '—'], 0)\n",
    "df['baths'] = df['baths'].replace(['1 / 1-0 / 1-0 / 1-0','1-0 / 1-0 / 1', '1 / 1 / 1 / 1', '1-2 ', '1,000'], 1)\n",
    "df['baths'] = df['baths'].replace(['2-1 / 2-1 / 1-1 / 1-1', '2,000'], 2)\n",
    "df['baths'] = df['baths'].replace(['3-1 / 2-2', '3,000'], 3)\n",
    "df['baths'] = df['baths'].replace('116 / 116 / 116', 116)\n",
    "df['baths'] = df['baths'].replace('7,500', 7.5)\n",
    "df['baths'] = df['baths'].replace('5,000', 5)\n",
    "df['baths'] = df['baths'].replace('3,500', 3.5)\n",
    "df['baths'] = df['baths'].replace('2,250', 2.25)\n",
    "df['baths'] = df['baths'].replace('1,250', 1.25)\n",
    "df['baths'] = df['baths'].replace('2,500', 2.5)\n",
    "df['baths'] = df['baths'].replace('2,750', 2.75)\n",
    "df['baths'] = df['baths'].replace('4,000', 4)\n",
    "df['baths'] = df['baths'].replace('1,750', 1.75)\n",
    "df['baths'] = df['baths'].replace('1,500', 1.5)\n",
    "\n",
    "# оставляем только числовое значение\n",
    "df['baths'] = df['baths'].str.extract(r'(\\d+\\.\\d+|\\d+)')"
   ]
  },
  {
   "cell_type": "markdown",
   "metadata": {},
   "source": [
    "Так как пропуски в данном столбце можно считать за отсутствие ванной, то заменяем пропуски на 0"
   ]
  },
  {
   "cell_type": "code",
   "execution_count": 24,
   "metadata": {},
   "outputs": [
    {
     "data": {
      "text/plain": [
       "array([  3.5,   3. ,   2. ,   8. ,   0. ,   4. ,   5. ,   7. ,   1. ,\n",
       "         2.1,   2.5,   4.5,   6. ,   5.5,   1.5,   9. ,  12. , 750. ,\n",
       "        10. ,  19. ])"
      ]
     },
     "execution_count": 24,
     "metadata": {},
     "output_type": "execute_result"
    }
   ],
   "source": [
    "# земеняем пропуски на 0\n",
    "df['baths'] = df['baths'].fillna(0)\n",
    "\n",
    "# меняем тип данных\n",
    "df['baths'] = df['baths'].astype(float)\n",
    "\n",
    "df['baths'].unique()[0:20]"
   ]
  },
  {
   "cell_type": "markdown",
   "metadata": {},
   "source": [
    "Столбец city"
   ]
  },
  {
   "cell_type": "code",
   "execution_count": 25,
   "metadata": {},
   "outputs": [
    {
     "name": "stdout",
     "output_type": "stream",
     "text": [
      "{'38732', '33954', '78045', '34473', '34744', '32668', '77032', '34474', '32686', '34481', '33955', '34747', '32179', '34488', '20003', '34432', '33126', '34741'}\n"
     ]
    }
   ],
   "source": [
    "# найдем пропущенные значения в столбце city\n",
    "city_isnulldata = df['city'].isnull()\n",
    "\n",
    "# найдем список индексов, у которых нет города\n",
    "print(set(list(df[city_isnulldata]['zipcode'])))"
   ]
  },
  {
   "cell_type": "markdown",
   "metadata": {},
   "source": [
    "При формировании списка индексов, где пропущены города, оказалось, что таких пар всего 18, поэтому я решила вручную создать список таких пар (смотреть по индексу к какому городу принадлежит он) и заполнить пропуски по городам через индексы"
   ]
  },
  {
   "cell_type": "code",
   "execution_count": 26,
   "metadata": {},
   "outputs": [
    {
     "name": "stdout",
     "output_type": "stream",
     "text": [
      "Количество пропущенных значений столбец city: 0.00 %\n"
     ]
    }
   ],
   "source": [
    "zipcode_city_list = {'20003':'Washington', '32179':'Ocklawaha', '32668':'Morriston', '32686':'Reddick', '33126':'Miami', '33954':'Port Charlotte',\n",
    "                     '33955':'Punta Gorda', '34432':'Dunnellon','34473':'Ocala', '34474':'Ocala', '34481':'Ocala', '34488':'Silver Springs',\n",
    "                     '34741':'KISSIMMEE', '34744':'Kissimmee', '34747':'Kissimmee\t', '38732':'Cleveland', '77032':'Houston', '78045':'Laredo'}\n",
    "\n",
    "def find_city (zipcode):\n",
    "    # проверяем, есть ли zipcode в словаре, и если есть, возвращаем соответствующее значение\n",
    "    if zipcode in zipcode_city_list:\n",
    "        return zipcode_city_list[zipcode]\n",
    "    else:\n",
    "        return None  # если zipcode не найден, возвращаем None\n",
    "\n",
    "df['city_add'] = df['zipcode'].apply(find_city)\n",
    "\n",
    "# применяем функцию к столбцу 'zipcode' и записываем результаты в столбец 'city_add'\n",
    "df['city_add'] = df['zipcode'].apply(find_city)\n",
    "\n",
    "# заполняем пропущенные данные в столбце city по столбцу city_add\n",
    "df['city'].fillna(df['city_add'], inplace=True)\n",
    "\n",
    "# проверяем остались ли пропущенные значения\n",
    "city_isnulldata_new = df['city'].isnull().mean()*100\n",
    "print(f'Количество пропущенных значений столбец city: {city_isnulldata_new:.2f} %')\n",
    "\n",
    "# удаляем ненужный столбец\n",
    "df = df.drop(['city_add'], axis=1)"
   ]
  },
  {
   "cell_type": "markdown",
   "metadata": {},
   "source": [
    "### Пропуски и обработка столбца status и propertyType"
   ]
  },
  {
   "cell_type": "markdown",
   "metadata": {},
   "source": [
    "Cтолбец status"
   ]
  },
  {
   "cell_type": "code",
   "execution_count": 27,
   "metadata": {},
   "outputs": [
    {
     "name": "stdout",
     "output_type": "stream",
     "text": [
      "Количество уникальных значений столбца status: 159\n"
     ]
    },
    {
     "data": {
      "text/plain": [
       "array(['Active', 'for sale', nan, 'New construction', 'New', 'For sale',\n",
       "       'Pending', 'P', 'Active/Contingent', 'Pre-foreclosure / auction',\n",
       "       ' / auction', 'Under Contract', 'Under Contract   Showing',\n",
       "       'Pre-foreclosure', 'Under Contract Backups', 'foreclosure',\n",
       "       'Active Under Contract', 'Foreclosed', 'Option Pending',\n",
       "       'Under Contract Show', 'for rent', 'Auction', 'A Active',\n",
       "       'Contingent', 'Pending   Continue To Show', 'Price Change',\n",
       "       'Back on Market', 'Active Option', 'Foreclosure', 'recently sold',\n",
       "       'Coming soon: Nov 21.', 'Contingent Finance And Inspection',\n",
       "       'Coming soon: Dec 4.', 'P Pending Sale', 'Coming soon: Nov 23.',\n",
       "       'Active With Contingencies', 'Pending Ab', 'Pf', 'Contingent Show',\n",
       "       'Contract P', 'Contingent Take Backup', 'Apartment for rent',\n",
       "       'Backup Contract', 'Option Contract', 'Pending Continue To Show',\n",
       "       'pending', 'Pending Inspection', 'Active Option Contract', 'C',\n",
       "       'Auction - Active'], dtype=object)"
      ]
     },
     "execution_count": 27,
     "metadata": {},
     "output_type": "execute_result"
    }
   ],
   "source": [
    "# посмотрим содержание столбца\n",
    "uniq_status_sum = df['status'].nunique()\n",
    "print(f'Количество уникальных значений столбца status: {uniq_status_sum}')\n",
    "\n",
    "df['status'].unique()[:50]"
   ]
  },
  {
   "cell_type": "code",
   "execution_count": 28,
   "metadata": {},
   "outputs": [
    {
     "data": {
      "text/plain": [
       "10.584273536001696"
      ]
     },
     "execution_count": 28,
     "metadata": {},
     "output_type": "execute_result"
    }
   ],
   "source": [
    "# смотрим сколько пропусков в столбце\n",
    "df['status'].isnull().mean()*100"
   ]
  },
  {
   "cell_type": "markdown",
   "metadata": {},
   "source": [
    "Очень много уникальных значений, но большинство значений можно систематизировать, сократив количество уникальных значений. Создадим словарь значений. А так же заменим пропуски на 'unknown'"
   ]
  },
  {
   "cell_type": "code",
   "execution_count": 29,
   "metadata": {},
   "outputs": [],
   "source": [
    "values_status = {\n",
    "    \"For sale\": [\"for sale\", \"For sale\", \"New construction\", \"New\"],\n",
    "    \"Active\": [\n",
    "        \"Active\", \"A Active\", \"Active/Contingent\", \"Active Under Contract\", \"Active Option\", \"Auction - Active\",\n",
    "        \"Active With Contingencies\", \"Active Option Contract\", \"Active Contingency\", \"Active Backup\",\n",
    "        \"Active Contingent\", \"Active - Auction\", \"Active With Offer\", \"Active - Contingent\", \"Active with Contract\",\n",
    "        \"Temporary Active\", \"Re Activated\", \"Reactivated\"],\n",
    "    \"Pending\": [\n",
    "        \"P\", \"Pending\", \"pending\", \"P Pending Sale\", \"Pending Ab\", \"Pending Continue To Show\",\n",
    "        \"Pending Inspection\", \"Pending Offer Approval\", \"Pending In\", \"Pending W/Insp Finance\", \"Pending Fe\",\n",
    "        \"Pending W/Backup Wanted\", \"Pending Backups Wanted\", \"Pending With Contingencies\", \"Lease/Purchase Pending\",\n",
    "        \"Pending Bring Backup\", \"Pending - Taking Backups\", \"Pending - Continue to Show\",\n",
    "        \"Pending Taking Backups\", \"Offer Pending Signature\", \"Pending (Do Not Show)\", \"Pending W/ Cont.\",\n",
    "        \"Pending W/Escape Clause\", \"Pending - Backup Offer Requested\", \"Pending Sale\"],\n",
    "    \"Contingent\": [\n",
    "        \"Contingent\", \"Contingent Finance And Inspection\", \"Contingent Show\",\n",
    "        \"Contingent Take Backup\", \"Contingent - Sale of Home\", \"Contingent Finance and Inspection\",\n",
    "        \"C Continue Show\", \"Contingent   Show\", \"Contingent   Release\", \"Contingent   No Show\",\n",
    "        \"CT Insp - Inspection Contingency\", \"Contingent   Foreclosure\", \"Conting Accpt Backups\",\n",
    "        \"Contingent - Financing\", \"Contingency 48 Hr (+/ )\", \"Contingency Contract\", \"Contingent Escape\"],\n",
    "    \"Under contract\": [\n",
    "        \"Under Contract\", \"Under Contract   Showing\", \"Under Contract Backups\", \"Under Contract Show\",\n",
    "        \"Under Contract - Show\", \"Under Contract - No Show\", \"Under contract\", \"U Under Contract\",\n",
    "        \"Contract Contingent On Buyer Sale\", \"Contract P\", \"Ct\", \"Uc Continue To Show\",\n",
    "        \"Under Contract Taking Back Up Offers\", \"Under Contract W/ Bckp\", \"Contract\"],\n",
    "    \"For rent\": [\"for rent\", \"Apartment for rent\", \"Condo for rent\"],\n",
    "    \"Auction\": [\"Auction\", \"Pre-foreclosure\", \"Pre-foreclosure / auction\", \"/ auction\", \"Foreclosed\", \"foreclosure\", \"Foreclosure\"],\n",
    "    \"Due diligence\": [\"Due Diligence Period\"],\n",
    "    \"Recently sold\": [\"recently sold\"],\n",
    "    \"Price change\": [\"Price Change\"],\n",
    "    \"Back on market\": [\"Back on Market\", \"Back On Market\"],\n",
    "    \"Closed\": [\"Closed\"],\n",
    "    \"Listing extended\": [\"Listing Extended\"],\n",
    "    \"Coming soon\": [\n",
    "        \"Coming soon: Nov 21.\", \"Coming soon: Dec 4.\", \"Coming soon: Nov 23.\", \"Coming soon: Nov 29.\",\n",
    "        \"Coming soon: Dec 2.\", \"Coming soon: Dec 10.\", \"Coming soon: Dec 24.\", \"Coming soon: Nov 14.\",\n",
    "        \"Coming soon: Nov 22.\", \"Coming soon: Oct 21.\", \"Coming soon: Dec 14.\", \"Coming soon: Oct 24.\",\n",
    "        \"Coming soon: Dec 18.\", \"Coming soon: Dec 16.\", \"Coming soon: Dec 3.\", \"Coming soon: Dec 25.\",\n",
    "        \"Coming soon: Nov 11.\", \"Coming soon: Nov 28.\", \"Coming soon: Nov 17.\", \"Coming soon: Dec 6.\",\n",
    "        \"Coming soon: Nov 27.\", \"Coming soon: Nov 26.\", \"Coming soon: Dec 7.\", \"Coming soon: Dec 27.\",\n",
    "        \"Coming soon: Dec 11.\", \"Coming soon: Dec 5.\", \"Coming soon: Nov 13.\", \"Coming soon: Nov 19.\",\n",
    "        \"Coming soon: Nov 8.\", \"Coming soon: Oct 29.\", \"Coming soon: Dec 15.\", \"Coming soon: Oct 30.\",\n",
    "        \"Coming soon: Dec 9.\", \"Coming soon: Dec 20.\", \"Coming soon: Dec 13.\", \"Coming soon: Dec 23.\",\n",
    "        \"Coming soon: Nov 30.\", \"Coming soon: Dec 1.\", \"Coming soon: Nov 5.\", \"Coming soon: Nov 12.\",\n",
    "        \"Coming soon: Nov 25.\", \"Coming soon: Nov 9.\"],\n",
    "}\n",
    "\n",
    "def change_status(row):\n",
    "    for status_new, values in values_status.items():\n",
    "        if row in values:\n",
    "            return status_new\n",
    "    return \"unknown\"\n",
    "\n",
    "# заменим значения на созданные нами обобщающие статусы\n",
    "df['status'] = df['status'].apply(change_status)"
   ]
  },
  {
   "cell_type": "code",
   "execution_count": 30,
   "metadata": {},
   "outputs": [
    {
     "name": "stdout",
     "output_type": "stream",
     "text": [
      "Количество уникальных значений столбца status: 15\n"
     ]
    }
   ],
   "source": [
    "# снова проверяем количество уникальныз значений\n",
    "uniq_status_sum = df['status'].nunique()\n",
    "print(f'Количество уникальных значений столбца status: {uniq_status_sum}')"
   ]
  },
  {
   "cell_type": "markdown",
   "metadata": {},
   "source": [
    "Столбец propertyType"
   ]
  },
  {
   "cell_type": "code",
   "execution_count": 31,
   "metadata": {},
   "outputs": [
    {
     "name": "stdout",
     "output_type": "stream",
     "text": [
      "Количество уникальных значений столбца propertyType: 1280\n"
     ]
    },
    {
     "data": {
      "text/plain": [
       "array(['Single Family Home', 'single-family home', 'lot/land',\n",
       "       'townhouse', 'Florida', nan, 'Single Family', 'coop', 'English',\n",
       "       '2 Story', 'Townhouse', 'multi-family', 'Penthouse, Split-Level',\n",
       "       'Multi-Family Home', 'Condo', 'condo', 'Land',\n",
       "       'Condo/Townhome/Row Home/Co-Op', ' ', 'Detached, Two Story',\n",
       "       '1 Story, Ranch', 'Other Style', 'Colonial', 'Transitional',\n",
       "       'High Rise', 'mobile/manufactured',\n",
       "       'Tri-Level, Northwestern Contemporary', 'Detached, One Story',\n",
       "       'Craftsman', 'Single Detached, French', '1 Story, Traditional',\n",
       "       'Single Detached, Traditional', 'Federal', 'Multi Family',\n",
       "       'apartment', 'Traditional', 'Custom', 'Cooperative',\n",
       "       'Contemporary/Modern, Traditional',\n",
       "       'Cape Cod, Contemporary, Florida, Key West', 'Single Detached',\n",
       "       'Mobile / Manufactured', 'Contemporary/Modern', 'Miscellaneous',\n",
       "       'Mfd/Mobile Home', 'Bungalow', '1 Story', 'Spanish/Mediterranean',\n",
       "       'Contemporary', 'Multi-Level, Modern'], dtype=object)"
      ]
     },
     "execution_count": 31,
     "metadata": {},
     "output_type": "execute_result"
    }
   ],
   "source": [
    "# посмотрим содержание столбца\n",
    "uniq_propertyType_sum = df['propertyType'].nunique()\n",
    "print(f'Количество уникальных значений столбца propertyType: {uniq_propertyType_sum}')\n",
    "\n",
    "df['propertyType'].unique()[:50]"
   ]
  },
  {
   "cell_type": "code",
   "execution_count": 32,
   "metadata": {},
   "outputs": [
    {
     "data": {
      "text/plain": [
       "34733"
      ]
     },
     "execution_count": 32,
     "metadata": {},
     "output_type": "execute_result"
    }
   ],
   "source": [
    "# смотрим сколько пропусков в столбце\n",
    "df['propertyType'].isnull().sum()"
   ]
  },
  {
   "cell_type": "markdown",
   "metadata": {},
   "source": [
    "Объединим схожие значения доминирующих типов, остальные заменим на other"
   ]
  },
  {
   "cell_type": "code",
   "execution_count": 33,
   "metadata": {},
   "outputs": [
    {
     "name": "stdout",
     "output_type": "stream",
     "text": [
      "Количество уникальных значений столбца propertyType: 11\n"
     ]
    },
    {
     "data": {
      "text/plain": [
       "0.0"
      ]
     },
     "execution_count": 33,
     "metadata": {},
     "output_type": "execute_result"
    }
   ],
   "source": [
    "# сначала сократим количество вариантов названий, приведя все в нижний регистр\n",
    "df['propertyType'] = df['propertyType'].str.lower()\n",
    "\n",
    "# заменим похожие названия, выделила 9 основных типов, все остальные будут unknown\n",
    "df['propertyType'] = df['propertyType'].replace(['single-family home', 'single family home', 'singlefamilyresidence', '1 story',\n",
    "                                                'one story traditional', '1 story traditional', 'detached, one story',\n",
    "                                                'single detached', 'single wide', 'single-wide mobile with land',\n",
    "                                                '1 story, contemporary', '1 story, other (see remarks)',\n",
    "                                                'single detached, french', '1 story, traditional', 'single detached, traditional',\n",
    "                                                'one story', 'one level unit', '1 1/2 story', 'single wide mh',\n",
    "                                                '1 story,traditional', '1 story, historic/older, traditional', '1 story, split level'],\n",
    "                                        'single family')\n",
    "df['propertyType'] = df['propertyType'].replace(['multi-family', 'multi-family home', 'duplex', 'triplex', 'fourplex',\n",
    "                                                 'detached, two story', '2 story, other (see remarks)',\n",
    "                                                 'multi_level', '2-story', 'two story', 'multi-level, modern', '2 stories, traditional',\n",
    "                                                 '2 stories', 'traditional', 'attached or 1/2 duplex, traditional'],\n",
    "                                        'multi family')\n",
    "df['propertyType'] = df['propertyType'].replace(['coop', 'cooperative', 'condo/townhome/row home/co-op', 'condo/townhome','condominium',\n",
    "                                                 'condo/unit', 'apartment/condo/townhouse', 'co-op', '2 story condo', 'high rise',\n",
    "                                                 '2 unit condo', 'condo/townhome, contemporary/modern, loft, traditional',\n",
    "                                                 'condo/townhome, hi-rise, resort property, vacation home, contemporary/modern',\n",
    "                                                 'condo/townhome, other (see remarks)', 'condo/townhome, french',\n",
    "                                                 'condo/townhome, hi-rise, contemporary/modern, loft', 'condo, other (see remarks)',\n",
    "                                                 'condo/townhome, craftsman, traditional'],\n",
    "                                        'condo')\n",
    "df['propertyType'] = df['propertyType'].replace(['townhome style', 'townhouse-interior', 'townhouse-end unit',\n",
    "                                                 'townhouse, attached/row', 'townhouse, northwestern contemporary', 'attached, townhouse',\n",
    "                                                 'townhouse, 2-story', 'townhouse, two story, traditional', 'townhouse, villa'],\n",
    "                                        'townhouse')\n",
    "df['propertyType'] = df['propertyType'].replace(['lot/land'],\n",
    "                                        'land')\n",
    "df['propertyType'] = df['propertyType'].replace(['mobile/manufactured', 'mobile / manufactured', 'manufactured house', 'mfd/mobile home',\n",
    "                                                 'manufactured home', 'manufactured double-wide', 'manufactured single-wide',\n",
    "                                                 'mobile home 1 story', 'mobile manu - double wide','manufactured house,ranch, one story',\n",
    "                                                 'manufactured house, ranch, one story, manufactured home',\n",
    "                                                 'manufactured house, traditional, manufactured home', 'manufactured house, manufactured home',\n",
    "                                                 '1 story, manufactured home - single wide', 'manufactured home, mobile home, ranch'],\n",
    "                                        'mobile home')\n",
    "df['propertyType'] = df['propertyType'].replace(['designated historical home', 'historical/conservation district', 'historic/older',\n",
    "                                                 'historic vintage', 'historic', '1 story, historic/older, craftsman',\n",
    "                                                 'historical/conservation district, single detached, contemporary/modern, traditional',\n",
    "                                                 '1 story, historic/older, traditional, craftsman', 'historical, traditional',\n",
    "                                                 '2 stories, historic/older, craftsman'],\n",
    "                                        'historical')\n",
    "df['propertyType'] = df['propertyType'].replace(['rancher', '1 story/ranch', '1 story, ranch', 'rancher, raised ranch', 'farms/ranches',\n",
    "                                                 'hi ranch', 'ranch, one story', 'ranch, traditional', 'farm house',\n",
    "                                                 'ranch, one story, duplex', 'farm house', 'ranch, transitional',\n",
    "                                                 'bungalow, contemporary, ranch, traditional', '1 story, ranch, traditional, texas hill country',\n",
    "                                                 '1 story, contemporary, ranch, historic/older, traditional', 'farm house, transitional',\n",
    "                                                 'ranch, traditional, transitional', 'old world, ranch', 'ranch, split level', \n",
    "                                                 'ranch, spanish', 'farm/ranch house, single detached, contemporary/modern, ranch',\n",
    "                                                 '2 stories, colonial, ranch', '1 story, ranch, craftsman', 'raised ranch, rancher'],\n",
    "                                        'ranch')\n",
    "df['propertyType'] = df['propertyType'].replace(['condominium (single level)', 'high-rise', 'mid-rise', 'low-rise (1-3 stories)',\n",
    "                                                 'Flats', 'studio'],\n",
    "                                        'apartment')\n",
    "df['propertyType'] = df['propertyType'].replace('yes','other')\n",
    "\n",
    "# заменим пропуски на other\n",
    "df['propertyType'].fillna('other', inplace=True)\n",
    "\n",
    "# основные типы\n",
    "type_main = ['single family','multi family', 'condo', 'townhouse', 'land', 'mobile home', 'historical', 'ranch', 'apartment', 'unknown']\n",
    "# функция проверяет, есть ли значение столбца в списке основных типов, если нет, то other\n",
    "def change_type(type):\n",
    "    if type in type_main:\n",
    "        return type    # значение найдено в списке, остается без изменений\n",
    "    else:\n",
    "        return 'other'\n",
    "\n",
    "# применим функцию\n",
    "df['propertyType'] = df['propertyType'].apply(change_type)\n",
    "\n",
    "# проверим уникальные значения и пропуски\n",
    "uniq_propertyType_sum = df['propertyType'].nunique()\n",
    "print(f'Количество уникальных значений столбца propertyType: {uniq_propertyType_sum}')\n",
    "\n",
    "df['propertyType'].isnull().mean()*100"
   ]
  },
  {
   "cell_type": "markdown",
   "metadata": {},
   "source": [
    "### Пропуски столбец street и zipcode"
   ]
  },
  {
   "cell_type": "markdown",
   "metadata": {},
   "source": [
    "Столбец street"
   ]
  },
  {
   "cell_type": "code",
   "execution_count": 34,
   "metadata": {},
   "outputs": [
    {
     "name": "stdout",
     "output_type": "stream",
     "text": [
      "          status propertyType street  baths  \\\n",
      "109863  For sale         land    NaN    0.0   \n",
      "170142  For sale         land    NaN    0.0   \n",
      "\n",
      "                                                homeFacts       city  \\\n",
      "109863  {'atAGlanceFacts': [{'factValue': '1996', 'fac...     Austin   \n",
      "170142  {'atAGlanceFacts': [{'factValue': '', 'factLab...  Las Vegas   \n",
      "\n",
      "                                                  schools  sqft zipcode state  \\\n",
      "109863  [{'rating': ['9/10', '10/10', '10/10'], 'data'...  5032   78746    TX   \n",
      "170142  [{'rating': ['5/10', 'None/10', '5/10'], 'data...     0   89118    NV   \n",
      "\n",
      "            target  private_pool_final  beds_final  \n",
      "109863    $499,900               False         5.0  \n",
      "170142  $1,009,091               False         0.0  \n"
     ]
    }
   ],
   "source": [
    "df_empty_street = df.loc[df['street'].isnull()]\n",
    "print(df_empty_street)"
   ]
  },
  {
   "cell_type": "markdown",
   "metadata": {},
   "source": [
    "Так как для нахождения названия улицы у нас не хватает данных (по индексу, городу может быть несколько вариантов улиц), то строки с пропусками в данном столбце придется удалить."
   ]
  },
  {
   "cell_type": "code",
   "execution_count": 35,
   "metadata": {},
   "outputs": [],
   "source": [
    "# удаляем строки, где есть пропуски в столбце street\n",
    "df = df.dropna(subset=['street'])"
   ]
  },
  {
   "cell_type": "markdown",
   "metadata": {},
   "source": [
    "Столбец zipcode"
   ]
  },
  {
   "cell_type": "markdown",
   "metadata": {},
   "source": [
    "Так как в столбце не обнаружено пропусков, проверим на скрытые пропуски.<br>\n",
    "Найдены такие значения как '--', '0', '00000', а так же двойные индесы, через дефис."
   ]
  },
  {
   "cell_type": "code",
   "execution_count": 36,
   "metadata": {},
   "outputs": [],
   "source": [
    "# проверим содержание столбца zipcode\n",
    "df['zipcode'].unique()\n",
    "\n",
    "# отфильтруем некорректные значения найденных индексов\n",
    "row_to_drop = df[(df['zipcode']=='--') | (df['zipcode']=='0')| (df['zipcode']=='00000')].index\n",
    "\n",
    "# удалим строки\n",
    "df = df.drop(row_to_drop)\n",
    "\n",
    "# уберем вторую часть индекса после дефиса\n",
    "df['zipcode'] = df['zipcode'].str.replace(\"-.+\",'', regex=True)"
   ]
  },
  {
   "cell_type": "markdown",
   "metadata": {},
   "source": [
    "### Изучение столбцов homeFacts и schools"
   ]
  },
  {
   "cell_type": "markdown",
   "metadata": {},
   "source": [
    "Столбец schools"
   ]
  },
  {
   "cell_type": "code",
   "execution_count": 37,
   "metadata": {},
   "outputs": [
    {
     "data": {
      "text/plain": [
       "array(['[{\\'rating\\': [\\'4\\', \\'4\\', \\'7\\', \\'NR\\', \\'4\\', \\'7\\', \\'NR\\', \\'NR\\'], \\'data\\': {\\'Distance\\': [\\'2.7 mi\\', \\'3.6 mi\\', \\'5.1 mi\\', \\'4.0 mi\\', \\'10.5 mi\\', \\'12.6 mi\\', \\'2.7 mi\\', \\'3.1 mi\\'], \\'Grades\\': [\\'3–5\\', \\'6–8\\', \\'9–12\\', \\'PK–2\\', \\'6–8\\', \\'9–12\\', \\'PK–5\\', \\'K–12\\']}, \\'name\\': [\\'Southern Pines Elementary School\\', \\'Southern Middle School\\', \\'Pinecrest High School\\', \\'Southern Pines Primary School\\', \"Crain\\'s Creek Middle School\", \\'Union Pines High School\\', \\'Episcopal Day Private School\\', \\'Calvary Christian Private School\\']}]',\n",
       "       \"[{'rating': ['4/10', 'None/10', '4/10'], 'data': {'Distance': ['1.65mi', '1.32mi', '1.01mi'], 'Grades': ['9-12', '3-8', 'PK-8']}, 'name': ['East Valley High School&Extension', 'Eastvalley Middle School', 'Trentwood Elementary School']}]\",\n",
       "       \"[{'rating': ['8/10', '4/10', '8/10'], 'data': {'Distance': ['1.19mi', '2.06mi', '2.63mi'], 'Grades': ['6-8', 'K-5', '9-12']}, 'name': ['Paul Revere Middle School', 'Brentwood Science School', 'Palisades Charter High School']}]\",\n",
       "       ...,\n",
       "       \"[{'rating': ['10/10', '5/10'], 'data': {'Distance': ['32.1 mi', '1.1 mi'], 'Grades': ['PK-8', '9-12']}, 'name': ['Air Base Elementary School', 'Dr Michael M. Krop Senior High School']}]\",\n",
       "       \"[{'rating': ['5/10', '4/10'], 'data': {'Distance': ['0.48mi', '0.73mi'], 'Grades': ['PK-5', '6-8']}, 'name': ['Ps 48 William Wordsworth', 'Jhs 8 Richard S Grossley']}]\",\n",
       "       \"[{'rating': ['NA', 'NA', 'NA'], 'data': {'Distance': ['1.3 mi', '0.5 mi', '1.9 mi'], 'Grades': ['PK-5', '6-8', '9-12']}, 'name': ['Hiliard El', 'Forest Brook Middle', 'North Forest High School']}]\"],\n",
       "      dtype=object)"
      ]
     },
     "execution_count": 37,
     "metadata": {},
     "output_type": "execute_result"
    }
   ],
   "source": [
    "df['schools'].unique()"
   ]
  },
  {
   "cell_type": "markdown",
   "metadata": {},
   "source": [
    "Основную ценность для нас в данном словаре представляет информация рейтинга школы и расстояние до школы. Создадим новые признаки из данной информации."
   ]
  },
  {
   "cell_type": "code",
   "execution_count": 38,
   "metadata": {},
   "outputs": [],
   "source": [
    "# выберем значение рейтинга\n",
    "df['schools_new'] = df['schools'].str.findall(r\"\\brating': ([\\s\\S]+?), 'data\\b\")\n",
    "\n",
    "# функция выбирает список числовых значений рейтинга из вложенного списка\n",
    "def choose_rating_list(data):\n",
    "    data_new = data[0]\n",
    "    return data_new\n",
    "# применяем функцию\n",
    "df['schools_new'] = df['schools_new'].apply(choose_rating_list)\n",
    "\n",
    "# оставляем только числовые значения\n",
    "def change_rating(rating):\n",
    "    rating = rating.replace('[', '').replace(']', '').replace(\"'\", '').replace('/10', '')\n",
    "    return rating\n",
    "# применяем функцию\n",
    "df['schools_new'] = df['schools_new'].apply(change_rating)"
   ]
  },
  {
   "cell_type": "code",
   "execution_count": 39,
   "metadata": {},
   "outputs": [],
   "source": [
    "# найдем среднее значение рейтинга\n",
    "def find_average_rating(rating):\n",
    "    rating = rating.split(', ')\n",
    "    find_rating = [float(num) for num in rating if num.isdigit()]\n",
    "    average_rating = np.average(find_rating) if find_rating else -1\n",
    "    return average_rating\n",
    "\n",
    "# применяем функцию, создаем новый столбец со средним рейтингом    \n",
    "df['schools_rating'] = df['schools_new'].apply(find_average_rating)"
   ]
  },
  {
   "cell_type": "code",
   "execution_count": 40,
   "metadata": {},
   "outputs": [],
   "source": [
    "# рассчитаем минимальную дистанцию до школы\n",
    "distance_min = df['schools'].str.findall(r\"\\bDistance': ([\\s\\S]+?), 'Grades\\b\") # выбираем расстояние\n",
    "distance_min = distance_min.apply(lambda x: x[0]) # выбираем первый элемент из каждого списка\n",
    "distance_min = distance_min.str.replace('[a-zA-Z]','', regex=True) # удаляем буквенные символы из каждой строки\n",
    "distance_min = distance_min.str.findall(r'\\b([0-9]+.[0-9]+)') # ищем все числа в каждой строке\n",
    "distance_min = distance_min.apply(lambda x: [float(i) for i in x]) # преобразуем в float\n",
    "school_distance_min = distance_min.apply(lambda x: -1 if len(x)==0 else min(x)) # находим мин. расстояние, если список пустой, то -1 \n",
    "\n",
    "#Создадим признак school_distance_min\n",
    "df['school_distance_min'] = school_distance_min\n",
    "\n",
    "# удаляем отработанные столбцы\n",
    "df.drop(['schools', 'schools_new'], axis=1, inplace=True)"
   ]
  },
  {
   "cell_type": "markdown",
   "metadata": {},
   "source": [
    "Столбец homeFacts"
   ]
  },
  {
   "cell_type": "code",
   "execution_count": 41,
   "metadata": {},
   "outputs": [
    {
     "data": {
      "text/plain": [
       "\"{'atAGlanceFacts': [{'factValue': '2019', 'factLabel': 'Year built'}, {'factValue': '', 'factLabel': 'Remodeled year'}, {'factValue': '', 'factLabel': 'Heating'}, {'factValue': '', 'factLabel': 'Cooling'}, {'factValue': '', 'factLabel': 'Parking'}, {'factValue': '5828 sqft', 'factLabel': 'lotsize'}, {'factValue': '$159/sqft', 'factLabel': 'Price/sqft'}]}\""
      ]
     },
     "execution_count": 41,
     "metadata": {},
     "output_type": "execute_result"
    }
   ],
   "source": [
    "df['homeFacts'].unique()[1]"
   ]
  },
  {
   "cell_type": "markdown",
   "metadata": {},
   "source": [
    "Признак содержит информацию о годе постройки дома, реставрации дома, кондиционере, отоплении, паркинге, площади и цене за фут кв. Последнее значение 'Price/sqft' мы не можем использовать, потому что эти данные будут создавать утечку данных при прогнозировании цены.\n",
    "Посмотрим, что сколько и каких данных в остальных лейблах."
   ]
  },
  {
   "cell_type": "code",
   "execution_count": 42,
   "metadata": {},
   "outputs": [
    {
     "data": {
      "text/plain": [
       "['Year built',\n",
       " 'Remodeled year',\n",
       " 'Heating',\n",
       " 'Cooling',\n",
       " 'Parking',\n",
       " 'lotsize',\n",
       " 'Price/sqft']"
      ]
     },
     "execution_count": 42,
     "metadata": {},
     "output_type": "execute_result"
    }
   ],
   "source": [
    "# выберем значение Label и Value с помощью регулярных выражений\n",
    "Label = df['homeFacts'].str.findall(r\"\\bfactLabel': ([\\s\\S]+?)[}\\b]\")\n",
    "Value = df['homeFacts'].str.findall(r\"\\bfactValue': ([\\s\\S]+?), 'factLabel\\b\")\n",
    "\n",
    "# создадим список новых признаков\n",
    "label_list = ','.join(Label[0]).replace(\"'\",\"\").split(',')\n",
    "label_list"
   ]
  },
  {
   "cell_type": "code",
   "execution_count": 43,
   "metadata": {},
   "outputs": [],
   "source": [
    "# добавим признаки и их значения в датафрейм\n",
    "for i, val in enumerate(label_list):\n",
    "    df[val]=Value.apply(lambda x: x[i])"
   ]
  },
  {
   "cell_type": "markdown",
   "metadata": {},
   "source": [
    "Столбец Year built"
   ]
  },
  {
   "cell_type": "code",
   "execution_count": 44,
   "metadata": {},
   "outputs": [],
   "source": [
    "# займемся признаком Year built\n",
    "df['Year built'].unique()\n",
    "\n",
    "# удалим лишние кавычки\n",
    "df['Year built'] = df['Year built'].str.replace(\"'\",'', regex=True)\n",
    "\n",
    "# в признаке есть \"мусорные\" значения: заменим их на 'unknown'\n",
    "df['Year built'] = df['Year built'].str.replace('^\\s*$','unknown', regex=True)\n",
    "df['Year built'] = df['Year built'].str.replace('No Data','unknown')\n",
    "df['Year built'] = df['Year built'].str.replace('559990649990','unknown')\n",
    "df['Year built'] = df['Year built'].str.replace('^1$','unknown', regex=True)\n",
    "df['Year built'] = df['Year built'].str.replace('None','unknown')\n",
    "\n",
    "# так же есть странные значения годов: '1060', '1019', '1057', скорее всего это опечатка и имеются в виду 1900 года, заменим их тоже\n",
    "df['Year built'] = df['Year built'].str.replace('1060','1960')\n",
    "df['Year built'] = df['Year built'].str.replace('1019','1919')\n",
    "df['Year built'] = df['Year built'].str.replace('1057','1957')"
   ]
  },
  {
   "cell_type": "markdown",
   "metadata": {},
   "source": [
    "Столбец Remodeled year"
   ]
  },
  {
   "cell_type": "code",
   "execution_count": 45,
   "metadata": {},
   "outputs": [],
   "source": [
    "# Займемся столбцом Remodeled year, заменим некорректные значения на None,\n",
    "# далее сделаем столбец бинарным, где есть значения ставим True - реконструкция была, False - не было\n",
    "df['Remodeled year'].unique() # \"'0'\"\"'''None'1111'\n",
    "\n",
    "# удалим лишние кавычки и некорректные значения\n",
    "df['Remodeled year'] = df['Remodeled year'].str.replace(\"'\",'', regex=True)\n",
    "df['Remodeled year'] = df['Remodeled year'].str.replace('^0$', 'None', regex=True)\n",
    "df['Remodeled year'] = df['Remodeled year'].str.replace('1111', 'None', regex=True)\n",
    "df['Remodeled year'] = df['Remodeled year'].str.replace('^\\s*$','None', regex=True)\n",
    "\n",
    "# функция определяет была ли реконструкция\n",
    "def remodeled_bool(value):\n",
    "    if isinstance(value, str) and re.match(r'^\\d{4}$', value):\n",
    "        return True\n",
    "    else:\n",
    "        return False\n",
    "# применяем функцию\n",
    "df['Remodeled year_final'] = df['Remodeled year'].apply(remodeled_bool)"
   ]
  },
  {
   "cell_type": "markdown",
   "metadata": {},
   "source": [
    "Столбец Heating"
   ]
  },
  {
   "cell_type": "code",
   "execution_count": 46,
   "metadata": {},
   "outputs": [
    {
     "data": {
      "text/plain": [
       "'forced air'                                                      134307\n",
       "''                                                                105753\n",
       "'other'                                                            29622\n",
       "'electric'                                                         10216\n",
       "'gas'                                                               9296\n",
       "                                                                   ...  \n",
       "'zoned heating, wall unit heating, forced air heating'                 1\n",
       "'baseboard, spacewallunit'                                             1\n",
       "'hot air, stove-pellet'                                                1\n",
       "'natural gas, space heater'                                            1\n",
       "'baseboard, hot water, programmable thermostat, radiant floor'         1\n",
       "Name: Heating, Length: 1919, dtype: int64"
      ]
     },
     "execution_count": 46,
     "metadata": {},
     "output_type": "execute_result"
    }
   ],
   "source": [
    "# посмотрим содержание столбца\n",
    "df['Heating'].str.lower().value_counts()"
   ]
  },
  {
   "cell_type": "markdown",
   "metadata": {},
   "source": [
    "Столбец содержит различные виды отопления, примерно четверть данных не заполненны. Будем считать, что там, где есть надписи, там есть отопление. Создадим булевый столбец, где есть отопление - True, где нет - False"
   ]
  },
  {
   "cell_type": "code",
   "execution_count": 47,
   "metadata": {},
   "outputs": [
    {
     "data": {
      "text/plain": [
       "True     259154\n",
       "False    117973\n",
       "Name: Heating_final, dtype: int64"
      ]
     },
     "execution_count": 47,
     "metadata": {},
     "output_type": "execute_result"
    }
   ],
   "source": [
    "# удалим лишние кавычки\n",
    "df['Heating'] = df['Heating'].str.replace(\"'\",'', regex=True)\n",
    "\n",
    "# функция меняет столбец на булевые значения, там, где есть данные - True\n",
    "df['Heating_final'] = df['Heating'].apply(lambda x: True if x not in ['', 'No Data', 'No Heat Fuel', 'No Heat', 'None'] else False)\n",
    "df['Heating_final'].value_counts()"
   ]
  },
  {
   "cell_type": "markdown",
   "metadata": {},
   "source": [
    "Столбец Cooling"
   ]
  },
  {
   "cell_type": "code",
   "execution_count": 48,
   "metadata": {},
   "outputs": [
    {
     "data": {
      "text/plain": [
       "'central'                                                                158743\n",
       "''                                                                       120390\n",
       "'central air'                                                             14384\n",
       "'no data'                                                                 10615\n",
       "'has cooling'                                                              9730\n",
       "                                                                          ...  \n",
       "'central gas, propane, zoned'                                                 1\n",
       "'other (see remarks), panel/floor/wall, window unit'                          1\n",
       "'multi units, zoned cooling'                                                  1\n",
       "'central air, g-energy star hvac, gas hot air/furnace, multizone a/c'         1\n",
       "'central a/c (gas), central heat (gas), heat pump'                            1\n",
       "Name: Cooling, Length: 1439, dtype: int64"
      ]
     },
     "execution_count": 48,
     "metadata": {},
     "output_type": "execute_result"
    }
   ],
   "source": [
    "# посмотрим содержание столбца\n",
    "df['Cooling'].str.lower().value_counts()"
   ]
  },
  {
   "cell_type": "code",
   "execution_count": 49,
   "metadata": {},
   "outputs": [
    {
     "name": "stdout",
     "output_type": "stream",
     "text": [
      "Пропущенные данные в столбце Cooling: 31.9 %\n"
     ]
    }
   ],
   "source": [
    "# уберем лишние кавычки и изучим подробнее содержание\n",
    "df['Cooling'] = df['Cooling'].str.replace(\"'\",'', regex=True)\n",
    "df['Cooling'].unique()[200:205]\n",
    "\n",
    "# проверим сколько пропущенных данных в %\n",
    "cooling_nodata_per = round(((df[df['Cooling']==''].shape[0]) / (df['Cooling'].shape[0]) * 100), 1)\n",
    "print(f'Пропущенные данные в столбце Cooling: {cooling_nodata_per} %')"
   ]
  },
  {
   "cell_type": "markdown",
   "metadata": {},
   "source": [
    "Столбец Cooling содержит противоречвые данные, потому что в отличие от отопления (там были различные виды отопления), в столбце кондиционеры перечислены и кондиционеры, и отопление. К тому же в данном столбце пропусков почти 32%. Поэтому данный столбец придется удалить."
   ]
  },
  {
   "cell_type": "markdown",
   "metadata": {},
   "source": [
    "Столбец Parking"
   ]
  },
  {
   "cell_type": "code",
   "execution_count": 50,
   "metadata": {},
   "outputs": [
    {
     "name": "stdout",
     "output_type": "stream",
     "text": [
      "Пропущенные данные в столбце Parking: 45.6 %\n"
     ]
    }
   ],
   "source": [
    "# уберем лишние кавычки и изучим подробнее содержание\n",
    "df['Parking'] = df['Parking'].str.replace(\"'\",'', regex=True)\n",
    "df['Parking'].unique()[200:205]\n",
    "\n",
    "# проверим сколько пропущенных данных в %\n",
    "Parking_nodata_per = round(((df[df['Parking']==''].shape[0]) / (df['Parking'].shape[0]) * 100), 1)\n",
    "print(f'Пропущенные данные в столбце Parking: {Parking_nodata_per} %')"
   ]
  },
  {
   "cell_type": "markdown",
   "metadata": {},
   "source": [
    "Пропущенных данных еще больше 45,6%. Восполнить данную информацию не представляется возможным. Удаляем данный столбец."
   ]
  },
  {
   "cell_type": "markdown",
   "metadata": {},
   "source": [
    "Столбец lotsize показывает площадь дома или участка, что для нас не несет полезной информации, удаляем его.<br>\n",
    "Столбец Price/sqft создает утечку данных, удаляем его."
   ]
  },
  {
   "cell_type": "code",
   "execution_count": 51,
   "metadata": {},
   "outputs": [],
   "source": [
    "# удаляем лишние и отработанные столбцы\n",
    "df = df.drop(['homeFacts', 'Remodeled year', 'Cooling', 'Parking', 'lotsize', 'Price/sqft', 'Heating'], axis=1)"
   ]
  },
  {
   "cell_type": "markdown",
   "metadata": {},
   "source": [
    "### Обработка целевого признака target"
   ]
  },
  {
   "cell_type": "code",
   "execution_count": 52,
   "metadata": {},
   "outputs": [
    {
     "data": {
      "text/plain": [
       "array(['$418,000', '$310,000', '$2,895,000', '$2,395,000', '$5,000',\n",
       "       '$209,000', '181,500', '68,000', '$244,900', '$311,995'],\n",
       "      dtype=object)"
      ]
     },
     "execution_count": 52,
     "metadata": {},
     "output_type": "execute_result"
    }
   ],
   "source": [
    "# посомтрим содержание таргета\n",
    "df['target'].unique()[0:10]"
   ]
  },
  {
   "cell_type": "code",
   "execution_count": 53,
   "metadata": {},
   "outputs": [
    {
     "data": {
      "text/plain": [
       "0.66"
      ]
     },
     "execution_count": 53,
     "metadata": {},
     "output_type": "execute_result"
    }
   ],
   "source": [
    "# проверим сколько пропусков в таргете в %\n",
    "round((df['target'].isnull().mean()*100), 2)"
   ]
  },
  {
   "cell_type": "markdown",
   "metadata": {},
   "source": [
    "В таргете есть пропуски, при этом строки, где нет таргета не могут нам помочь в модели регрессии, так как у нас не будет возможности оценить качество модели. Поэтому эти строки удаляем."
   ]
  },
  {
   "cell_type": "code",
   "execution_count": 54,
   "metadata": {},
   "outputs": [],
   "source": [
    "# удаляем строки, где нет таргета\n",
    "df = df.dropna(subset=['target'])"
   ]
  },
  {
   "cell_type": "code",
   "execution_count": 55,
   "metadata": {},
   "outputs": [],
   "source": [
    "# уберем лишние символы\n",
    "df['target'] = df['target'].replace('\\$', '', regex=True)\n",
    "df['target'] = df['target'].replace(',', '', regex=True)\n",
    "df['target'] = df['target'].replace('\\+', '', regex=True)"
   ]
  },
  {
   "cell_type": "markdown",
   "metadata": {},
   "source": [
    "Есть цена с пометкой /mo, скорее всего это цена в месяц. Проверим, какой статус у данных объектов.<br>\n",
    "Так как цена в месяц нам, опять же, не подходит для оценки качества модели, то строки с такой ценой удаляем."
   ]
  },
  {
   "cell_type": "code",
   "execution_count": 56,
   "metadata": {},
   "outputs": [],
   "source": [
    "# проверим статус объектов с ценой /mo\n",
    "df[df['target'].str.contains('/mo',regex=True)].head()\n",
    "\n",
    "# статус таких квартир For rent\n",
    "# удаляем такие квартиры\n",
    "df = df[~df['target'].str.contains('/mo', regex=True)]"
   ]
  },
  {
   "cell_type": "code",
   "execution_count": 57,
   "metadata": {},
   "outputs": [],
   "source": [
    "# переведем столбец в числовое значение\n",
    "df['target'] = df['target'].astype(int)"
   ]
  },
  {
   "cell_type": "code",
   "execution_count": 58,
   "metadata": {},
   "outputs": [
    {
     "name": "stdout",
     "output_type": "stream",
     "text": [
      "<class 'pandas.core.frame.DataFrame'>\n",
      "Int64Index: 374249 entries, 0 to 377134\n",
      "Data columns (total 16 columns):\n",
      " #   Column                Non-Null Count   Dtype  \n",
      "---  ------                --------------   -----  \n",
      " 0   status                374249 non-null  object \n",
      " 1   propertyType          374249 non-null  object \n",
      " 2   street                374249 non-null  object \n",
      " 3   baths                 374249 non-null  float64\n",
      " 4   city                  374249 non-null  object \n",
      " 5   sqft                  374249 non-null  int32  \n",
      " 6   zipcode               374249 non-null  object \n",
      " 7   state                 374249 non-null  object \n",
      " 8   target                374249 non-null  int32  \n",
      " 9   private_pool_final    374249 non-null  bool   \n",
      " 10  beds_final            374249 non-null  float64\n",
      " 11  schools_rating        374249 non-null  float64\n",
      " 12  school_distance_min   374249 non-null  float64\n",
      " 13  Year built            374249 non-null  object \n",
      " 14  Remodeled year_final  374249 non-null  bool   \n",
      " 15  Heating_final         374249 non-null  bool   \n",
      "dtypes: bool(3), float64(4), int32(2), object(7)\n",
      "memory usage: 38.2+ MB\n"
     ]
    }
   ],
   "source": [
    "df.info()"
   ]
  },
  {
   "cell_type": "markdown",
   "metadata": {},
   "source": [
    "## *Выводы 1 части работы:*\n",
    "- изучили данные\n",
    "- нашли и избавились от пропусков в данных\n",
    "- сократили количество столбцов, избавились от повторяющихся данных\n",
    "- избавились от избыточных данных\n",
    "- данные сохраняем в файл, чтоб далее было удобнее работать"
   ]
  },
  {
   "cell_type": "code",
   "execution_count": 64,
   "metadata": {},
   "outputs": [],
   "source": [
    "# сохраняем предобработанные данные в CSV-файл для упрощения дальнейшей работы\n",
    "df.to_csv(\"data/cleaned_data.csv\", index=False)"
   ]
  }
 ],
 "metadata": {
  "kernelspec": {
   "display_name": "Python 3",
   "language": "python",
   "name": "python3"
  },
  "language_info": {
   "codemirror_mode": {
    "name": "ipython",
    "version": 3
   },
   "file_extension": ".py",
   "mimetype": "text/x-python",
   "name": "python",
   "nbconvert_exporter": "python",
   "pygments_lexer": "ipython3",
   "version": "3.9.10"
  },
  "orig_nbformat": 4
 },
 "nbformat": 4,
 "nbformat_minor": 2
}
