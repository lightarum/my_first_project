{
 "cells": [
  {
   "cell_type": "markdown",
   "metadata": {},
   "source": [
    "## Дипломный проект на курсе Data Science школа SkillFactory\n",
    "# «Модель прогнозирования стоимости жилья для агентства недвижимости»"
   ]
  },
  {
   "cell_type": "markdown",
   "metadata": {},
   "source": [
    "**Цель:** разработать модель, которая позволила бы агентству недвижимости обойти конкурентов по скорости и качеству совершения сделок."
   ]
  },
  {
   "cell_type": "markdown",
   "metadata": {},
   "source": [
    "**Поставленные задачи:**\n",
    "1. Провести разведывательный анализ и очистку исходных данных. Обратите внимание, что данные в таблице реальные: в результате во многих признаках присутствуют дублирующиеся категории, ошибки ввода, жаргонные сокращения и т .д. Вам предстоит отыскать закономерности, самостоятельно расшифровать все сокращения, найти синонимы в данных, обработать пропуски и удалить выбросы. \n",
    "2. Выделить наиболее значимые факторы, влияющие на стоимость недвижимости.\n",
    "3. Построить модель для прогнозирования стоимости недвижимости.\n",
    "4. Разработать небольшой веб-сервис, на вход которому поступают данные о некоторой выставленной на продажу недвижимости, а сервис прогнозирует его стоимость."
   ]
  },
  {
   "cell_type": "markdown",
   "metadata": {},
   "source": [
    "**Описание данных:**<br>\n",
    "<br>\n",
    "➔ 'status' — статус продажи;<br>\n",
    "➔ 'private pool' и 'PrivatePool' — наличие собственного бассейна;<br>\n",
    "➔ 'propertyType' — тип объекта недвижимости;<br>\n",
    "➔ 'street' — адрес объекта;<br>\n",
    "➔ 'baths' — количество ванных комнат;<br>\n",
    "➔ 'homeFacts' — сведения о строительстве объекта (содержит несколько\n",
    "типов сведений, влияющих на оценку объекта);<br>\n",
    "➔ 'fireplace' — наличие камина;<br>\n",
    "➔ 'city' — город;<br>\n",
    "➔ 'schools' — сведения о школах в районе;<br>\n",
    "➔ 'sqft' — площадь в футах;<br>\n",
    "➔ 'zipcode' — почтовый индекс;<br>\n",
    "➔ 'beds' — количество спален;<br>\n",
    "➔ 'state' — штат;<br>\n",
    "➔ 'stories' — количество этажей;<br>\n",
    "➔ 'mls-id' и 'MlsId' — идентификатор MLS (Multiple Listing Service, система\n",
    "мультилистинга);<br><br>\n",
    "\n",
    "➔ **'target'** — цена объекта недвижимости (целевой признак, который\n",
    "необходимо спрогнозировать)."
   ]
  },
  {
   "cell_type": "code",
   "execution_count": 142,
   "metadata": {},
   "outputs": [],
   "source": [
    "import numpy as np \n",
    "import pandas as pd\n",
    "\n",
    "# импортируем библиотеки для визуализации\n",
    "import matplotlib.pyplot as plt\n",
    "import os\n",
    "\n",
    "# для графиков\n",
    "import seaborn as sns\n",
    "import plotly.subplots as spimport\n",
    "import matplotlib.pyplot as plt\n",
    "\n",
    "# для нормализации\n",
    "from sklearn import preprocessing\n",
    "from sklearn.preprocessing import MinMaxScaler\n",
    "\n",
    "from sklearn.ensemble import RandomForestRegressor\n",
    "from sklearn.linear_model import ElasticNetCV\n",
    "from sklearn.linear_model import LinearRegression\n",
    "from sklearn.linear_model import Ridge\n",
    "from sklearn.linear_model import RidgeCV\n",
    "from sklearn.model_selection import cross_validate\n",
    "from sklearn.model_selection import RandomizedSearchCV\n",
    "from sklearn.linear_model import SGDRegressor\n",
    "from sklearn.model_selection import train_test_split\n",
    "from sklearn import metrics\n",
    "from catboost import CatBoostRegressor\n",
    "from category_encoders import TargetEncoder, CatBoostEncoder\n",
    "from sklearn.metrics import mean_squared_error, mean_absolute_error, r2_score\n",
    "from sklearn.preprocessing import StandardScaler, PolynomialFeatures\n",
    "%matplotlib inline"
   ]
  },
  {
   "cell_type": "code",
   "execution_count": 130,
   "metadata": {},
   "outputs": [],
   "source": [
    "# зафиусируем RANDOM_SEED\n",
    "RANDOM_SEED = 42"
   ]
  },
  {
   "cell_type": "code",
   "execution_count": 131,
   "metadata": {},
   "outputs": [],
   "source": [
    "# зафиксируем версию пакетов\n",
    "!pip freeze > requirements.txt"
   ]
  },
  {
   "cell_type": "markdown",
   "metadata": {},
   "source": [
    "## 4. Моделирование и оценка модели"
   ]
  },
  {
   "cell_type": "code",
   "execution_count": 132,
   "metadata": {},
   "outputs": [
    {
     "data": {
      "text/html": [
       "<div>\n",
       "<style scoped>\n",
       "    .dataframe tbody tr th:only-of-type {\n",
       "        vertical-align: middle;\n",
       "    }\n",
       "\n",
       "    .dataframe tbody tr th {\n",
       "        vertical-align: top;\n",
       "    }\n",
       "\n",
       "    .dataframe thead th {\n",
       "        text-align: right;\n",
       "    }\n",
       "</style>\n",
       "<table border=\"1\" class=\"dataframe\">\n",
       "  <thead>\n",
       "    <tr style=\"text-align: right;\">\n",
       "      <th></th>\n",
       "      <th>sqft</th>\n",
       "      <th>target</th>\n",
       "      <th>private_pool_final</th>\n",
       "      <th>beds_final</th>\n",
       "      <th>schools_rating</th>\n",
       "      <th>school_distance_min</th>\n",
       "      <th>Remodeled year_final</th>\n",
       "      <th>Heating_final</th>\n",
       "      <th>status_Active</th>\n",
       "      <th>status_Auction</th>\n",
       "      <th>...</th>\n",
       "      <th>propertyType_multi family</th>\n",
       "      <th>propertyType_other</th>\n",
       "      <th>propertyType_ranch</th>\n",
       "      <th>propertyType_single family</th>\n",
       "      <th>propertyType_townhouse</th>\n",
       "      <th>propertyType_unknown</th>\n",
       "      <th>state_label</th>\n",
       "      <th>year_label</th>\n",
       "      <th>city_label</th>\n",
       "      <th>zipcode_label</th>\n",
       "    </tr>\n",
       "  </thead>\n",
       "  <tbody>\n",
       "    <tr>\n",
       "      <th>0</th>\n",
       "      <td>7.972466</td>\n",
       "      <td>12.943237</td>\n",
       "      <td>False</td>\n",
       "      <td>1.386295</td>\n",
       "      <td>1.648659e+00</td>\n",
       "      <td>9.932521e-01</td>\n",
       "      <td>False</td>\n",
       "      <td>True</td>\n",
       "      <td>1</td>\n",
       "      <td>0</td>\n",
       "      <td>...</td>\n",
       "      <td>0</td>\n",
       "      <td>0</td>\n",
       "      <td>0</td>\n",
       "      <td>1</td>\n",
       "      <td>0</td>\n",
       "      <td>0</td>\n",
       "      <td>20</td>\n",
       "      <td>208</td>\n",
       "      <td>1384</td>\n",
       "      <td>820</td>\n",
       "    </tr>\n",
       "    <tr>\n",
       "      <th>1</th>\n",
       "      <td>7.574045</td>\n",
       "      <td>12.644328</td>\n",
       "      <td>False</td>\n",
       "      <td>1.098613</td>\n",
       "      <td>1.386295e+00</td>\n",
       "      <td>9.951321e-03</td>\n",
       "      <td>False</td>\n",
       "      <td>False</td>\n",
       "      <td>0</td>\n",
       "      <td>0</td>\n",
       "      <td>...</td>\n",
       "      <td>0</td>\n",
       "      <td>0</td>\n",
       "      <td>0</td>\n",
       "      <td>1</td>\n",
       "      <td>0</td>\n",
       "      <td>0</td>\n",
       "      <td>34</td>\n",
       "      <td>208</td>\n",
       "      <td>1393</td>\n",
       "      <td>3963</td>\n",
       "    </tr>\n",
       "    <tr>\n",
       "      <th>2</th>\n",
       "      <td>6.799056</td>\n",
       "      <td>12.250090</td>\n",
       "      <td>False</td>\n",
       "      <td>0.693148</td>\n",
       "      <td>9.999995e-07</td>\n",
       "      <td>9.999995e-07</td>\n",
       "      <td>False</td>\n",
       "      <td>True</td>\n",
       "      <td>0</td>\n",
       "      <td>0</td>\n",
       "      <td>...</td>\n",
       "      <td>0</td>\n",
       "      <td>0</td>\n",
       "      <td>0</td>\n",
       "      <td>0</td>\n",
       "      <td>1</td>\n",
       "      <td>0</td>\n",
       "      <td>27</td>\n",
       "      <td>109</td>\n",
       "      <td>1120</td>\n",
       "      <td>514</td>\n",
       "    </tr>\n",
       "    <tr>\n",
       "      <th>3</th>\n",
       "      <td>7.317876</td>\n",
       "      <td>12.109011</td>\n",
       "      <td>False</td>\n",
       "      <td>-13.815511</td>\n",
       "      <td>8.472983e-01</td>\n",
       "      <td>-2.231423e-01</td>\n",
       "      <td>True</td>\n",
       "      <td>True</td>\n",
       "      <td>1</td>\n",
       "      <td>0</td>\n",
       "      <td>...</td>\n",
       "      <td>0</td>\n",
       "      <td>1</td>\n",
       "      <td>0</td>\n",
       "      <td>0</td>\n",
       "      <td>0</td>\n",
       "      <td>0</td>\n",
       "      <td>6</td>\n",
       "      <td>195</td>\n",
       "      <td>1080</td>\n",
       "      <td>1370</td>\n",
       "    </tr>\n",
       "    <tr>\n",
       "      <th>4</th>\n",
       "      <td>7.565275</td>\n",
       "      <td>12.650742</td>\n",
       "      <td>False</td>\n",
       "      <td>1.098613</td>\n",
       "      <td>1.098613e+00</td>\n",
       "      <td>-5.108240e-01</td>\n",
       "      <td>False</td>\n",
       "      <td>True</td>\n",
       "      <td>0</td>\n",
       "      <td>0</td>\n",
       "      <td>...</td>\n",
       "      <td>0</td>\n",
       "      <td>0</td>\n",
       "      <td>0</td>\n",
       "      <td>1</td>\n",
       "      <td>0</td>\n",
       "      <td>0</td>\n",
       "      <td>30</td>\n",
       "      <td>208</td>\n",
       "      <td>662</td>\n",
       "      <td>2487</td>\n",
       "    </tr>\n",
       "  </tbody>\n",
       "</table>\n",
       "<p>5 rows × 36 columns</p>\n",
       "</div>"
      ],
      "text/plain": [
       "       sqft     target  private_pool_final  beds_final  schools_rating  \\\n",
       "0  7.972466  12.943237               False    1.386295    1.648659e+00   \n",
       "1  7.574045  12.644328               False    1.098613    1.386295e+00   \n",
       "2  6.799056  12.250090               False    0.693148    9.999995e-07   \n",
       "3  7.317876  12.109011               False  -13.815511    8.472983e-01   \n",
       "4  7.565275  12.650742               False    1.098613    1.098613e+00   \n",
       "\n",
       "   school_distance_min  Remodeled year_final  Heating_final  status_Active  \\\n",
       "0         9.932521e-01                 False           True              1   \n",
       "1         9.951321e-03                 False          False              0   \n",
       "2         9.999995e-07                 False           True              0   \n",
       "3        -2.231423e-01                  True           True              1   \n",
       "4        -5.108240e-01                 False           True              0   \n",
       "\n",
       "   status_Auction  ...  propertyType_multi family  propertyType_other  \\\n",
       "0               0  ...                          0                   0   \n",
       "1               0  ...                          0                   0   \n",
       "2               0  ...                          0                   0   \n",
       "3               0  ...                          0                   1   \n",
       "4               0  ...                          0                   0   \n",
       "\n",
       "   propertyType_ranch  propertyType_single family  propertyType_townhouse  \\\n",
       "0                   0                           1                       0   \n",
       "1                   0                           1                       0   \n",
       "2                   0                           0                       1   \n",
       "3                   0                           0                       0   \n",
       "4                   0                           1                       0   \n",
       "\n",
       "   propertyType_unknown  state_label  year_label  city_label  zipcode_label  \n",
       "0                     0           20         208        1384            820  \n",
       "1                     0           34         208        1393           3963  \n",
       "2                     0           27         109        1120            514  \n",
       "3                     0            6         195        1080           1370  \n",
       "4                     0           30         208         662           2487  \n",
       "\n",
       "[5 rows x 36 columns]"
      ]
     },
     "execution_count": 132,
     "metadata": {},
     "output_type": "execute_result"
    }
   ],
   "source": [
    "df = pd.read_csv('data/cleaned_data_for_model.csv')\n",
    "df.head()"
   ]
  },
  {
   "cell_type": "code",
   "execution_count": 134,
   "metadata": {},
   "outputs": [
    {
     "name": "stdout",
     "output_type": "stream",
     "text": [
      "<class 'pandas.core.frame.DataFrame'>\n",
      "RangeIndex: 283644 entries, 0 to 283643\n",
      "Data columns (total 36 columns):\n",
      " #   Column                      Non-Null Count   Dtype  \n",
      "---  ------                      --------------   -----  \n",
      " 0   sqft                        283644 non-null  float64\n",
      " 1   target                      283644 non-null  float64\n",
      " 2   private_pool_final          283644 non-null  bool   \n",
      " 3   beds_final                  283644 non-null  float64\n",
      " 4   schools_rating              283644 non-null  float64\n",
      " 5   school_distance_min         283644 non-null  float64\n",
      " 6   Remodeled year_final        283644 non-null  bool   \n",
      " 7   Heating_final               283644 non-null  bool   \n",
      " 8   status_Active               283644 non-null  int64  \n",
      " 9   status_Auction              283644 non-null  int64  \n",
      " 10  status_Back on market       283644 non-null  int64  \n",
      " 11  status_Closed               283644 non-null  int64  \n",
      " 12  status_Coming soon          283644 non-null  int64  \n",
      " 13  status_Contingent           283644 non-null  int64  \n",
      " 14  status_For rent             283644 non-null  int64  \n",
      " 15  status_For sale             283644 non-null  int64  \n",
      " 16  status_Listing extended     283644 non-null  int64  \n",
      " 17  status_Pending              283644 non-null  int64  \n",
      " 18  status_Price change         283644 non-null  int64  \n",
      " 19  status_Under contract       283644 non-null  int64  \n",
      " 20  status_unknown              283644 non-null  int64  \n",
      " 21  propertyType_apartment      283644 non-null  int64  \n",
      " 22  propertyType_condo          283644 non-null  int64  \n",
      " 23  propertyType_historical     283644 non-null  int64  \n",
      " 24  propertyType_land           283644 non-null  int64  \n",
      " 25  propertyType_mobile home    283644 non-null  int64  \n",
      " 26  propertyType_multi family   283644 non-null  int64  \n",
      " 27  propertyType_other          283644 non-null  int64  \n",
      " 28  propertyType_ranch          283644 non-null  int64  \n",
      " 29  propertyType_single family  283644 non-null  int64  \n",
      " 30  propertyType_townhouse      283644 non-null  int64  \n",
      " 31  propertyType_unknown        283644 non-null  int64  \n",
      " 32  state_label                 283644 non-null  int64  \n",
      " 33  year_label                  283644 non-null  int64  \n",
      " 34  city_label                  283644 non-null  int64  \n",
      " 35  zipcode_label               283644 non-null  int64  \n",
      "dtypes: bool(3), float64(5), int64(28)\n",
      "memory usage: 72.2 MB\n"
     ]
    }
   ],
   "source": [
    "df.info()"
   ]
  },
  {
   "cell_type": "markdown",
   "metadata": {},
   "source": [
    "### 4.1 Разделение данных"
   ]
  },
  {
   "cell_type": "code",
   "execution_count": 135,
   "metadata": {},
   "outputs": [],
   "source": [
    "y = df['target']\n",
    "X = df.drop(['target'], axis=1)\n",
    "X_train, X_test, y_train, y_test = train_test_split(X, y, test_size=0.2, shuffle=True, random_state=RANDOM_SEED)"
   ]
  },
  {
   "cell_type": "markdown",
   "metadata": {},
   "source": [
    "### 4.2 Линейная регрессия LinearRegression"
   ]
  },
  {
   "cell_type": "code",
   "execution_count": 136,
   "metadata": {},
   "outputs": [
    {
     "name": "stdout",
     "output_type": "stream",
     "text": [
      "Train MSE: 0.46\n",
      "Test MSE: 0.45\n",
      "Train MAE: 0.49\n",
      "Test MAE: 0.48\n",
      "Train R2: 0.37\n",
      "Test R2: 0.37\n"
     ]
    }
   ],
   "source": [
    "# создаём модель линейной регрессии\n",
    "model = LinearRegression(fit_intercept=False)\n",
    "\n",
    "# вычисляем коэффициенты регрессии\n",
    "model.fit(X_train, y_train)\n",
    "\n",
    "# делаем предсказания с помощью модели\n",
    "y_train_pred = model.predict(X_train)\n",
    "y_test_pred = model.predict(X_test)\n",
    "\n",
    "# вычисляем требуемые метрики\n",
    "mse_train = metrics.mean_squared_error(y_train, y_train_pred)\n",
    "mse_test = metrics.mean_squared_error(y_test, y_test_pred)\n",
    "mae_train = metrics.mean_absolute_error(y_train, y_train_pred)\n",
    "mae_test = metrics.mean_absolute_error(y_test, y_test_pred)\n",
    "r2_train = metrics.r2_score(y_train, y_train_pred)\n",
    "r2_test = metrics.r2_score(y_test, y_test_pred)\n",
    "\n",
    "# выводим метрики\n",
    "print(f\"Train MSE: {mse_train:.2f}\")\n",
    "print(f\"Test MSE: {mse_test:.2f}\")\n",
    "print(f\"Train MAE: {mae_train:.2f}\")\n",
    "print(f\"Test MAE: {mae_test:.2f}\")\n",
    "print(f\"Train R2: {r2_train:.2f}\")\n",
    "print(f\"Test R2: {r2_test:.2f}\")"
   ]
  },
  {
   "cell_type": "markdown",
   "metadata": {},
   "source": [
    "Во-первых, значения на тренировочных и тестовых выборках не сильно отличаются, значит модель не переобучена, что хорошо.<br>\n",
    "Во-вторых, сами значения не очень удовлетворительны, MSE и MAE чем меньше, тем лучше. У нас получилось, что среднеквадратическая ошибка (Mean Squared Error, далее MSE) 0,45 достаточно высокое значение на тестовой выборке. И средняя абсолютная ошибка (Mean Absolute Error, далее MAE) 0,48 на тестовой выборке.<br>\n",
    "В то же время коэффициент детерминации (далее R2) чем выше, тем лучше, стоящие показатели модели должны быть больше 0,5. На самой простой модели линейной регрессии у нас R2 равно 0.37 на тестовой выборке. Это значит модель смогла уловить 37% информации о дисперсии.<br>\n",
    "Из всего этого можно сделать вывод, что есть куда развивать модель, пробовать подбор параметров, ансамблиевые модели."
   ]
  },
  {
   "cell_type": "markdown",
   "metadata": {},
   "source": [
    "### 4.3.1 Регуляризация Ridge (L2)"
   ]
  },
  {
   "cell_type": "markdown",
   "metadata": {},
   "source": [
    "Так как ,судя по метрикам, у нас нет переобучения, мы можем использовать регуляризацию для лучшения обобщающей способности модели. Данных у нас достаточно, и мы избавились от выбросов. Попробуем улучшит ли ситуацию Ridge регуляризация."
   ]
  },
  {
   "cell_type": "code",
   "execution_count": 139,
   "metadata": {},
   "outputs": [
    {
     "name": "stdout",
     "output_type": "stream",
     "text": [
      "Train MSE: 0.46\n",
      "Test MSE: 0.45\n",
      "Train MAE: 0.49\n",
      "Test MAE: 0.48\n",
      "Train R2: 0.37\n",
      "Test R2: 0.37\n"
     ]
    }
   ],
   "source": [
    "# создем объект Ridge регрессии\n",
    "ridge = Ridge(alpha = 10)\n",
    " \n",
    "ridge.fit(X_train, y_train)\n",
    " \n",
    "y_pred_train = ridge.predict(X_train)\n",
    "y_pred_test = ridge.predict(X_test)\n",
    "\n",
    "# вычисляем метрики\n",
    "mse_train = mean_squared_error(y_train, y_train_pred)\n",
    "mse_test = mean_squared_error(y_test, y_test_pred)\n",
    "mae_train = mean_absolute_error(y_train, y_train_pred)\n",
    "mae_test = mean_absolute_error(y_test, y_test_pred)\n",
    "r2_train = r2_score(y_train, y_train_pred)\n",
    "r2_test = r2_score(y_test, y_test_pred)\n",
    "\n",
    "# выводим метрики\n",
    "print(f\"Train MSE: {mse_train:.2f}\")\n",
    "print(f\"Test MSE: {mse_test:.2f}\")\n",
    "print(f\"Train MAE: {mae_train:.2f}\")\n",
    "print(f\"Test MAE: {mae_test:.2f}\")\n",
    "print(f\"Train R2: {r2_train:.2f}\")\n",
    "print(f\"Test R2: {r2_test:.2f}\")"
   ]
  },
  {
   "cell_type": "code",
   "execution_count": 140,
   "metadata": {},
   "outputs": [
    {
     "data": {
      "image/png": "[encoded data removed]",
      "text/plain": [
       "<Figure size 500x500 with 1 Axes>"
      ]
     },
     "metadata": {},
     "output_type": "display_data"
    }
   ],
   "source": [
    "# построим графики весов двух моделей LinearRegression и Ridge\n",
    "features = X.columns\n",
    " \n",
    "plt.figure(figsize = (5, 5))\n",
    "plt.plot(features, ridge.coef_, alpha=0.7, linestyle='none' , marker='*', markersize=5, color='red', label=r'Ridge; альфа=10', zorder = 7)\n",
    "plt.plot(features, model.coef_, alpha=0.4, linestyle='none', marker='o', markersize=7, color='green',label='Linear Regression')\n",
    "plt.xticks(rotation = 0)\n",
    "plt.legend()\n",
    "plt.show()"
   ]
  },
  {
   "cell_type": "markdown",
   "metadata": {},
   "source": [
    "По метрике видно, что регуляризация нам не помогла в улучшении предсказаний. Хотя веса более сбалансированы. Попробуем другой способ регуляризации ElasticNetCV. Elastic Net использует как L1, так и L2 регуляризацию и координатный спуск для минимизации функции потерь."
   ]
  },
  {
   "cell_type": "markdown",
   "metadata": {},
   "source": [
    "### 4.3.2 ElacticNetCV"
   ]
  },
  {
   "cell_type": "code",
   "execution_count": 147,
   "metadata": {},
   "outputs": [
    {
     "name": "stdout",
     "output_type": "stream",
     "text": [
      "Train MSE: 0.59\n",
      "Test MSE: 0.57\n",
      "Train MAE: 0.55\n",
      "Test MAE: 0.54\n",
      "Train R2: 0.20\n",
      "Test R2: 0.20\n"
     ]
    }
   ],
   "source": [
    "# создаем и тренируем модель ElasticNetCV с кросс-валидацией по 5 фолдам\n",
    "elastic = ElasticNetCV(cv=5, random_state=RANDOM_SEED)\n",
    "elastic.fit(X_train, y_train)\n",
    "\n",
    "# предсказания для обучающей и тестовой выборок\n",
    "y_train_pred = elastic.predict(X_train)\n",
    "y_test_pred = elastic.predict(X_test)\n",
    "\n",
    "# вычисляем метрики\n",
    "mse_train = mean_squared_error(y_train, y_train_pred)\n",
    "mse_test = mean_squared_error(y_test, y_test_pred)\n",
    "mae_train = mean_absolute_error(y_train, y_train_pred)\n",
    "mae_test = mean_absolute_error(y_test, y_test_pred)\n",
    "r2_train = r2_score(y_train, y_train_pred)\n",
    "r2_test = r2_score(y_test, y_test_pred)\n",
    "\n",
    "# выводим метрики\n",
    "print(f\"Train MSE: {mse_train:.2f}\")\n",
    "print(f\"Test MSE: {mse_test:.2f}\")\n",
    "print(f\"Train MAE: {mae_train:.2f}\")\n",
    "print(f\"Test MAE: {mae_test:.2f}\")\n",
    "print(f\"Train R2: {r2_train:.2f}\")\n",
    "print(f\"Test R2: {r2_test:.2f}\")"
   ]
  },
  {
   "cell_type": "markdown",
   "metadata": {},
   "source": [
    "Метрики ухудшились, хотя переобучения при сравнении трейна и тестовой выборки нет. Думаю стоит попробовать сложную ансамблевую модель бэггинга."
   ]
  },
  {
   "cell_type": "markdown",
   "metadata": {},
   "source": [
    "### 4.4.1 RandomForestRegressor"
   ]
  },
  {
   "cell_type": "code",
   "execution_count": 114,
   "metadata": {},
   "outputs": [
    {
     "name": "stdout",
     "output_type": "stream",
     "text": [
      "Train MSE: 0.01\n",
      "Test MSE: 0.09\n",
      "Train MAE: 0.07\n",
      "Test MAE: 0.18\n",
      "Train R2: 0.98\n",
      "Test R2: 0.87\n"
     ]
    }
   ],
   "source": [
    "# создаем экземпляр модели RandomForestRegressor\n",
    "rf_regressor = RandomForestRegressor(random_state=RANDOM_SEED)\n",
    "\n",
    "# обучаем модель на обучающих данных\n",
    "rf_regressor.fit(X_train, y_train)\n",
    "\n",
    "# средсказания на обучающих и тестовых данных\n",
    "y_train_pred = rf_regressor.predict(X_train)\n",
    "y_test_pred = rf_regressor.predict(X_test)\n",
    "\n",
    "# вычисляем метрики\n",
    "mse_train = mean_squared_error(y_train, y_train_pred)\n",
    "mse_test = mean_squared_error(y_test, y_test_pred)\n",
    "mae_train = mean_absolute_error(y_train, y_train_pred)\n",
    "mae_test = mean_absolute_error(y_test, y_test_pred)\n",
    "r2_train = r2_score(y_train, y_train_pred)\n",
    "r2_test = r2_score(y_test, y_test_pred)\n",
    "\n",
    "# выводим метрики\n",
    "print(f\"Train MSE: {mse_train:.2f}\")\n",
    "print(f\"Test MSE: {mse_test:.2f}\")\n",
    "print(f\"Train MAE: {mae_train:.2f}\")\n",
    "print(f\"Test MAE: {mae_test:.2f}\")\n",
    "print(f\"Train R2: {r2_train:.2f}\")\n",
    "print(f\"Test R2: {r2_test:.2f}\")"
   ]
  },
  {
   "cell_type": "markdown",
   "metadata": {},
   "source": [
    "Метрики значительно улучшились, хотя наблюдается небольшое переобучение. Ошибки MSE и MAE достаточно низкие, чтоб утверждать, что модель работает хорошо. Так же модель смогла уловить примерно 90% информации о дисперсии.(98% на трейне и 87% на тестовых выборках). На данный момент это лучшая модель.<br>\n",
    "Попробум поддобрать гиперпараметры для нашей лучше модели, для ее оптимизации. Будем делать это с помощью RandomizedSearchCV."
   ]
  },
  {
   "cell_type": "markdown",
   "metadata": {},
   "source": [
    "### 4.4.2 RandomizedSearchCV"
   ]
  },
  {
   "cell_type": "code",
   "execution_count": 115,
   "metadata": {},
   "outputs": [
    {
     "name": "stdout",
     "output_type": "stream",
     "text": [
      "CPU times: total: 12min 56s\n",
      "Wall time: 3h 25min 41s\n"
     ]
    }
   ],
   "source": [
    "# зададим сетку параметров\n",
    "param_distributions = {'n_estimators': list(range(80, 200, 30)),\n",
    "              'min_samples_leaf': [5],\n",
    "              'max_depth': list(np.linspace(20, 40, 10, dtype=int))\n",
    "              }\n",
    "#  определяем гиперпараметры           \n",
    "random_search_forest = RandomizedSearchCV(\n",
    "    estimator=RandomForestRegressor(random_state=42), \n",
    "    param_distributions=param_distributions, \n",
    "    cv=5,\n",
    "    n_iter = 10, \n",
    "    n_jobs = -1\n",
    ")  \n",
    "%time random_search_forest.fit(X_train, y_train) \n",
    "y_train_pred = random_search_forest.predict(X_train)\n",
    "y_test_pred = random_search_forest.predict(X_test)"
   ]
  },
  {
   "cell_type": "code",
   "execution_count": 117,
   "metadata": {},
   "outputs": [
    {
     "name": "stdout",
     "output_type": "stream",
     "text": [
      "Train MSE: 0.05\n",
      "Test MSE: 0.10\n",
      "Train MAE: 0.14\n",
      "Test MAE: 0.20\n",
      "Train R2: 0.93\n",
      "Test R2: 0.86\n"
     ]
    }
   ],
   "source": [
    "# вычисляем метрики\n",
    "mse_train = mean_squared_error(y_train, y_train_pred)\n",
    "mse_test = mean_squared_error(y_test, y_test_pred)\n",
    "mae_train = mean_absolute_error(y_train, y_train_pred)\n",
    "mae_test = mean_absolute_error(y_test, y_test_pred)\n",
    "r2_train = r2_score(y_train, y_train_pred)\n",
    "r2_test = r2_score(y_test, y_test_pred)\n",
    "\n",
    "# выводим метрики\n",
    "print(f\"Train MSE: {mse_train:.2f}\")\n",
    "print(f\"Test MSE: {mse_test:.2f}\")\n",
    "print(f\"Train MAE: {mae_train:.2f}\")\n",
    "print(f\"Test MAE: {mae_test:.2f}\")\n",
    "print(f\"Train R2: {r2_train:.2f}\")\n",
    "print(f\"Test R2: {r2_test:.2f}\")"
   ]
  },
  {
   "cell_type": "markdown",
   "metadata": {},
   "source": [
    "Подбор оптимальных гиперпараметров позволил оставить ошибки примерно такими же низкими, как в Случайном лесе, а R2 достаточно высоким. При этом разница между трейном и тестовыми выборками меньше, а значит модель более устойчива, менее переобучена. Считаю, что в нашем случае это лучшая модель, не смотря на то, что коэффициент детерминации немного ниже (на трейне был 0,98 - стал 0,93, на тестовой выборке был в модели случайного леса 0,87 - стал 0,86).<br>\n",
    "Попробуем еще одну модель CatBoostRegr."
   ]
  },
  {
   "cell_type": "markdown",
   "metadata": {},
   "source": [
    "### 4.5 CatBoostRegressor"
   ]
  },
  {
   "cell_type": "markdown",
   "metadata": {},
   "source": [
    "CatBoostRegressor работает с необработанными категориальными данными. Поэтому в предыдущем коде я сохранила данные в файл без кодирования категориальных признаков, с этим файлом и будем работать в данном разделе."
   ]
  },
  {
   "cell_type": "code",
   "execution_count": 151,
   "metadata": {},
   "outputs": [
    {
     "data": {
      "text/html": [
       "<div>\n",
       "<style scoped>\n",
       "    .dataframe tbody tr th:only-of-type {\n",
       "        vertical-align: middle;\n",
       "    }\n",
       "\n",
       "    .dataframe tbody tr th {\n",
       "        vertical-align: top;\n",
       "    }\n",
       "\n",
       "    .dataframe thead th {\n",
       "        text-align: right;\n",
       "    }\n",
       "</style>\n",
       "<table border=\"1\" class=\"dataframe\">\n",
       "  <thead>\n",
       "    <tr style=\"text-align: right;\">\n",
       "      <th></th>\n",
       "      <th>status</th>\n",
       "      <th>propertyType</th>\n",
       "      <th>street</th>\n",
       "      <th>city</th>\n",
       "      <th>sqft</th>\n",
       "      <th>zipcode</th>\n",
       "      <th>state</th>\n",
       "      <th>target</th>\n",
       "      <th>private_pool_final</th>\n",
       "      <th>beds_final</th>\n",
       "      <th>schools_rating</th>\n",
       "      <th>school_distance_min</th>\n",
       "      <th>Year built</th>\n",
       "      <th>Remodeled year_final</th>\n",
       "      <th>Heating_final</th>\n",
       "    </tr>\n",
       "  </thead>\n",
       "  <tbody>\n",
       "    <tr>\n",
       "      <th>0</th>\n",
       "      <td>Active</td>\n",
       "      <td>single family</td>\n",
       "      <td>240 Heather Ln</td>\n",
       "      <td>Southern Pines</td>\n",
       "      <td>7.972466</td>\n",
       "      <td>28387</td>\n",
       "      <td>NC</td>\n",
       "      <td>12.943237</td>\n",
       "      <td>False</td>\n",
       "      <td>1.386295</td>\n",
       "      <td>1.648659e+00</td>\n",
       "      <td>9.932521e-01</td>\n",
       "      <td>2019</td>\n",
       "      <td>False</td>\n",
       "      <td>True</td>\n",
       "    </tr>\n",
       "    <tr>\n",
       "      <th>1</th>\n",
       "      <td>For sale</td>\n",
       "      <td>single family</td>\n",
       "      <td>12911 E Heroy Ave</td>\n",
       "      <td>Spokane Valley</td>\n",
       "      <td>7.574045</td>\n",
       "      <td>99216</td>\n",
       "      <td>WA</td>\n",
       "      <td>12.644328</td>\n",
       "      <td>False</td>\n",
       "      <td>1.098613</td>\n",
       "      <td>1.386295e+00</td>\n",
       "      <td>9.951321e-03</td>\n",
       "      <td>2019</td>\n",
       "      <td>False</td>\n",
       "      <td>False</td>\n",
       "    </tr>\n",
       "    <tr>\n",
       "      <th>2</th>\n",
       "      <td>For sale</td>\n",
       "      <td>townhouse</td>\n",
       "      <td>1624 S Newkirk St</td>\n",
       "      <td>Philadelphia</td>\n",
       "      <td>6.799056</td>\n",
       "      <td>19145</td>\n",
       "      <td>PA</td>\n",
       "      <td>12.250090</td>\n",
       "      <td>False</td>\n",
       "      <td>0.693148</td>\n",
       "      <td>9.999995e-07</td>\n",
       "      <td>9.999995e-07</td>\n",
       "      <td>1920</td>\n",
       "      <td>False</td>\n",
       "      <td>True</td>\n",
       "    </tr>\n",
       "    <tr>\n",
       "      <th>3</th>\n",
       "      <td>Active</td>\n",
       "      <td>other</td>\n",
       "      <td>552 Casanova Ct</td>\n",
       "      <td>POINCIANA</td>\n",
       "      <td>7.317876</td>\n",
       "      <td>34759</td>\n",
       "      <td>FL</td>\n",
       "      <td>12.109011</td>\n",
       "      <td>False</td>\n",
       "      <td>-13.815511</td>\n",
       "      <td>8.472983e-01</td>\n",
       "      <td>-2.231423e-01</td>\n",
       "      <td>2006</td>\n",
       "      <td>True</td>\n",
       "      <td>True</td>\n",
       "    </tr>\n",
       "    <tr>\n",
       "      <th>4</th>\n",
       "      <td>unknown</td>\n",
       "      <td>single family</td>\n",
       "      <td>8612 Cedar Plains Ln</td>\n",
       "      <td>Houston</td>\n",
       "      <td>7.565275</td>\n",
       "      <td>77080</td>\n",
       "      <td>TX</td>\n",
       "      <td>12.650742</td>\n",
       "      <td>False</td>\n",
       "      <td>1.098613</td>\n",
       "      <td>1.098613e+00</td>\n",
       "      <td>-5.108240e-01</td>\n",
       "      <td>2019</td>\n",
       "      <td>False</td>\n",
       "      <td>True</td>\n",
       "    </tr>\n",
       "  </tbody>\n",
       "</table>\n",
       "</div>"
      ],
      "text/plain": [
       "     status   propertyType                street            city      sqft  \\\n",
       "0    Active  single family        240 Heather Ln  Southern Pines  7.972466   \n",
       "1  For sale  single family     12911 E Heroy Ave  Spokane Valley  7.574045   \n",
       "2  For sale      townhouse     1624 S Newkirk St    Philadelphia  6.799056   \n",
       "3    Active          other      552 Casanova Ct        POINCIANA  7.317876   \n",
       "4   unknown  single family  8612 Cedar Plains Ln         Houston  7.565275   \n",
       "\n",
       "   zipcode state     target  private_pool_final  beds_final  schools_rating  \\\n",
       "0    28387    NC  12.943237               False    1.386295    1.648659e+00   \n",
       "1    99216    WA  12.644328               False    1.098613    1.386295e+00   \n",
       "2    19145    PA  12.250090               False    0.693148    9.999995e-07   \n",
       "3    34759    FL  12.109011               False  -13.815511    8.472983e-01   \n",
       "4    77080    TX  12.650742               False    1.098613    1.098613e+00   \n",
       "\n",
       "   school_distance_min Year built  Remodeled year_final  Heating_final  \n",
       "0         9.932521e-01       2019                 False           True  \n",
       "1         9.951321e-03       2019                 False          False  \n",
       "2         9.999995e-07       1920                 False           True  \n",
       "3        -2.231423e-01       2006                  True           True  \n",
       "4        -5.108240e-01       2019                 False           True  "
      ]
     },
     "execution_count": 151,
     "metadata": {},
     "output_type": "execute_result"
    }
   ],
   "source": [
    "# чтение данных без кодирования категориальных прихнаков\n",
    "df = pd.read_csv('data/cleaned_data_for_CatBoost.csv')\n",
    "df.head()"
   ]
  },
  {
   "cell_type": "code",
   "execution_count": 152,
   "metadata": {},
   "outputs": [],
   "source": [
    "# разделение данных\n",
    "y = df['target']\n",
    "X = df.drop(['target'], axis=1)\n",
    "X_train, X_test, y_train, y_test = train_test_split(X, y, test_size=0.2, shuffle=True, random_state=RANDOM_SEED)"
   ]
  },
  {
   "cell_type": "code",
   "execution_count": 126,
   "metadata": {},
   "outputs": [
    {
     "name": "stdout",
     "output_type": "stream",
     "text": [
      "Fitting 5 folds for each of 81 candidates, totalling 405 fits\n"
     ]
    }
   ],
   "source": [
    "# определеяем еще раз категориальные признаки\n",
    "#cat_features = ['status', 'propertyType', 'street', 'zipcode', 'state', 'city', 'Year built']\n",
    "#param_grid = {\n",
    "#    'iterations': [100, 300, 500],\n",
    "#    'learning_rate': [0.01, 0.03, 0.1],\n",
    "#    'depth': [4, 6, 8],\n",
    "#    'l2_leaf_reg': [1, 3, 5],\n",
    "#}\n",
    "#cb_model = CatBoostRegressor(random_seed=RANDOM_SEED, silent=True)\n",
    "#grid_search = GridSearchCV(estimator=cb_model, param_grid=param_grid, cv=5, scoring='neg_mean_squared_error', verbose=2, n_jobs=-1)\n",
    "#grid_search.fit(X_train, y_train, cat_features=cat_features)\n",
    "#best_params = grid_search.best_params_\n",
    "#best_cb_model = CatBoostRegressor(iterations=best_params['iterations'], learning_rate=best_params['learning_rate'], depth=best_params['depth'], l2_leaf_reg=best_params['l2_leaf_reg'], random_seed=RANDOM_SEED, silent=True)\n",
    "#best_cb_model.fit(X_train, y_train, cat_features=cat_features)\n",
    "\n",
    "#y_train_pred = best_cb_model.predict(X_train)\n",
    "#y_test_pred = best_cb_model.predict(X_test)"
   ]
  },
  {
   "cell_type": "code",
   "execution_count": 127,
   "metadata": {},
   "outputs": [
    {
     "name": "stdout",
     "output_type": "stream",
     "text": [
      "Train MSE: 0.08\n",
      "Test MSE: 0.10\n",
      "Train MAE: 0.20\n",
      "Test MAE: 0.21\n",
      "Train R2: 0.89\n",
      "Test R2: 0.86\n"
     ]
    }
   ],
   "source": [
    "# вычисляем метрики\n",
    "#mse_train = mean_squared_error(y_train, y_train_pred)\n",
    "#mse_test = mean_squared_error(y_test, y_test_pred)\n",
    "#mae_train = mean_absolute_error(y_train, y_train_pred)\n",
    "#mae_test = mean_absolute_error(y_test, y_test_pred) \n",
    "#r2_train = r2_score(y_train, y_train_pred)\n",
    "#r2_test = r2_score(y_test, y_test_pred)\n",
    "\n",
    "# выводим метрики\n",
    "#print(f\"Train MSE: {mse_train:.2f}\")\n",
    "#print(f\"Test MSE: {mse_test:.2f}\")\n",
    "#print(f\"Train MAE: {mae_train:.2f}\")\n",
    "#print(f\"Test MAE: {mae_test:.2f}\") \n",
    "#print(f\"Train R2: {r2_train:.2f}\")\n",
    "#print(f\"Test R2: {r2_test:.2f}\")"
   ]
  },
  {
   "cell_type": "markdown",
   "metadata": {},
   "source": [
    "Модель CatBoostRegressor крутится у меня на ноутбуке больше суток, поэтому закомментировала. Но результаты рассчитанных метрик предоставлены выше."
   ]
  },
  {
   "cell_type": "markdown",
   "metadata": {},
   "source": [
    "Алгоритм градиентного бустинга для задачи регрессии CatBoostRegressor работает так же хорошо, как RandomizedSearchCV. На тестовой и трейновой выборках нет переобучения. Метрики MSE и MAE (0,10 и 0,21 соответственно) на тестовой выборке, а R2 0,86 на тестовой выборке."
   ]
  },
  {
   "cell_type": "markdown",
   "metadata": {},
   "source": [
    "## *Выводы 4 части работы:*"
   ]
  },
  {
   "cell_type": "code",
   "execution_count": 153,
   "metadata": {},
   "outputs": [
    {
     "data": {
      "text/html": [
       "<div>\n",
       "<style scoped>\n",
       "    .dataframe tbody tr th:only-of-type {\n",
       "        vertical-align: middle;\n",
       "    }\n",
       "\n",
       "    .dataframe tbody tr th {\n",
       "        vertical-align: top;\n",
       "    }\n",
       "\n",
       "    .dataframe thead th {\n",
       "        text-align: right;\n",
       "    }\n",
       "</style>\n",
       "<table border=\"1\" class=\"dataframe\">\n",
       "  <thead>\n",
       "    <tr style=\"text-align: right;\">\n",
       "      <th></th>\n",
       "      <th>Metric</th>\n",
       "      <th>LinearRegression</th>\n",
       "      <th>Ridge</th>\n",
       "      <th>ElasticNetCV</th>\n",
       "      <th>RandomForestRegressor</th>\n",
       "      <th>RandomizedSearchCV</th>\n",
       "      <th>CatBoostRegressor</th>\n",
       "    </tr>\n",
       "  </thead>\n",
       "  <tbody>\n",
       "    <tr>\n",
       "      <th>0</th>\n",
       "      <td>Train MSE</td>\n",
       "      <td>0.46</td>\n",
       "      <td>0.46</td>\n",
       "      <td>0.59</td>\n",
       "      <td>0.01</td>\n",
       "      <td>0.05</td>\n",
       "      <td>0.08</td>\n",
       "    </tr>\n",
       "    <tr>\n",
       "      <th>1</th>\n",
       "      <td>Test MSE</td>\n",
       "      <td>0.45</td>\n",
       "      <td>0.45</td>\n",
       "      <td>0.58</td>\n",
       "      <td>0.09</td>\n",
       "      <td>0.10</td>\n",
       "      <td>0.10</td>\n",
       "    </tr>\n",
       "    <tr>\n",
       "      <th>2</th>\n",
       "      <td>Train MAE</td>\n",
       "      <td>0.49</td>\n",
       "      <td>0.49</td>\n",
       "      <td>0.55</td>\n",
       "      <td>0.07</td>\n",
       "      <td>0.14</td>\n",
       "      <td>0.20</td>\n",
       "    </tr>\n",
       "    <tr>\n",
       "      <th>3</th>\n",
       "      <td>Test MAE</td>\n",
       "      <td>0.48</td>\n",
       "      <td>0.48</td>\n",
       "      <td>0.54</td>\n",
       "      <td>0.18</td>\n",
       "      <td>0.20</td>\n",
       "      <td>0.21</td>\n",
       "    </tr>\n",
       "    <tr>\n",
       "      <th>4</th>\n",
       "      <td>Train R2</td>\n",
       "      <td>0.37</td>\n",
       "      <td>0.37</td>\n",
       "      <td>0.19</td>\n",
       "      <td>0.98</td>\n",
       "      <td>0.93</td>\n",
       "      <td>0.89</td>\n",
       "    </tr>\n",
       "    <tr>\n",
       "      <th>5</th>\n",
       "      <td>Test R2</td>\n",
       "      <td>0.37</td>\n",
       "      <td>0.37</td>\n",
       "      <td>0.19</td>\n",
       "      <td>0.87</td>\n",
       "      <td>0.86</td>\n",
       "      <td>0.86</td>\n",
       "    </tr>\n",
       "  </tbody>\n",
       "</table>\n",
       "</div>"
      ],
      "text/plain": [
       "      Metric  LinearRegression  Ridge  ElasticNetCV  RandomForestRegressor  \\\n",
       "0  Train MSE              0.46   0.46          0.59                   0.01   \n",
       "1   Test MSE              0.45   0.45          0.58                   0.09   \n",
       "2  Train MAE              0.49   0.49          0.55                   0.07   \n",
       "3   Test MAE              0.48   0.48          0.54                   0.18   \n",
       "4   Train R2              0.37   0.37          0.19                   0.98   \n",
       "5    Test R2              0.37   0.37          0.19                   0.87   \n",
       "\n",
       "   RandomizedSearchCV  CatBoostRegressor  \n",
       "0                0.05               0.08  \n",
       "1                0.10               0.10  \n",
       "2                0.14               0.20  \n",
       "3                0.20               0.21  \n",
       "4                0.93               0.89  \n",
       "5                0.86               0.86  "
      ]
     },
     "execution_count": 153,
     "metadata": {},
     "output_type": "execute_result"
    }
   ],
   "source": [
    "# построим таблицу с обобщенными данными\n",
    "metrics = {'Metric': ['Train MSE', 'Test MSE', 'Train MAE', 'Test MAE', 'Train R2', 'Test R2'],\n",
    "           'LinearRegression': [0.46, 0.45, 0.49, 0.48, 0.37, 0.37],\n",
    "           'Ridge':[0.46, 0.45, 0.49, 0.48, 0.37, 0.37],\n",
    "           'ElasticNetCV': [0.59, 0.58, 0.55, 0.54, 0.19, 0.19],\n",
    "           'RandomForestRegressor': [0.01, 0.09, 0.07, 0.18, 0.98, 0.87],\n",
    "           'RandomizedSearchCV': [0.05, 0.10, 0.14, 0.20, 0.93, 0.86],\n",
    "           'CatBoostRegressor':[0.08, 0.10, 0.20, 0.21, 0.89, 0.86]\n",
    "}\n",
    "\n",
    "metric_com = pd.DataFrame(metrics)\n",
    "metric_com"
   ]
  },
  {
   "cell_type": "markdown",
   "metadata": {},
   "source": [
    "*Итоговый вывод:*\n",
    "\n",
    "Анализируя общую таблицу, можно сказать, что наилучшие модели RandomizedSearchCV и CatBoostRegressor. Показатели ошибок MSE и MAE наименьшие у этих моделей, коэффициент детерминации R2 наибольший для трейновой и тестовой выборок. При этом разница между выборками у этих моделей минимальная, что указывает на отсутствие переобучения у моделей."
   ]
  }
 ],
 "metadata": {
  "kernelspec": {
   "display_name": "Python 3",
   "language": "python",
   "name": "python3"
  },
  "language_info": {
   "codemirror_mode": {
    "name": "ipython",
    "version": 3
   },
   "file_extension": ".py",
   "mimetype": "text/x-python",
   "name": "python",
   "nbconvert_exporter": "python",
   "pygments_lexer": "ipython3",
   "version": "3.9.10"
  },
  "orig_nbformat": 4
 },
 "nbformat": 4,
 "nbformat_minor": 2
}
