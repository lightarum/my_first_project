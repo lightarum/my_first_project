{
 "cells": [
  {
   "cell_type": "code",
   "execution_count": 37,
   "metadata": {},
   "outputs": [],
   "source": [
    "import pandas as pd\n",
    "import numpy as np"
   ]
  },
  {
   "cell_type": "code",
   "execution_count": 40,
   "metadata": {},
   "outputs": [
    {
     "data": {
      "text/plain": [
       "0     Stratton Street Mayfair Westminster Borough Lo...\n",
       "1     130 134 Southampton Row Camden London WC1B 5AF...\n",
       "2      151 bis Rue de Rennes 6th arr 75006 Paris France\n",
       "3     216 Avenue Jean Jaures 19th arr 75019 Paris Fr...\n",
       "4             Molenwerf 1 1014 AG Amsterdam Netherlands\n",
       "5                    Via Mecenate 121 20138 Milan Italy\n",
       "6     97 Cromwell Road Kensington and Chelsea London...\n",
       "7     Josefsgasse 4 6 08 Josefstadt 1080 Vienna Austria\n",
       "8     190 Queen s Gate Kensington and Chelsea London...\n",
       "9     Holland Park Avenue Kensington and Chelsea Lon...\n",
       "10            Molenwerf 1 1014 AG Amsterdam Netherlands\n",
       "11    34 44 Barkston Gardens Kensington and Chelsea ...\n",
       "12    16 Sumner Place Kensington and Chelsea London ...\n",
       "13    97 Cromwell Road Kensington and Chelsea London...\n",
       "14     Putget 68 Sarri St Gervasi 08023 Barcelona Spain\n",
       "15             Caspe 103 Eixample 08013 Barcelona Spain\n",
       "16    1 Kings Cross Road Islington London WC1X 9HX U...\n",
       "17    Wrights Lane Kensington and Chelsea London W8 ...\n",
       "18    59 Leinster Square Kensington and Chelsea Lond...\n",
       "19    Pintor Fortuny 13 Ciutat Vella 08001 Barcelona...\n",
       "Name: hotel_address, dtype: object"
      ]
     },
     "execution_count": 40,
     "metadata": {},
     "output_type": "execute_result"
    }
   ],
   "source": [
    "hotels = pd.read_csv('hotels.csv')\n",
    "hotels['hotel_address'].head(20)"
   ]
  },
  {
   "cell_type": "code",
   "execution_count": 22,
   "metadata": {},
   "outputs": [
    {
     "data": {
      "text/plain": [
       "Timestamp('2017-08-03 00:00:00')"
      ]
     },
     "execution_count": 22,
     "metadata": {},
     "output_type": "execute_result"
    }
   ],
   "source": [
    "hotels['hotel_name'].nunique()\n",
    "hotels['review_date'] = pd.to_datetime(hotels['review_date'])\n",
    "hotels['review_date'].max()"
   ]
  },
  {
   "cell_type": "code",
   "execution_count": 7,
   "metadata": {},
   "outputs": [
    {
     "data": {
      "text/plain": [
       "0    [Leisure trip, Couple, Studio Suite, Stayed 2 ...\n",
       "1    [Business trip, Couple, Standard Double Room, ...\n",
       "Name: tags_n, dtype: object"
      ]
     },
     "execution_count": 7,
     "metadata": {},
     "output_type": "execute_result"
    }
   ],
   "source": [
    "def rev_func(str_tags):\n",
    "    str_tags = str_tags[2:-2]\n",
    "    list_tags = str_tags.strip().split(' \\', \\' ')\n",
    "    return list_tags\n",
    "hotels['tags_n'] = hotels['tags'].apply(rev_func)\n",
    "hotels['tags_n'].head(2)"
   ]
  },
  {
   "cell_type": "code",
   "execution_count": 18,
   "metadata": {},
   "outputs": [
    {
     "name": "stdout",
     "output_type": "stream",
     "text": [
      "Leisure trip\n"
     ]
    }
   ],
   "source": [
    "hotels = hotels.explode('tags_n')\n",
    "#len(hotels['tags_n'].unique())\n",
    "tags_list = hotels['tags_n'].tolist()\n",
    "\n",
    "def most_frequent(tags_list):\n",
    "    return max(set(tags_list), key = tags_list.count)\n",
    "print(most_frequent(tags_list))"
   ]
  },
  {
   "cell_type": "code",
   "execution_count": 28,
   "metadata": {},
   "outputs": [],
   "source": [
    "hotels['tags'] = hotels['tags'].apply(lambda x: x[3:-3].split(' \\', \\' '))"
   ]
  },
  {
   "cell_type": "code",
   "execution_count": 35,
   "metadata": {},
   "outputs": [
    {
     "data": {
      "text/plain": [
       "0    1.0\n",
       "Name: stay, dtype: float64"
      ]
     },
     "execution_count": 35,
     "metadata": {},
     "output_type": "execute_result"
    }
   ],
   "source": [
    "def get_stay(x):\n",
    "    for tag in x:\n",
    "        words = tag.split()\n",
    "        if words[0] =='Stayed':\n",
    "            return int(words[1])\n",
    "    return np.NaN\n",
    "\n",
    "hotels['stay'] = hotels['tags'].apply(get_stay)\n",
    "hotels['stay'].mode()\n",
    "#hotels['stay'].fillna(1, inplace=True)"
   ]
  },
  {
   "cell_type": "code",
   "execution_count": 70,
   "metadata": {},
   "outputs": [],
   "source": [
    "hotels = hotels.drop(['days_since_review', 'tags', 'positive_review', 'negative_review', \n",
    "                      'reviewer_nationality', 'hotel_address', 'review_date', 'hotel_name'], axis = 1)"
   ]
  },
  {
   "cell_type": "code",
   "execution_count": 71,
   "metadata": {},
   "outputs": [
    {
     "name": "stdout",
     "output_type": "stream",
     "text": [
      "<class 'pandas.core.frame.DataFrame'>\n",
      "RangeIndex: 386803 entries, 0 to 386802\n",
      "Data columns (total 9 columns):\n",
      " #   Column                                      Non-Null Count   Dtype  \n",
      "---  ------                                      --------------   -----  \n",
      " 0   additional_number_of_scoring                386803 non-null  int64  \n",
      " 1   average_score                               386803 non-null  float64\n",
      " 2   review_total_negative_word_counts           386803 non-null  int64  \n",
      " 3   total_number_of_reviews                     386803 non-null  int64  \n",
      " 4   review_total_positive_word_counts           386803 non-null  int64  \n",
      " 5   total_number_of_reviews_reviewer_has_given  386803 non-null  int64  \n",
      " 6   reviewer_score                              386803 non-null  float64\n",
      " 7   lat                                         386803 non-null  float64\n",
      " 8   lng                                         386803 non-null  float64\n",
      "dtypes: float64(4), int64(5)\n",
      "memory usage: 26.6 MB\n"
     ]
    }
   ],
   "source": [
    "hotels = hotels.fillna(value=0, inplace=False)\n",
    "hotels.info()"
   ]
  },
  {
   "attachments": {},
   "cell_type": "markdown",
   "metadata": {},
   "source": [
    "РАЗДЕЛЕНИЕ"
   ]
  },
  {
   "cell_type": "code",
   "execution_count": 72,
   "metadata": {},
   "outputs": [],
   "source": [
    "# Разбиваем датафрейм на части, необходимые для обучения и тестирования модели  \n",
    "# Х - данные с информацией об отелях, у - целевая переменная (рейтинги отелей)  \n",
    "X = hotels.drop(['reviewer_score'], axis = 1)  \n",
    "y = hotels['reviewer_score'] "
   ]
  },
  {
   "cell_type": "code",
   "execution_count": 73,
   "metadata": {},
   "outputs": [],
   "source": [
    "# Загружаем специальный инструмент для разбивки:  \n",
    "from sklearn.model_selection import train_test_split  "
   ]
  },
  {
   "cell_type": "code",
   "execution_count": 74,
   "metadata": {},
   "outputs": [],
   "source": [
    "# Наборы данных с меткой \"train\" будут использоваться для обучения модели, \"test\" - для тестирования.  \n",
    "# Для тестирования мы будем использовать 25% от исходного датасета.  \n",
    "X_train, X_test, y_train, y_test = train_test_split(X, y, test_size=0.25, random_state=42)"
   ]
  },
  {
   "attachments": {},
   "cell_type": "markdown",
   "metadata": {},
   "source": [
    "ОЦЕНКА ЗНАЧИМОСТИ ПЕРЕМЕННЫХ"
   ]
  },
  {
   "cell_type": "code",
   "execution_count": 79,
   "metadata": {},
   "outputs": [],
   "source": [
    "# непрерывные признаки\n",
    "num_cols = ['total_number_of_reviews', 'review_total_negative_word_counts', 'review_total_positive_word_counts',\n",
    "            'additional_number_of_scoring', 'total_number_of_reviews_reviewer_has_given']\n",
    "\n",
    "# категориальные признаки\n",
    "cat_cols = ['average_score', 'lat']"
   ]
  },
  {
   "attachments": {},
   "cell_type": "markdown",
   "metadata": {},
   "source": [
    "Для оценки значимости категориальных переменных будем использовать изученный нами непараметрический тест хи-квадрат, реализованный в библиотеке sklearn.feature_selection.chi2. Метод возвращает массив значений хи-квадрат и p-value для каждого признака. Используем только значения хи-квадрат и выведем их на графике:"
   ]
  },
  {
   "cell_type": "code",
   "execution_count": 80,
   "metadata": {},
   "outputs": [
    {
     "data": {
      "text/plain": [
       "<AxesSubplot: >"
      ]
     },
     "execution_count": 80,
     "metadata": {},
     "output_type": "execute_result"
    },
    {
     "data": {
      "image/png": "[encoded data removed]",
      "text/plain": [
       "<Figure size 640x480 with 1 Axes>"
      ]
     },
     "metadata": {},
     "output_type": "display_data"
    }
   ],
   "source": [
    "y=y.astype('int')\n",
    "\n",
    "from sklearn.feature_selection import chi2 # хи-квадрат\n",
    "\n",
    "imp_cat = pd.Series(chi2(X[cat_cols], y)[0], index=cat_cols)\n",
    "imp_cat.sort_values(inplace = True)\n",
    "imp_cat.plot(kind = 'barh')"
   ]
  },
  {
   "attachments": {},
   "cell_type": "markdown",
   "metadata": {},
   "source": [
    "Для оценки значимости непрерывных переменных будем использовать функцию f_classif из библиотеки sklearn. В основе метода оценки значимости переменных лежит изученный вами в юнитах по статистике анализ (ANOVA). Основу процедуры составляет обобщение результатов двух выборочных t-тестов для независимых выборок (2-sample t)."
   ]
  },
  {
   "cell_type": "code",
   "execution_count": 77,
   "metadata": {},
   "outputs": [
    {
     "data": {
      "text/plain": [
       "<AxesSubplot: >"
      ]
     },
     "execution_count": 77,
     "metadata": {},
     "output_type": "execute_result"
    },
    {
     "data": {
      "image/png": "[encoded data removed]",
      "text/plain": [
       "<Figure size 640x480 with 1 Axes>"
      ]
     },
     "metadata": {},
     "output_type": "display_data"
    }
   ],
   "source": [
    "from sklearn.feature_selection import f_classif # anova\n",
    "\n",
    "imp_num = pd.Series(f_classif(X[num_cols], y)[0], index = num_cols)\n",
    "imp_num.sort_values(inplace = True)\n",
    "imp_num.plot(kind = 'barh')"
   ]
  },
  {
   "attachments": {},
   "cell_type": "markdown",
   "metadata": {},
   "source": [
    "ОБУЧЕНИЕ"
   ]
  },
  {
   "cell_type": "code",
   "execution_count": 42,
   "metadata": {},
   "outputs": [],
   "source": [
    "# Импортируем необходимые библиотеки:  \n",
    "from sklearn.ensemble import RandomForestRegressor # инструмент для создания и обучения модели  \n",
    "from sklearn import metrics # инструменты для оценки точности модели  \n",
    "  \n",
    "# Создаём модель  \n",
    "regr = RandomForestRegressor(n_estimators=100)  \n",
    "      \n",
    "# Обучаем модель на тестовом наборе данных  \n",
    "regr.fit(X_train, y_train)  \n",
    "      \n",
    "# Используем обученную модель для предсказания рейтинга отелей в тестовой выборке.  \n",
    "# Предсказанные значения записываем в переменную y_pred  \n",
    "y_pred = regr.predict(X_test)  \n"
   ]
  },
  {
   "cell_type": "code",
   "execution_count": 43,
   "metadata": {},
   "outputs": [
    {
     "name": "stdout",
     "output_type": "stream",
     "text": [
      "MAPE: 0.14142743044561526\n"
     ]
    }
   ],
   "source": [
    "# Сравниваем предсказанные значения (y_pred) с реальными (y_test), и смотрим насколько они отличаются  \n",
    "# Метрика называется Mean Absolute Percentage Error (MAPE) и показывает среднюю абсолютную процентную ошибку предсказанных значений от фактических.  \n",
    "print('MAPE:', metrics.mean_absolute_percentage_error(y_test, y_pred))"
   ]
  },
  {
   "attachments": {},
   "cell_type": "markdown",
   "metadata": {},
   "source": [
    "Небольшой бонус:\n"
   ]
  },
  {
   "cell_type": "code",
   "execution_count": null,
   "metadata": {},
   "outputs": [],
   "source": [
    "# # убираем признаки которые еще не успели обработать, \n",
    "# # модель на признаках с dtypes \"object\" обучаться не будет, просто выберим их и удалим\n",
    "# object_columns = [s for s in hotels.columns if hotels[s].dtypes == 'object']\n",
    "# hotels.drop(object_columns, axis = 1, inplace=True)\n",
    "\n",
    "# # заполняем пропуски самым простым способом\n",
    "# hotels = hotels.fillna(0)"
   ]
  },
  {
   "cell_type": "code",
   "execution_count": null,
   "metadata": {},
   "outputs": [],
   "source": [
    "# Запускаем кодирование для наиболее частых тегов. Граница для\n",
    "# наиболее часто берется 5% от размера набора данных.\n",
    "\n",
    "boundary = hotels.shape[0] * 0.05  # 5% граница\n",
    "c = Counter(tag for row in hotels['tags'] for tag in row)\n",
    "frequent_tags_count = dict(filter(lambda x: x[1] > boundary, c.items()))\n",
    "print('Наиболее часто встречающиеся теги и их количество:')\n",
    "frequent_tags_count"
   ]
  },
  {
   "cell_type": "code",
   "execution_count": null,
   "metadata": {},
   "outputs": [],
   "source": [
    "# Получение списка наиболее часто встречающихся тегов. Теги \"stay\" исключены\n",
    "\n",
    "frequent_tags = list(dict(filter(lambda x: \n",
    "    x[1]>boundary and x[0].split()[0]!='Stayed', \n",
    "    frequent_tags_count.items())).keys())\n",
    "frequent_tags\n",
    "\n",
    "# Быстрое кодирование для частых тегов.\n",
    "\n",
    "for tag in frequent_tags:\n",
    "    hotels[tag] = hotels['tags'].apply(lambda x: 1 if tag in x else 0)"
   ]
  },
  {
   "attachments": {},
   "cell_type": "markdown",
   "metadata": {},
   "source": [
    "В приложении ссылки на ноутбуки в kaggel и github.\n",
    "https://www.kaggle.com/code/lightarumrumiantseva/project-3-bookingcom-svetlana-rumyantseva/edit/run/130853040\n",
    "https://github.com/lightarum/my_first_project/tree/main/SkillFactory/project_3\n",
    "Достигнутое MAPE на каггле 12.83916\n",
    "В процессе работы первый вариант MAPE был немного больше, после доп. удаления столбцов с сильной корреляцией MAPE был улучшен (вторая попытка, в приложении). Третья попытка была нормализовать данные, но в данном случае MAPE почти не изменилось от первоначального."
   ]
  }
 ],
 "metadata": {
  "kernelspec": {
   "display_name": "Python 3",
   "language": "python",
   "name": "python3"
  },
  "language_info": {
   "codemirror_mode": {
    "name": "ipython",
    "version": 3
   },
   "file_extension": ".py",
   "mimetype": "text/x-python",
   "name": "python",
   "nbconvert_exporter": "python",
   "pygments_lexer": "ipython3",
   "version": "3.9.10"
  }
 },
 "nbformat": 4,
 "nbformat_minor": 2
}
