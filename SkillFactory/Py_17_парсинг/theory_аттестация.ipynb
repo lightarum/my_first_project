{
 "cells": [
  {
   "cell_type": "markdown",
   "metadata": {},
   "source": [
    "- работает протокол HTTP и разметка с HTML;<br>\n",
    "- делать HTTP-запросы из кода с помощью библиотеки requests;<br>\n",
    "- с помощью библиотеки BeautifulSoup разобрать HTTP-код и найти в нём нужные данные;<br>\n",
    "- работать с базовыми методами API на примере ВКонтакте (получение токена, запросы, обход основных ограничений);<br>\n",
    "- в базовом варианте обеспечить автоматическое выполнение своих скриптов."
   ]
  },
  {
   "cell_type": "markdown",
   "metadata": {},
   "source": [
    "Библиотека requests"
   ]
  },
  {
   "cell_type": "code",
   "execution_count": 1,
   "metadata": {},
   "outputs": [
    {
     "name": "stdout",
     "output_type": "stream",
     "text": [
      "Requirement already satisfied: requests in c:\\users\\sveta\\appdata\\local\\programs\\python\\python39\\lib\\site-packages (2.28.2)"
     ]
    },
    {
     "name": "stderr",
     "output_type": "stream",
     "text": [
      "WARNING: You are using pip version 21.2.4; however, version 23.0.1 is available.\n",
      "You should consider upgrading via the 'C:\\Users\\sveta\\AppData\\Local\\Programs\\Python\\Python39\\python.exe -m pip install --upgrade pip' command.\n"
     ]
    },
    {
     "name": "stdout",
     "output_type": "stream",
     "text": [
      "\n",
      "Requirement already satisfied: urllib3<1.27,>=1.21.1 in c:\\users\\sveta\\appdata\\local\\programs\\python\\python39\\lib\\site-packages (from requests) (1.26.15)\n",
      "Requirement already satisfied: certifi>=2017.4.17 in c:\\users\\sveta\\appdata\\local\\programs\\python\\python39\\lib\\site-packages (from requests) (2022.12.7)\n",
      "Requirement already satisfied: idna<4,>=2.5 in c:\\users\\sveta\\appdata\\local\\programs\\python\\python39\\lib\\site-packages (from requests) (3.4)\n",
      "Requirement already satisfied: charset-normalizer<4,>=2 in c:\\users\\sveta\\appdata\\local\\programs\\python\\python39\\lib\\site-packages (from requests) (3.1.0)\n"
     ]
    }
   ],
   "source": [
    "# Устанавливаем библиотеку requests\n",
    "!pip install requests "
   ]
  },
  {
   "cell_type": "code",
   "execution_count": 3,
   "metadata": {},
   "outputs": [
    {
     "name": "stdout",
     "output_type": "stream",
     "text": [
      "{'CharCode': 'EUR',\n",
      " 'ID': 'R01239',\n",
      " 'Name': 'Евро',\n",
      " 'Nominal': 1,\n",
      " 'NumCode': '978',\n",
      " 'Previous': 76.9564,\n",
      " 'Value': 76.7344}\n",
      "Чешских крон\n"
     ]
    }
   ],
   "source": [
    "import requests # Импортируем библиотеку requests\n",
    "url = 'https://www.cbr-xml-daily.ru/daily_json.js' # Определяем значение URL страницы для запроса\n",
    "response = requests.get(url) # Делаем GET-запрос к ресурсу и результат ответа сохраняем в переменной response\n",
    "\n",
    "#print(response) # Выводим значение response на экран как объект\n",
    "\n",
    "#print(response.status_code) # Выводим числовое значение response на экран\n",
    "\n",
    "#response = requests.get('https://www.cbr-xml-daily.ru/daily.xml')\n",
    "#print(response)\n",
    "\n",
    "#print(response.text) # Выводим содержимое атрибута text переменной response на экран\n",
    "\n",
    "\n",
    "from pprint import pprint # Импортируем функцию pprint()\n",
    "currencies = response.json() # Применяем метод json()\n",
    "#pprint(currencies) # Выводим результат на экран\n",
    "\n",
    "pprint(currencies['Valute']['EUR']) # Выводим на экран информацию о валюте евро\n",
    "\n",
    "print(currencies['Valute']['CZK']['Name'])"
   ]
  },
  {
   "cell_type": "code",
   "execution_count": 1,
   "metadata": {},
   "outputs": [],
   "source": [
    "import requests # Импортируем библиотеку requests\n",
    "url = 'https://nplus1.ru/news/2021/10/11/econobel2021' # Определяем адрес страницы\n",
    "response = requests.get(url)  # Выполняем GET-запрос\n",
    "#print(response.text)  # Выводим содержимое атрибута text"
   ]
  },
  {
   "cell_type": "markdown",
   "metadata": {},
   "source": [
    "Библиотека BeautifulSoup"
   ]
  },
  {
   "cell_type": "code",
   "execution_count": 3,
   "metadata": {},
   "outputs": [
    {
     "name": "stdout",
     "output_type": "stream",
     "text": [
      "Requirement already satisfied: beautifulsoup4 in c:\\users\\sveta\\appdata\\local\\programs\\python\\python39\\lib\\site-packages (4.12.0)\n",
      "Requirement already satisfied: soupsieve>1.2 in c:\\users\\sveta\\appdata\\local\\programs\\python\\python39\\lib\\site-packages (from beautifulsoup4) (2.4)\n"
     ]
    },
    {
     "name": "stderr",
     "output_type": "stream",
     "text": [
      "WARNING: You are using pip version 21.2.4; however, version 23.0.1 is available.\n",
      "You should consider upgrading via the 'C:\\Users\\sveta\\AppData\\Local\\Programs\\Python\\Python39\\python.exe -m pip install --upgrade pip' command.\n"
     ]
    }
   ],
   "source": [
    "# Устанавливаем библиотеку BeautifulSoup\n",
    "!pip install beautifulsoup4 "
   ]
  },
  {
   "cell_type": "code",
   "execution_count": 6,
   "metadata": {},
   "outputs": [],
   "source": [
    "from bs4 import BeautifulSoup # Импортируем библиотеку BeautifulSoup"
   ]
  },
  {
   "cell_type": "code",
   "execution_count": 7,
   "metadata": {},
   "outputs": [
    {
     "name": "stdout",
     "output_type": "stream",
     "text": [
      "<title>Премию Нобеля по экономике присудили за исследования экономики труда и причинно-следственных связей</title>\n",
      "Премию Нобеля по экономике присудили за исследования экономики труда и причинно-следственных связей\n"
     ]
    }
   ],
   "source": [
    "import requests # Импортируем библиотеку requests\n",
    "from bs4 import BeautifulSoup # Импортируем библиотеку BeautifulSoup\n",
    "url = 'https://nplus1.ru/news/2021/10/11/econobel2021' # Определяем адрес страницы\n",
    "response = requests.get(url) # Выполняем GET-запрос, содержимое ответа присваивается переменной response\n",
    "page = BeautifulSoup(response.text, 'html.parser') # Создаём объект BeautifulSoup, указывая html-парсер\n",
    "print(page.title) # Получаем тег title, отображающийся на вкладке браузера\n",
    "print(page.title.text) # Выводим текст из полученного тега, который содержится в атрибуте text"
   ]
  },
  {
   "cell_type": "markdown",
   "metadata": {},
   "source": [
    "Если при запросе к сайту, а затем при его разборе с помощью BeautifulSoup в тексте страницы не находится нужный тег, попробуйте вывести на печать пару тысяч символов текста страницы. Если там обнаружится нечто похожее на капчу, возможно, сайт посчитал вас роботом и отказывается выдавать содержимое. Чтобы получить его, попробуйте «притвориться» браузером при запросе из скрипта:"
   ]
  },
  {
   "cell_type": "code",
   "execution_count": 9,
   "metadata": {},
   "outputs": [
    {
     "name": "stdout",
     "output_type": "stream",
     "text": [
      "\n",
      "            Премию Нобеля по экономике присудили за исследования экономики труда и причинно-следственных связей\n",
      "          \n"
     ]
    }
   ],
   "source": [
    "requests.get(url, headers={'User-Agent': 'Mozilla/5.0'})\n",
    "\n",
    "#ИЗВЛЕКАЕМ ЗАГОЛОВОК И ВРЕМЯ НАПИСАНИЯ СТАТЬИ\n",
    "\n",
    "# Применяем метод find() к объекту и выводим результат на экран\n",
    "print(page.find('h1').text) "
   ]
  },
  {
   "cell_type": "code",
   "execution_count": null,
   "metadata": {},
   "outputs": [],
   "source": [
    "# 5.4\n",
    "import requests\n",
    "from bs4 import BeautifulSoup \n",
    "\n",
    "def wiki_header(url):\n",
    "    response = requests.get(url)\n",
    "    page = BeautifulSoup(response.text, 'html.parser') \n",
    "    return page.find('h1').text"
   ]
  },
  {
   "cell_type": "code",
   "execution_count": 23,
   "metadata": {},
   "outputs": [
    {
     "name": "stdout",
     "output_type": "stream",
     "text": [
      "<a class=\"mw-jump-link\" href=\"#bodyContent\">Jump to content</a>\n",
      "949\n",
      "['Magma', 'Máni', 'Maple', 'MAPPER', 'MARK-IV', 'Mary', 'MATLAB', 'MASM Microsoft Assembly x86', 'MATH-MATIC', 'Maude system']\n"
     ]
    }
   ],
   "source": [
    "#НЕУНИКАЛЬНЫЕ ТЕГИ: ИЗВЛЕКАЕМ ТЕКСТ И ДАТУ ПУБЛИКАЦИИ СТАТЬИ\n",
    "\n",
    "#print(page.find('div').text) # Выводим содержимое атрибута text тега div\n",
    "\n",
    "# Выводим содержимое атрибута text тега div класса n1_material text-18\n",
    "#print(page.find('div', class_='n1_material text-18').text) \n",
    "\n",
    "#print(page.find('div', class_='n1_material').text)\n",
    "#(page.find('div', class_='n1_material text-18').text) #одинаковый результат\n",
    "\n",
    "# Выводим на экран содержимое атрибута text тега a с классом \"relative\"\n",
    "#print(page.find('a', class_= \"relative\").text)\n",
    "\n",
    "\n",
    "#СБОР НЕСКОЛЬКИХ ЭЛЕМЕНТОВ: СОБИРАЕМ ВСЕ ССЫЛКИ НА СТРАНИЦЕ\n",
    "\n",
    "url = 'https://en.wikipedia.org/wiki/List_of_programming_languages' # Задаём адрес ресурса\n",
    "response = requests.get(url) # Делаем GET-запрос к ресурсу\n",
    "page = BeautifulSoup(response.text, 'html.parser') # Создаём объект BeautifulSoup\n",
    "print(page.find('a')) # Ищем ссылку по тегу <a> и выводим её на экран\n",
    "\n",
    "# find выводит ТОЛЬКО ОДНУ ссылку\n",
    "\n",
    "links = page.find_all('a') # Ищем все ссылки на странице и сохраняем в переменной links в виде списка\n",
    "print(len(links)) # Выводим количество найденных ссылок\n",
    "\n",
    "print([link.text for link in links[500:510]]) # Выводим ссылки с 500 по 509 включительно"
   ]
  },
  {
   "cell_type": "code",
   "execution_count": 28,
   "metadata": {},
   "outputs": [
    {
     "name": "stdout",
     "output_type": "stream",
     "text": [
      "{\"response\":[{\"id\":1,\"bdate\":\"10.10.1984\",\"sex\":2,\"first_name\":\"Павел\",\"last_name\":\"Дуров\",\"can_access_closed\":true,\"is_closed\":false}]}\n",
      "{'response': [{'bdate': '10.10.1984',\n",
      "               'can_access_closed': True,\n",
      "               'first_name': 'Павел',\n",
      "               'id': 1,\n",
      "               'is_closed': False,\n",
      "               'last_name': 'Дуров',\n",
      "               'sex': 2}]}\n",
      "10.10.1984\n",
      "Павел\n",
      "{'response': [{'bdate': '10.10.1984',\n",
      "               'can_access_closed': True,\n",
      "               'first_name': 'Павел',\n",
      "               'id': 1,\n",
      "               'is_closed': False,\n",
      "               'last_name': 'Дуров'},\n",
      "              {'can_access_closed': False,\n",
      "               'first_name': 'Александра',\n",
      "               'id': 2,\n",
      "               'is_closed': True,\n",
      "               'last_name': 'Владимирова'},\n",
      "              {'can_access_closed': True,\n",
      "               'deactivated': 'deleted',\n",
      "               'first_name': 'DELETED',\n",
      "               'id': 3,\n",
      "               'is_closed': False,\n",
      "               'last_name': ''}]}\n"
     ]
    }
   ],
   "source": [
    "#ЗАПРОС К API ИЗ КОДА\n",
    "import requests # Импортируем модуль requests\n",
    "token = '6c5ab8b66c5ab8b66c5ab8b6c36f483d3566c5a6c5ab8b60fbb920130d048871a5d1527' # Указываем свой сервисный токен\n",
    "url = 'https://api.vk.com/method/users.get' # Указываем адрес страницы к которой делаем запрос\n",
    "params = {'user_id': 1, 'v': 5.95, 'fields': 'sex,bdate', 'access_token': token, 'lang': 'ru'} # Перечисляем параметры нашего запроса в словаре params\n",
    "response = requests.get(url, params=params) # Отправляем запрос\n",
    "print(response.text) # Выводим текст ответа на экран\n",
    "\n",
    "\n",
    "from pprint import pprint # Импортируем функцию pprint()\n",
    "pprint(response.json()) # Выводим содержимое словаря, содержащего ответ, на экран\n",
    "\n",
    "#  по ключу ['response'], дальше список и берем 0 элемент [0], сейчас тамтолько один элемент 0\n",
    "# потом уже в переменной user мы изсписка берем по ключунужныйэлемент\n",
    "\n",
    "user = response.json()['response'][0] # Извлекаем из словаря по ключу response информацию о первом пользователе\n",
    "print(user['bdate']) # Выводим дату рождения первого пользователя на экран\n",
    "print(user['first_name'])\n",
    "\n",
    "\n",
    "\n",
    "ids = \",\".join(map(str, range(1, 4))) # Формируем строку, содержащую информацию о поле id первых трёх пользователей\n",
    "params = {'user_ids': ids, 'v': 5.95, 'fields': 'bdate', 'access_token': token, 'lang': 'ru'} # Формируем строку параметров\n",
    "pprint(requests.get(url, params=params).json()) # Посылаем запрос, полученный ответ в формате JSON-строки преобразуем в словарь и выводим на экран его содержимое, используя функцию pprint()"
   ]
  },
  {
   "cell_type": "code",
   "execution_count": 48,
   "metadata": {},
   "outputs": [
    {
     "name": "stdout",
     "output_type": "stream",
     "text": [
      "205 218 77\n",
      "0.48\n"
     ]
    }
   ],
   "source": [
    "#6.2\n",
    "import requests # Импортируем модуль requests\n",
    "token = '6c5ab8b66c5ab8b66c5ab8b6c36f483d3566c5a6c5ab8b60fbb920130d048871a5d1527' # Указываем свой сервисный токен\n",
    "url = 'https://api.vk.com/method/users.get' # Указываем адрес страницы к которой делаем запрос\n",
    "ids = \",\".join(map(str, range(1, 501)))\n",
    "params = {'user_ids': ids, 'v': 5.95, 'fields': 'sex', 'access_token': token, 'lang': 'ru'} \n",
    "response = requests.get(url, params=params)\n",
    "users = response.json()['response']\n",
    "\n",
    "count_famale = 0\n",
    "count_male = 0\n",
    "count = 0\n",
    "for user in users:\n",
    "    if user['sex'] == 1:\n",
    "        count_famale += 1\n",
    "    elif user['sex'] == 2:\n",
    "        count_male += 1\n",
    "    else:\n",
    "        count += 1\n",
    "print(count_famale, count_male, count)\n",
    "print(round((count_famale / (500 - count)), 2))"
   ]
  },
  {
   "cell_type": "code",
   "execution_count": 50,
   "metadata": {},
   "outputs": [
    {
     "name": "stdout",
     "output_type": "stream",
     "text": [
      "1000\n"
     ]
    }
   ],
   "source": [
    "#СБОР ИНФОРМАЦИИ ИЗ ГРУПП\n",
    "\n",
    "import requests # Импортируем модуль requests\n",
    "token =  '6c5ab8b66c5ab8b66c5ab8b6c36f483d3566c5a6c5ab8b60fbb920130d048871a5d1527' # Узазываем свой сервисный токен\n",
    "url = 'https://api.vk.com/method/groups.getMembers' # Указываем адрес обращения\n",
    "params = {'group_id': 'vk', 'v': 5.95, 'access_token': token} # Формируем строку параметров\n",
    "response = requests.get(url, params = params) # Посылаем запрос\n",
    "data = response.json() # Ответ сохраняем в переменной data в формате словаря\n",
    "#print(data) # Выводим содержимое переменной data на экран (отображён фрагмент)\n",
    "\n",
    "print(len(data['response']['items'])) # Выводим на экран количество элементов словаря"
   ]
  },
  {
   "cell_type": "code",
   "execution_count": 51,
   "metadata": {},
   "outputs": [
    {
     "name": "stdout",
     "output_type": "stream",
     "text": [
      "[6, 19, 47, 54, 79, 177, 198, 212, 219, 239, 243, 345, 407, 450, 467, 485, 510, 550, 619, 640]\n"
     ]
    }
   ],
   "source": [
    "users_for_checking = data['response']['items'][:20] # Загружаем в переменную информацию об id первых 20 пользователей в виде списка\n",
    "print(users_for_checking) # Выводим перечень id первых 20 пользователей"
   ]
  },
  {
   "cell_type": "code",
   "execution_count": 53,
   "metadata": {},
   "outputs": [
    {
     "name": "stdout",
     "output_type": "stream",
     "text": [
      "Выгружаю 5 пользователей с offset = 0\n",
      "Выгружаю 5 пользователей с offset = 5\n",
      "Выгружаю 5 пользователей с offset = 10\n",
      "Выгружаю 5 пользователей с offset = 15\n",
      "[6, 19, 47, 54, 79, 177, 198, 212, 219, 239, 243, 345, 407, 450, 467, 485, 510, 550, 619, 640]\n",
      "True\n"
     ]
    }
   ],
   "source": [
    "import requests # Импортируем модуль requests\n",
    "token = '6c5ab8b66c5ab8b66c5ab8b6c36f483d3566c5a6c5ab8b60fbb920130d048871a5d1527' # Указываем свой сервисный токен\n",
    "url = 'https://api.vk.com/method/groups.getMembers' # Указываем адрес обращения\n",
    "count = 5 \n",
    "offset = 0 \n",
    "user_ids = [] \n",
    "max_count = 20 \n",
    "while offset < max_count: \n",
    "    # Будем выгружать по count=5 пользователей, \n",
    "    # начиная с того места, где закончили на предыдущей итерации (offset) \n",
    "    print('Выгружаю {} пользователей с offset = {}'.format(count, offset))   \n",
    "    params = {'group_id': 'vk', 'v': 5.95, 'count': count, 'offset': offset, 'access_token': token} \n",
    "    response = requests.get(url, params = params) \n",
    "    data = response.json() \n",
    "    user_ids += data['response']['items'] \n",
    "    # Увеличиваем смещение на количество строк, которое мы уже выгрузили \n",
    "    offset += count \n",
    "print(user_ids)\n",
    "\n",
    "print(user_ids == users_for_checking) \n",
    "\n",
    "#работает корректно на 20 пользователях\n",
    "# можем выгрузить ВСЕХ: count = 1000 и max_count = data['response']['count']"
   ]
  },
  {
   "cell_type": "code",
   "execution_count": 54,
   "metadata": {},
   "outputs": [
    {
     "name": "stdout",
     "output_type": "stream",
     "text": [
      "Ожидаю 0.5 секунды...\n",
      "Ожидаю 0.5 секунды...\n",
      "Ожидаю 0.5 секунды...\n",
      "Ожидаю 0.5 секунды...\n",
      "Ожидаю 0.5 секунды...\n",
      "Цикл завершен, offset = 5000\n"
     ]
    }
   ],
   "source": [
    "#ОГРАНИЧЕНИЕ ПО ЧАСТОТЕ ЗАПРОСОВ\n",
    "# с паузой во времени\n",
    "import requests # Импортируем модуль requests\n",
    "import time # Импортируем модуль time\n",
    "token =  '6c5ab8b66c5ab8b66c5ab8b6c36f483d3566c5a6c5ab8b60fbb920130d048871a5d1527'\n",
    "url = 'https://api.vk.com/method/groups.getMembers' # Указываем адрес страницы, к которой делаем запрос\n",
    "count = 1000 \n",
    "offset = 0  \n",
    "user_ids = []  \n",
    "while offset < 5000: \n",
    "    params = {'group_id': 'vk', 'v': 5.95, 'count': count, 'offset': offset, 'access_token': token} \n",
    "    response = requests.get(url, params = params) \n",
    "    data = response.json() \n",
    "    user_ids += data['response']['items'] \n",
    "    offset += count \n",
    "    print('Ожидаю 0.5 секунды...') \n",
    "    time.sleep(0.5) \n",
    "print('Цикл завершен, offset =',offset) "
   ]
  },
  {
   "cell_type": "code",
   "execution_count": 58,
   "metadata": {},
   "outputs": [
    {
     "data": {
      "text/plain": [
       "{'id': 1379495,\n",
       " 'from_id': -22822305,\n",
       " 'owner_id': -22822305,\n",
       " 'date': 1674640860,\n",
       " 'marked_as_ads': 0,\n",
       " 'comments': {'can_post': 1, 'count': 1298, 'groups_can_post': True},\n",
       " 'attachments': [{'type': 'photo',\n",
       "   'photo': {'album_id': -7,\n",
       "    'date': 1674640388,\n",
       "    'id': 457338970,\n",
       "    'owner_id': -22822305,\n",
       "    'access_key': 'de07649bf8d463cafc',\n",
       "    'post_id': 1379495,\n",
       "    'sizes': [{'height': 75,\n",
       "      'type': 's',\n",
       "      'width': 75,\n",
       "      'url': 'https://sun9-15.userapi.com/impg/QWLuXKEdw03R7JIcoo7OQF1oyaLy8WUAdYtvJg/TXX5ETgGtbg.jpg?size=75x75&quality=95&sign=f3c1738359cb5758fc870fe0c5f00b23&c_uniq_tag=BAm_gXSsXcWYr-kQbsL4ws5Q6M9HBbD4EajFYrfWRRs&type=album'},\n",
       "     {'height': 130,\n",
       "      'type': 'm',\n",
       "      'width': 130,\n",
       "      'url': 'https://sun9-15.userapi.com/impg/QWLuXKEdw03R7JIcoo7OQF1oyaLy8WUAdYtvJg/TXX5ETgGtbg.jpg?size=130x130&quality=95&sign=5cac3b1d649434c455f17a8695d87701&c_uniq_tag=TAHDVqKZ-iiEwyGliF4vY9q3aJXAt-2isFxCOegLPuI&type=album'},\n",
       "     {'height': 604,\n",
       "      'type': 'x',\n",
       "      'width': 604,\n",
       "      'url': 'https://sun9-15.userapi.com/impg/QWLuXKEdw03R7JIcoo7OQF1oyaLy8WUAdYtvJg/TXX5ETgGtbg.jpg?size=604x604&quality=95&sign=a09f8348adc33250fff3cad108e2af4d&c_uniq_tag=gLWN_6aZjx8MKSBsKnGsaruLRDfuQzUlYlwHeGwkx_E&type=album'},\n",
       "     {'height': 807,\n",
       "      'type': 'y',\n",
       "      'width': 807,\n",
       "      'url': 'https://sun9-15.userapi.com/impg/QWLuXKEdw03R7JIcoo7OQF1oyaLy8WUAdYtvJg/TXX5ETgGtbg.jpg?size=807x807&quality=95&sign=cd0432a21da1369851a03a22a945a1a2&c_uniq_tag=htE1txLNWLnvGtKXMSH9WJx49NYzxDyu7Ed7znuY4aQ&type=album'},\n",
       "     {'height': 1280,\n",
       "      'type': 'z',\n",
       "      'width': 1280,\n",
       "      'url': 'https://sun9-15.userapi.com/impg/QWLuXKEdw03R7JIcoo7OQF1oyaLy8WUAdYtvJg/TXX5ETgGtbg.jpg?size=1280x1280&quality=95&sign=69b5b1af7aa7b1a24ff113d7b0d8d66a&c_uniq_tag=XSidB7WNrN3Qc-Zi3Pz3qJ7Atin7FblQ1AFHfIXX0kI&type=album'},\n",
       "     {'height': 1500,\n",
       "      'type': 'w',\n",
       "      'width': 1500,\n",
       "      'url': 'https://sun9-15.userapi.com/impg/QWLuXKEdw03R7JIcoo7OQF1oyaLy8WUAdYtvJg/TXX5ETgGtbg.jpg?size=1500x1500&quality=95&sign=8439509b72b7bcc89c6f206b898d24e6&c_uniq_tag=qpDk09ipgDBQS1Fn4bwpvbQwonbXN0bmtkXAhFuKjmU&type=album'},\n",
       "     {'height': 130,\n",
       "      'type': 'o',\n",
       "      'width': 130,\n",
       "      'url': 'https://sun9-15.userapi.com/impg/QWLuXKEdw03R7JIcoo7OQF1oyaLy8WUAdYtvJg/TXX5ETgGtbg.jpg?size=130x130&quality=95&sign=5cac3b1d649434c455f17a8695d87701&c_uniq_tag=TAHDVqKZ-iiEwyGliF4vY9q3aJXAt-2isFxCOegLPuI&type=album'},\n",
       "     {'height': 200,\n",
       "      'type': 'p',\n",
       "      'width': 200,\n",
       "      'url': 'https://sun9-15.userapi.com/impg/QWLuXKEdw03R7JIcoo7OQF1oyaLy8WUAdYtvJg/TXX5ETgGtbg.jpg?size=200x200&quality=95&sign=37ace321cd8f7666307d875fe6c3331e&c_uniq_tag=OEzQ-lXkt3XAf-yRvuIlsXZQnGWEJsYqVblsTrf2g4w&type=album'},\n",
       "     {'height': 320,\n",
       "      'type': 'q',\n",
       "      'width': 320,\n",
       "      'url': 'https://sun9-15.userapi.com/impg/QWLuXKEdw03R7JIcoo7OQF1oyaLy8WUAdYtvJg/TXX5ETgGtbg.jpg?size=320x320&quality=95&sign=e4d8196a6c6c49f4cdb1348b866f5e3e&c_uniq_tag=tq2xmm0wS3c5jIxwfUzCFDjJi7D_aYdhhXwIHNtau1c&type=album'},\n",
       "     {'height': 510,\n",
       "      'type': 'r',\n",
       "      'width': 510,\n",
       "      'url': 'https://sun9-15.userapi.com/impg/QWLuXKEdw03R7JIcoo7OQF1oyaLy8WUAdYtvJg/TXX5ETgGtbg.jpg?size=510x510&quality=95&sign=dc8a543a1c9550cfce90a0b7bf2030da&c_uniq_tag=sZnG8ejx-j6UPaPe2mgPvuyr3xjfw2gQntJLfECG1Eg&type=album'}],\n",
       "    'text': '',\n",
       "    'user_id': 100}}],\n",
       " 'edited': 1674645818,\n",
       " 'likes': {'can_like': 1,\n",
       "  'count': 1200,\n",
       "  'user_likes': 0,\n",
       "  'can_publish': 1,\n",
       "  'repost_disabled': False},\n",
       " 'post_source': {'type': 'vk'},\n",
       " 'post_type': 'post',\n",
       " 'reposts': {'count': 490, 'user_reposted': 0},\n",
       " 'text': 'С Днём студента! К этой дате мы подготовили активности, конкурсы и подарки для пользователей ВКонтакте:\\n\\n🎓 Снимите клип с вашей реакцией на первую зарплату и опубликуйте с хештегом #VKДеньстудента. Авторы лучших роликов получат призы, среди которых умная колонка VK Капсула Нео и мерч от VK Образования. Подробнее — в сообществе [vk.com/vkjunior|VK Джуниор].\\n\\n🎓 Пройдите [https://vk.com/app7785085?force_redirect_to_app=1&utm_campaign=day_student_post&utm_medium=Partner_Social&utm_source=DrugoeDelo#earn/task/94/list?&force_redirect_to_app=1&utm_source=DrugoeDelo&utm_medium=Partner_Social&utm_campaign=day_student_post|профориентационный тест] и узнайте подходящее IT-направление в мини-приложении «Другое Дело».\\n\\n🎓 Нет времени на тест? Идеальный факультет для вас назовёт [https://vk.com/mask-139533130_36304|распределяющая маска].\\n\\n🎓 Выберите [https://vk.com/sharing#31279|стартер-пак настоящего студента] и поделитесь атмосферными картинками с друзьями.\\n\\n🎓 Выполните задания онлайн-квеста «СтудЗаряд» до 22:00 мск. Все участники получат виртуальные подарки, а 50 лучших — мерч, подписку на [club147845620|VK Музыку] и другие призы. Чтобы начать, напишите кодовое слово «студент» vk.com/write-62884807.\\n\\n🎓 А ещё мы открываем приём заявок на оплачиваемую стажировку VK по самым разным специальностям — от разработки и дизайна до информационной безопасности. Чтобы попасть на неё, нужно до 26 февраля подать заявку и пройти отбор: vk.cc/ckZTSM.',\n",
       " 'views': {'count': 319251},\n",
       " 'hash': 'qBE4ty8u5_r3mrQyfA'}"
      ]
     },
     "execution_count": 58,
     "metadata": {},
     "output_type": "execute_result"
    }
   ],
   "source": [
    "#ЛАЙКИ, РЕПОСТЫ И КОММЕНТАРИИ\n",
    "import requests # Импортируем модуль requests\n",
    "from pprint import pprint # Импортируем функцию pprint()\n",
    "token =  '6c5ab8b66c5ab8b66c5ab8b6c36f483d3566c5a6c5ab8b60fbb920130d048871a5d1527'\n",
    "url = 'https://api.vk.com/method/wall.get' # Указываем адрес страницы, к которой делаем запрос\n",
    "params = {'domain': 'vk', 'filter': 'owner', 'count': 1000, 'offset': 0, 'access_token': token, 'v': 5.95} \n",
    "response = requests.get(url, params = params) \n",
    "#pprint(response.json())  \n",
    "\n",
    "len(response.json()['response']['items']) #количкство результатов\n",
    "\n",
    "response.json()['response']['items'][0] "
   ]
  },
  {
   "cell_type": "code",
   "execution_count": 59,
   "metadata": {},
   "outputs": [
    {
     "name": "stdout",
     "output_type": "stream",
     "text": [
      "{'CEO ВКонтакте Марина Краснова ': [177, 1462, 640, 1672419951],\n",
      " 'А вот и рейтинг главных мемов ': [446, 4573, 1423, 1672210020],\n",
      " 'В VK Музыке появился раздел с ': [403, 921, 226, 1674461351],\n",
      " 'В предновогодней суете вы могл': [812, 1413, 1470, 1673607471],\n",
      " 'ВКонтакте есть добрая новогодн': [131, 1914, 608, 1672300776],\n",
      " 'Год выдался насыщенным на техн': [310, 1264, 452, 1672061199],\n",
      " 'Предупредим вас о потенциально': [260, 1432, 512, 1672123320],\n",
      " 'Рассказываем, как вы отметили ': [136, 1188, 1378, 1673536380],\n",
      " 'С Днём студента! К этой дате м': [1298, 1200, 490, 1674640860],\n",
      " 'Что обсуждали, смотрели и слуш': [226, 1706, 629, 1672328610]}\n"
     ]
    }
   ],
   "source": [
    "#итоговую статистику для последних десяти непустых сообщений в словарь stats.\n",
    "# В качестве ключа будем использовать начало сообщения (если начало сообщения пустое,\n",
    "# то информацию о таком сообщении проигнорируем),\n",
    "# в качестве значения — список с тремя интересующими нас метриками и временем публикации\n",
    "# (комментарии, лайки, репосты, дата публикации)\n",
    "\n",
    "stats = {} \n",
    "count_post = 0 # Счётчик «непустых» сообщений\n",
    "for record in response.json()['response']['items'][:]:\n",
    "    title = record['text'][:30] \n",
    "    if title: \n",
    "        stats[title] = [record['comments']['count'], record['likes']['count'], record['reposts']['count'], record['date']] \n",
    "        count_post += 1 \n",
    "    if count_post < 10: \n",
    "        continue \n",
    "    else: \n",
    "        break \n",
    "pprint(stats)"
   ]
  },
  {
   "cell_type": "markdown",
   "metadata": {},
   "source": [
    "API для разработчиков предоставляют и многие другие платформы. Вот список, пожалуй, самых популярных из них:\n",
    "\n",
    "Google Maps API\n",
    "YouTube API\n",
    "Twitter API\n",
    "Facebook API\n",
    "Информацию о сторонних API можно найти в каталоге Web API. Также можно воспользоваться интернет-поиском, указав в строке поиска, например, «курсы валют API» или «прогноз погоды api»"
   ]
  },
  {
   "cell_type": "markdown",
   "metadata": {},
   "source": [
    "СКРИПТЫ запуск по крону"
   ]
  },
  {
   "cell_type": "code",
   "execution_count": 61,
   "metadata": {},
   "outputs": [
    {
     "name": "stderr",
     "output_type": "stream",
     "text": [
      "WARNING: You are using pip version 21.2.4; however, version 23.0 is available.\n",
      "You should consider upgrading via the 'C:\\Users\\sveta\\AppData\\Local\\Programs\\Python\\Python39\\python.exe -m pip install --upgrade pip' command.\n"
     ]
    },
    {
     "name": "stdout",
     "output_type": "stream",
     "text": [
      "Requirement already satisfied: schedule in c:\\users\\sveta\\appdata\\local\\programs\\python\\python39\\lib\\site-packages (1.1.0)\n"
     ]
    }
   ],
   "source": [
    "#КАК НАСТРОИТЬ АВТОМАТИЧЕСКИЙ ЗАПУСК\n",
    "\n",
    "# Устанавливаем библиотеку schedule\n",
    "!pip install schedule\n",
    "import schedule # Импортируем модуль schedule"
   ]
  },
  {
   "cell_type": "code",
   "execution_count": 64,
   "metadata": {},
   "outputs": [
    {
     "data": {
      "text/plain": [
       "Every 1 hour do task() (last run: [never], next run: 2023-02-08 13:18:33)"
      ]
     },
     "execution_count": 64,
     "metadata": {},
     "output_type": "execute_result"
    }
   ],
   "source": [
    "#ПОСТАНОВКА ЗАДАЧИ\n",
    "\n",
    "def task(): \n",
    "    print('Hello! I am a task!') \n",
    "    return\n",
    "\n",
    "schedule.every(15).minutes.do(task)\n",
    "schedule.every(1).hour.do(task)"
   ]
  },
  {
   "cell_type": "code",
   "execution_count": null,
   "metadata": {},
   "outputs": [],
   "source": [
    "#ВЫПОЛНЕНИЕ ФУНКЦИИ\n",
    "\n",
    "import schedule\n",
    "\n",
    "def task(): \n",
    "    print('Hello! I am a task!') \n",
    "    return\n",
    "\n",
    "schedule.every(15).minutes.do(task)\n",
    "\n",
    "import time \n",
    "while True: \n",
    "    schedule.run_pending() \n",
    "    time.sleep(1)"
   ]
  },
  {
   "cell_type": "markdown",
   "metadata": {},
   "source": [
    "# АТТЕСТАЦИЯ"
   ]
  },
  {
   "cell_type": "code",
   "execution_count": 15,
   "metadata": {},
   "outputs": [
    {
     "ename": "UnboundLocalError",
     "evalue": "local variable 'counter' referenced before assignment",
     "output_type": "error",
     "traceback": [
      "\u001b[1;31m---------------------------------------------------------------------------\u001b[0m",
      "\u001b[1;31mUnboundLocalError\u001b[0m                         Traceback (most recent call last)",
      "Cell \u001b[1;32mIn [15], line 6\u001b[0m\n\u001b[0;32m      3\u001b[0m \u001b[39mdef\u001b[39;00m \u001b[39mincrement\u001b[39m():\n\u001b[0;32m      4\u001b[0m    counter \u001b[39m+\u001b[39m\u001b[39m=\u001b[39m \u001b[39m1\u001b[39m\n\u001b[1;32m----> 6\u001b[0m increment()\n",
      "Cell \u001b[1;32mIn [15], line 4\u001b[0m, in \u001b[0;36mincrement\u001b[1;34m()\u001b[0m\n\u001b[0;32m      3\u001b[0m \u001b[39mdef\u001b[39;00m \u001b[39mincrement\u001b[39m():\n\u001b[1;32m----> 4\u001b[0m    counter \u001b[39m+\u001b[39m\u001b[39m=\u001b[39m \u001b[39m1\u001b[39m\n",
      "\u001b[1;31mUnboundLocalError\u001b[0m: local variable 'counter' referenced before assignment"
     ]
    }
   ],
   "source": [
    "counter = 0\n",
    "\n",
    "def increment():\n",
    "   counter += 1\n",
    "\n",
    "increment()"
   ]
  },
  {
   "cell_type": "code",
   "execution_count": 21,
   "metadata": {},
   "outputs": [
    {
     "ename": "TypeError",
     "evalue": "can only concatenate list (not \"tuple\") to list",
     "output_type": "error",
     "traceback": [
      "\u001b[1;31m---------------------------------------------------------------------------\u001b[0m",
      "\u001b[1;31mTypeError\u001b[0m                                 Traceback (most recent call last)",
      "Cell \u001b[1;32mIn [21], line 4\u001b[0m\n\u001b[0;32m      1\u001b[0m one \u001b[39m=\u001b[39m [\u001b[39m1\u001b[39m, \u001b[39m\"\u001b[39m\u001b[39m2\u001b[39m\u001b[39m\"\u001b[39m, \u001b[39m3\u001b[39m, \u001b[39m\"\u001b[39m\u001b[39m4\u001b[39m\u001b[39m\"\u001b[39m]\n\u001b[0;32m      2\u001b[0m two \u001b[39m=\u001b[39m (\u001b[39m\"\u001b[39m\u001b[39ma\u001b[39m\u001b[39m\"\u001b[39m, \u001b[39m\"\u001b[39m\u001b[39mb\u001b[39m\u001b[39m\"\u001b[39m, \u001b[39m\"\u001b[39m\u001b[39mc\u001b[39m\u001b[39m\"\u001b[39m, \u001b[39m\"\u001b[39m\u001b[39md\u001b[39m\u001b[39m\"\u001b[39m)\n\u001b[1;32m----> 4\u001b[0m three \u001b[39m=\u001b[39m one \u001b[39m+\u001b[39;49m two\n",
      "\u001b[1;31mTypeError\u001b[0m: can only concatenate list (not \"tuple\") to list"
     ]
    }
   ],
   "source": [
    "# 4\n",
    "one = [1, \"2\", 3, \"4\"]\n",
    "two = (\"a\", \"b\", \"c\", \"d\")\n",
    "\n",
    "three = one + two\n",
    "one.extend(two) #notm\n",
    "two.extend(one)\n",
    "three = two + (\"f\", 'g')#norm"
   ]
  },
  {
   "cell_type": "code",
   "execution_count": 25,
   "metadata": {},
   "outputs": [
    {
     "data": {
      "text/plain": [
       "'some'"
      ]
     },
     "execution_count": 25,
     "metadata": {},
     "output_type": "execute_result"
    }
   ],
   "source": [
    "# 8\n",
    "config = {\n",
    "    \"server\": {\n",
    "        \"host\": \"127.0.0.1\",\n",
    "        \"port\": \"22\"\n",
    "    },\n",
    "    \"configuration\": {\n",
    "        \"ssh\": {\n",
    "            \"access\": True,\n",
    "            \"login\": \"some\",\n",
    "            \"password\": \"some\"\n",
    "        },\n",
    "        \"name\": \"2491Oaaf1414\"\n",
    "    }\n",
    "}\n",
    "config['configuration']['ssh']['login']"
   ]
  },
  {
   "cell_type": "code",
   "execution_count": 28,
   "metadata": {},
   "outputs": [
    {
     "ename": "NameError",
     "evalue": "name 'data' is not defined",
     "output_type": "error",
     "traceback": [
      "\u001b[1;31m---------------------------------------------------------------------------\u001b[0m",
      "\u001b[1;31mNameError\u001b[0m                                 Traceback (most recent call last)",
      "Cell \u001b[1;32mIn [28], line 21\u001b[0m\n\u001b[0;32m     19\u001b[0m \u001b[39m# Вызов функций\u001b[39;00m\n\u001b[0;32m     20\u001b[0m read_data()\n\u001b[1;32m---> 21\u001b[0m freq(\u001b[39m'\u001b[39;49m\u001b[39mвойна\u001b[39;49m\u001b[39m'\u001b[39;49m)\n",
      "Cell \u001b[1;32mIn [28], line 11\u001b[0m, in \u001b[0;36mfreq\u001b[1;34m(target_word)\u001b[0m\n\u001b[0;32m      9\u001b[0m \u001b[39mdef\u001b[39;00m \u001b[39mfreq\u001b[39m(target_word):  \n\u001b[0;32m     10\u001b[0m     new_dict \u001b[39m=\u001b[39m \u001b[39mdict\u001b[39m() \n\u001b[1;32m---> 11\u001b[0m     \u001b[39mfor\u001b[39;00m i \u001b[39min\u001b[39;00m data: \u001b[39m# СТРОКА С ОШИБКОЙ\u001b[39;00m\n\u001b[0;32m     12\u001b[0m         \u001b[39mif\u001b[39;00m i \u001b[39mnot\u001b[39;00m \u001b[39min\u001b[39;00m new_dict:\n\u001b[0;32m     13\u001b[0m             new_dict[i] \u001b[39m=\u001b[39m \u001b[39m1\u001b[39m\n",
      "\u001b[1;31mNameError\u001b[0m: name 'data' is not defined"
     ]
    }
   ],
   "source": [
    "19. # Функция чтения данных\n",
    "def read_data():\n",
    "    data = open('war_peace_processed.txt', 'rt', encoding='utf-8').read()\n",
    "    data = data.split('\\n')\n",
    "    return data\n",
    "\n",
    "\n",
    "# Функция подсчёта частоты употребления слова в тексте\n",
    "def freq(target_word):  \n",
    "    new_dict = dict() \n",
    "    for i in data: # СТРОКА С ОШИБКОЙ Использование локальной переменной, невидимой для вызываемой функции \n",
    "        if i not in new_dict:\n",
    "            new_dict[i] = 1\n",
    "        else:\n",
    "            new_dict[i] = new_dict.get(i) + 1\n",
    "    return new_dict.get(target_word, 0)\n",
    "\n",
    "\n",
    "# Вызов функций\n",
    "read_data()\n",
    "freq('война')"
   ]
  },
  {
   "cell_type": "markdown",
   "metadata": {},
   "source": [
    " 24 В вашем распоряжении имеется DataFrame users с пользователями (столбец user_id) и их действиями (столбец action) на сайте компании. С помощью какого варианта кода можно найти ТОП-5 самых активных пользователей и число их действий (активность — число действий)?"
   ]
  },
  {
   "cell_type": "code",
   "execution_count": null,
   "metadata": {},
   "outputs": [],
   "source": [
    "# 24\n",
    "users.groupby('user_id')['action'].count().sort_values(ascending=False).iloc[:5]"
   ]
  },
  {
   "cell_type": "markdown",
   "metadata": {},
   "source": [
    "2.1 Вам предоставлен словарь products, ключами которого являются названия продуктов, а значениями — их цены. Затем вы получаете другой словарь (stocks), ключи которого — товары, а значения — скидки (в процентах) на товары.\n",
    "\n",
    "Напишите функцию apply_discounts(products, stocks), которая снижает цену продуктов в словаре products на указанный в словаре stocks процент. Функция должна вернуть результирующий словарь, ключи которого — товары, а значения — новые цены. Если продукта из словаря products нет в словаре stocks, то скидка к нему не применяется. Цены округлите до второго знака после запятой."
   ]
  },
  {
   "cell_type": "code",
   "execution_count": null,
   "metadata": {},
   "outputs": [],
   "source": [
    "def apply_discounts(products, stocks):\n",
    "    products_discount = {}\n",
    "    \n",
    "    for key in stocks.keys():\n",
    "        stocks[key]= round(float(stocks[key].replace('%',''))/100,2)\n",
    "        \n",
    "    for key, value in products.items():\n",
    "        if key in stocks:\n",
    "             products_discount[key] = round(value - (value * stocks[key]),2)\n",
    "        else:\n",
    "            products_discount[key] = value\n",
    "            \n",
    "    return products_discount\n"
   ]
  },
  {
   "cell_type": "markdown",
   "metadata": {},
   "source": [
    "2.2\n",
    "Вам даны два файла, bronze_top и silver_top (пути к ним заданы в Codeboard), в которых хранится информация о ТОП-5 стран по числу бронзовых и серебряных медалей соответственно. В каждой таблице два одинаковых столбца: Country — страна и Total — число медалей. \n",
    "\n",
    "Объедините две таблицы по странам таким образом, чтобы в результат вошли данные только о тех странах, которые попали в оба рейтинга. При этом в качестве суффиксов укажите строки \"_bronze\" и \"_silver\", чтобы столбцы таблиц, не участвовавших в объединении, можно было различать.\n",
    "\n",
    "Результат занесите в переменную merged."
   ]
  },
  {
   "cell_type": "code",
   "execution_count": null,
   "metadata": {},
   "outputs": [],
   "source": [
    "# Введите свое решение ниже\n",
    "import pandas as pd\n",
    "\n",
    "bronze_data = pd.read_csv('bronze_top.csv')\n",
    "silver_data = pd.read_csv('silver_top.csv')\n",
    "\n",
    "merged = bronze_data.merge(silver_data, how='inner', on='Country', suffixes=['_bronze', '_silver'])"
   ]
  },
  {
   "cell_type": "markdown",
   "metadata": {},
   "source": [
    "# 3!"
   ]
  },
  {
   "cell_type": "code",
   "execution_count": 34,
   "metadata": {},
   "outputs": [
    {
     "data": {
      "text/html": [
       "<div>\n",
       "<style scoped>\n",
       "    .dataframe tbody tr th:only-of-type {\n",
       "        vertical-align: middle;\n",
       "    }\n",
       "\n",
       "    .dataframe tbody tr th {\n",
       "        vertical-align: top;\n",
       "    }\n",
       "\n",
       "    .dataframe thead th {\n",
       "        text-align: right;\n",
       "    }\n",
       "</style>\n",
       "<table border=\"1\" class=\"dataframe\">\n",
       "  <thead>\n",
       "    <tr style=\"text-align: right;\">\n",
       "      <th></th>\n",
       "      <th>date</th>\n",
       "      <th>cum_power</th>\n",
       "    </tr>\n",
       "  </thead>\n",
       "  <tbody>\n",
       "    <tr>\n",
       "      <th>659</th>\n",
       "      <td>2018-10-22</td>\n",
       "      <td>28101.0</td>\n",
       "    </tr>\n",
       "    <tr>\n",
       "      <th>660</th>\n",
       "      <td>2018-10-23</td>\n",
       "      <td>28109.0</td>\n",
       "    </tr>\n",
       "    <tr>\n",
       "      <th>661</th>\n",
       "      <td>2018-10-24</td>\n",
       "      <td>28115.0</td>\n",
       "    </tr>\n",
       "    <tr>\n",
       "      <th>662</th>\n",
       "      <td>2018-10-25</td>\n",
       "      <td>28117.0</td>\n",
       "    </tr>\n",
       "    <tr>\n",
       "      <th>663</th>\n",
       "      <td>2018-10-26</td>\n",
       "      <td>28120.0</td>\n",
       "    </tr>\n",
       "  </tbody>\n",
       "</table>\n",
       "</div>"
      ],
      "text/plain": [
       "           date  cum_power\n",
       "659  2018-10-22    28101.0\n",
       "660  2018-10-23    28109.0\n",
       "661  2018-10-24    28115.0\n",
       "662  2018-10-25    28117.0\n",
       "663  2018-10-26    28120.0"
      ]
     },
     "execution_count": 34,
     "metadata": {},
     "output_type": "execute_result"
    }
   ],
   "source": [
    "import pandas as pd\n",
    "solar_data = pd.read_csv('data/solarpower.csv')\n",
    "solar_data.tail()"
   ]
  },
  {
   "cell_type": "markdown",
   "metadata": {},
   "source": [
    "3.1  В нашем временном ряде есть несколько пропусков, они обозначены числом -1. Заполните пропуски средним арифметическим между двумя соседними наблюдениями:\n",
    "\n",
    "Совет: проще всего будет сделать это, используя цикл по индексам элементов столбца cum_power, но вы можете предложить более изящное решение.\n",
    "\n",
    "Чему равно среднее арифметическое в столбце cum_power после заполнения пропусков? Ответ округлите до целого."
   ]
  },
  {
   "cell_type": "code",
   "execution_count": 69,
   "metadata": {},
   "outputs": [
    {
     "name": "stderr",
     "output_type": "stream",
     "text": [
      "C:\\Users\\sveta\\AppData\\Local\\Temp\\ipykernel_5968\\213617129.py:10: SettingWithCopyWarning: \n",
      "A value is trying to be set on a copy of a slice from a DataFrame\n",
      "\n",
      "See the caveats in the documentation: https://pandas.pydata.org/pandas-docs/stable/user_guide/indexing.html#returning-a-view-versus-a-copy\n",
      "  solar_data['cum_power'][i] = (solar_data['cum_power'][i-1] + solar_data['cum_power'][i+1])/2\n"
     ]
    },
    {
     "data": {
      "text/plain": [
       "23848"
      ]
     },
     "execution_count": 69,
     "metadata": {},
     "output_type": "execute_result"
    }
   ],
   "source": [
    "#пропусков, они обозначены числом -1. Заполните пропуски средним арифметическим между двумя соседними наблюдениями\n",
    "#проще всего будет сделать это, используя цикл по индексам элементов столбца cum_power\n",
    "# среднее арифметическое в столбце cum_power после заполнения пропусков? Ответ округлите до целого\n",
    "import pandas as pd\n",
    "solar_data = pd.read_csv('data/solarpower.csv')\n",
    "solar_data.tail()\n",
    "\n",
    "for i in range(len(solar_data['cum_power'])):\n",
    "    if solar_data['cum_power'][i] == -1:\n",
    "        solar_data['cum_power'][i] = (solar_data['cum_power'][i-1] + solar_data['cum_power'][i+1])/2\n",
    "\n",
    "round(solar_data['cum_power'].mean())"
   ]
  },
  {
   "cell_type": "markdown",
   "metadata": {},
   "source": [
    "3.2\n",
    "Теперь, когда таблица заполнена, создайте столбец day_power — ежедневная выработка солнечной энергии.\n",
    "\n",
    "Далее создайте данные о средней ежедневной выработке энергии на каждый месяц-год.\n",
    "\n",
    "Совет: для того чтобы выделить из даты год и месяц, проще всего будет воспользоваться методом аксессора dt.to_period('M'), который позволяет выделять периоды (в данном случае 'М' — месяц).\n",
    "\n",
    "Затем сгруппируйте данные по периодам (год-месяц) и рассчитайте среднее в столбце day_power.\n",
    "\n",
    "Сколько солнечной энергии в среднем в день выработали в марте 2017 года? Ответ округлите до целого.<br>\n",
    "\n",
    "Ежедневную выработку можно рассчитать как разницу между двумя последовательными показателями cum_power. Это можно сделать с помощью метода diff()."
   ]
  },
  {
   "cell_type": "code",
   "execution_count": 91,
   "metadata": {},
   "outputs": [
    {
     "name": "stderr",
     "output_type": "stream",
     "text": [
      "C:\\Users\\sveta\\AppData\\Local\\Temp\\ipykernel_5968\\1415926795.py:10: SettingWithCopyWarning:\n",
      "\n",
      "\n",
      "A value is trying to be set on a copy of a slice from a DataFrame\n",
      "\n",
      "See the caveats in the documentation: https://pandas.pydata.org/pandas-docs/stable/user_guide/indexing.html#returning-a-view-versus-a-copy\n",
      "\n"
     ]
    },
    {
     "data": {
      "text/plain": [
       "10.77"
      ]
     },
     "execution_count": 91,
     "metadata": {},
     "output_type": "execute_result"
    }
   ],
   "source": [
    "#3.2\n",
    "import pandas as pd\n",
    "import seaborn as sns\n",
    "\n",
    "solar_data = pd.read_csv('data/solarpower.csv')\n",
    "solar_data.tail()\n",
    "\n",
    "for i in range(len(solar_data['cum_power'])):\n",
    "    if solar_data['cum_power'][i] == -1:\n",
    "        solar_data['cum_power'][i] = (solar_data['cum_power'][i-1] + solar_data['cum_power'][i+1])/2\n",
    "\n",
    "\n",
    "solar_data['day_power']=solar_data['cum_power'].diff()\n",
    "solar_data['date'] = pd.to_datetime(solar_data['date'])\n",
    "solar_data['date'] = solar_data['date'].dt.to_period('M')\n",
    "#mean_solar_data = solar_data.groupby('date', as_index=False)['day_power'].mean()\n",
    "#display(mean_solar_data)\n",
    "\n",
    "round(solar_data[solar_data['date']=='2017-03']['day_power'].mean(), 2)"
   ]
  },
  {
   "cell_type": "code",
   "execution_count": 86,
   "metadata": {},
   "outputs": [
    {
     "data": {
      "text/plain": [
       "<AxesSubplot: >"
      ]
     },
     "execution_count": 86,
     "metadata": {},
     "output_type": "execute_result"
    },
    {
     "data": {
      "image/png": "[encoded data removed]",
      "text/plain": [
       "<Figure size 640x480 with 1 Axes>"
      ]
     },
     "metadata": {},
     "output_type": "display_data"
    }
   ],
   "source": [
    "sns.lineplot(data=mean_solar_data)"
   ]
  },
  {
   "cell_type": "markdown",
   "metadata": {},
   "source": [
    "3.3\n",
    "Постройте график временного ряда — средней ежедневной выработки солнечной энергии на каждый месяц-год. Не забудьте подписать оси и сам график.\n",
    "\n",
    "Выберите вывод, который можно сделать из полученного графика:\n",
    "\n",
    "В периоды осень-зима наблюдается наименьшая выработка солнечной энергии, в периоды весна-лета — наибольшая. верно\n",
    "В периоды весна-лета наблюдается наименьшая выработка солнечной энергии, в периоды осень-зима — наибольшая.\n",
    "Выработка солнечной энергии примерно одинакова во все сезоны."
   ]
  }
 ],
 "metadata": {
  "kernelspec": {
   "display_name": "Python 3.9.10 64-bit",
   "language": "python",
   "name": "python3"
  },
  "language_info": {
   "codemirror_mode": {
    "name": "ipython",
    "version": 3
   },
   "file_extension": ".py",
   "mimetype": "text/x-python",
   "name": "python",
   "nbconvert_exporter": "python",
   "pygments_lexer": "ipython3",
   "version": "3.9.10"
  },
  "orig_nbformat": 4,
  "vscode": {
   "interpreter": {
    "hash": "7a4b96c1986ca677e6d2ebfd9e4fc5687c706e8b683bd809e2bb5f8e7e7a77b7"
   }
  }
 },
 "nbformat": 4,
 "nbformat_minor": 2
}
