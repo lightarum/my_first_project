{
 "cells": [
  {
   "cell_type": "code",
   "execution_count": 4,
   "metadata": {},
   "outputs": [],
   "source": [
    "import pandas as pd\n",
    "\n",
    "melb_data = pd.read_csv('data/melb_data_ps.csv', sep=',')\n",
    "\n",
    "melb_df = melb_data.copy()"
   ]
  },
  {
   "cell_type": "code",
   "execution_count": 38,
   "metadata": {},
   "outputs": [],
   "source": [
    "price_square = []\n",
    "for price in melb_df['Price']:\n",
    "    price_square.append(price**2)\n",
    "price_square = pd.Series(price_square)"
   ]
  },
  {
   "cell_type": "code",
   "execution_count": 39,
   "metadata": {},
   "outputs": [],
   "source": [
    "price_square = melb_df['Price'] **2"
   ]
  },
  {
   "cell_type": "code",
   "execution_count": 95,
   "metadata": {},
   "outputs": [
    {
     "data": {
      "text/plain": [
       "None"
      ]
     },
     "metadata": {},
     "output_type": "display_data"
    }
   ],
   "source": [
    "def delete_columns(df, col=[]):\n",
    "    for elem in col:\n",
    "        if elem not in df.columns:\n",
    "            return None\n",
    "        \n",
    "    return df.drop(col, axis=1)\n",
    "        \n",
    "customer_df = pd.DataFrame({\n",
    "            'number': [0, 1, 2, 3, 4],\n",
    "            'cust_id': [128, 1201, 9832, 4392, 7472],\n",
    "            'cust_age': [13, 21, 19, 21, 60],\n",
    "            'cust_sale': [0, 0, 0.2, 0.15, 0.3],\n",
    "            'cust_year_birth': [2008, 2000, 2002, 2000, 1961],\n",
    "            'cust_order': [1400, 14142, 900, 1240, 8430]\n",
    "        })\n",
    "        \n",
    "df = delete_columns(customer_df, ['number', 'cust_order', 'nnnn'])\n",
    "display(df)"
   ]
  },
  {
   "cell_type": "code",
   "execution_count": 17,
   "metadata": {},
   "outputs": [
    {
     "data": {
      "text/plain": [
       "84.93"
      ]
     },
     "metadata": {},
     "output_type": "display_data"
    }
   ],
   "source": [
    "countries_df = pd.DataFrame({\n",
    "    'country': ['Англия', 'Канада', 'США', 'Россия', 'Украина', 'Беларусь', 'Казахстан'],\n",
    "    'population': [56.29, 38.05, 322.28, 146.24, 45.5, 9.5, 17.04],\n",
    "    'square': [133396, 9984670, 9826630, 17125191, 603628, 207600, 2724902]\n",
    "})\n",
    "\n",
    "countries_density = countries_df['population'] * 1000000 / countries_df['square'] #рассчитать плотность населения и вычислить среднююплощадь\n",
    "#display(countries_density)\n",
    "\n",
    "density_mean = sum(countries_density) / len(countries_density)\n",
    "display(round(density_mean, 2))"
   ]
  },
  {
   "cell_type": "code",
   "execution_count": 134,
   "metadata": {},
   "outputs": [
    {
     "name": "stdout",
     "output_type": "stream",
     "text": [
      "12822\n"
     ]
    }
   ],
   "source": [
    "# 3.3\n",
    "# Создайте в таблице melb_df признак WeekdaySale (день недели).\n",
    "# Найдите, сколько объектов недвижимости было продано в выходные (суббота и воскресенье),\n",
    "# результат занесите в переменную weekend_count.\n",
    "\n",
    "#melb_df['Date'] = pd.to_datetime(melb_df['Date'], dayfirst=True) #Преобразуем столбец Date в формат datetime\n",
    "melb_df['WeekdaySale'] = melb_df['Date'].dt.dayofweek\n",
    "weekend_count = melb_df[(melb_df['WeekdaySale'] == 5) | (melb_df['WeekdaySale'] == 6)].shape[0]\n",
    "print(weekend_count)"
   ]
  },
  {
   "cell_type": "code",
   "execution_count": 167,
   "metadata": {},
   "outputs": [
    {
     "name": "stdout",
     "output_type": "stream",
     "text": [
      "1081199\n"
     ]
    }
   ],
   "source": [
    "# 4.2  Создать столбец спомощьюфункии, 1 если выхи,вост случ 0\n",
    "#среднюю цену объекта недвижимости, проданного в выходные дни\n",
    "def  get_weekend(weekday):\n",
    "    if weekday in [5, 6]:\n",
    "        return 1\n",
    "    else:\n",
    "        return 0\n",
    "melb_df['Weekend'] = melb_df['WeekdaySale'].apply(get_weekend)\n",
    "#display(melb_df['Weekend'])\n",
    "price_weekend = melb_df[melb_df['Weekend'] == 1]['Price'].mean()\n",
    "print(round(price_weekend))\n"
   ]
  },
  {
   "cell_type": "code",
   "execution_count": 173,
   "metadata": {},
   "outputs": [
    {
     "data": {
      "text/plain": [
       "50"
      ]
     },
     "metadata": {},
     "output_type": "display_data"
    },
    {
     "name": "stdout",
     "output_type": "stream",
     "text": [
      "170000.0 131000.0\n",
      "1.3\n"
     ]
    }
   ],
   "source": [
    "#4.3 Оставить 49 популярныхпродавцов встолбце,остальные other\n",
    "# восколько раз мин цена Нельсон блльше мин цены озер\n",
    "\n",
    "popular_seller = melb_df['SellerG'].value_counts().nlargest(49).index\n",
    "#print(popular_seller)\n",
    "melb_df['BestSeller'] = melb_df['SellerG'].apply(lambda x: x if x in popular_seller else 'other')\n",
    "display(melb_df['BestSeller'].nunique())\n",
    "price_N_min = melb_df[melb_df['BestSeller'] == 'Nelson']['Price'].min()\n",
    "price_other_min = melb_df[melb_df['BestSeller'] == 'other']['Price'].min()\n",
    "print(price_N_min,price_other_min)\n",
    "print(round(price_N_min / price_other_min, 1))"
   ]
  },
  {
   "cell_type": "code",
   "execution_count": 157,
   "metadata": {},
   "outputs": [
    {
     "data": {
      "text/plain": [
       "69"
      ]
     },
     "execution_count": 157,
     "metadata": {},
     "output_type": "execute_result"
    }
   ],
   "source": [
    "import pandas as pd\n",
    "data_ufo = pd.read_csv('https://raw.githubusercontent.com/justmarkham/pandas-videos/master/data/ufo.csv')\n",
    "#display(data_ufo)\n",
    "data_ufo['Time'] = pd.to_datetime(data_ufo['Time'])\n",
    "years_ufo = data_ufo['Time'].dt.year #«достать» год ,РЕЗУЛЬТАТ В ПЕРЕМЕННОЙ\n",
    "#print(years_ufo)\n",
    "#print('Max year ufo seen:', years_ufo.mode()) #В каком году отмечается наибольшее количество UFO\n",
    "\n",
    "#средний интервал времени (в днях) между двумя последовательными случаями наблюдения НЛО в штате Невада (NV)\n",
    "data_ufo['Date'] = data_ufo['Time'].dt.date\n",
    "round(data_ufo[data_ufo['State'] == 'NV']['Date'].diff().dt.days.mean())  #сначала беру дату в штате невада\n",
    "# потом диф по строкам,потом формат интервала переделываю в таймдата, вывожу дни, потом среднее\n"
   ]
  },
  {
   "cell_type": "code",
   "execution_count": 1,
   "metadata": {},
   "outputs": [
    {
     "name": "stdout",
     "output_type": "stream",
     "text": [
      "25\n",
      "24\n",
      "6\n"
     ]
    }
   ],
   "source": [
    "# 4.4 Считать с хендхантера опыт работы в месяцах\n",
    "\n",
    "def get_experience(arg):\n",
    "    y = 0 # флажок (когда он 1, значит дошли до числа)\n",
    "    list_month = ['месяц', 'месяца', 'месяцев'] #варианты написания на сайте\n",
    "    list_exp= arg.split(' ') #переводим строку в список\n",
    "    month = 0\n",
    "    year = 0\n",
    "    for x in list_exp: # идем по словам в строке\n",
    "        if x.isdigit(): # если строка число\n",
    "            z = x #запоминаем число\n",
    "            y = 1 # флаг меняем с 0 на 1\n",
    "            continue # переход на след итерацию цикла\n",
    "        if y == 1: #смотрим следующий элемент за числом, если он месяц\n",
    "            if x in list_month:\n",
    "                y = 0\n",
    "                month = int(z) #то пред число МЕСЯЦ\n",
    "                z = 0\n",
    "            else:\n",
    "                year = int(z) #если след слово не месяц,то число ГОД\n",
    "                y = 0\n",
    "                z = 0\n",
    "    month_result = year*12 + month\n",
    "    return month_result\n",
    "\n",
    "\n",
    "print(get_experience('Опыт работы 2 года 1 месяц'))\n",
    "print(get_experience('Опыт работы 2 года'))\n",
    "print(get_experience('Опыт работы 6 месяцев'))\n",
    "\n",
    "\n",
    "\n",
    "def get_experience(arg):\n",
    "    month_key_words = ['месяц', 'месяцев', 'месяца']\n",
    "    year_key_words = ['год', 'лет', 'года']\n",
    "    args_splited = arg.split(' ')\n",
    "    month = 0\n",
    "    year = 0\n",
    "    for i in range(len(args_splited)):\n",
    "        if args_splited[i] in month_key_words:\n",
    "            month = args_splited[i-1]\n",
    "        if args_splited[i] in year_key_words:\n",
    "            year = args_splited[i-1]\n",
    "    return int(year)*12 + int(month)"
   ]
  },
  {
   "cell_type": "code",
   "execution_count": 8,
   "metadata": {},
   "outputs": [
    {
     "name": "stdout",
     "output_type": "stream",
     "text": [
      "<class 'pandas.core.frame.DataFrame'>\n",
      "RangeIndex: 13580 entries, 0 to 13579\n",
      "Data columns (total 23 columns):\n",
      " #   Column         Non-Null Count  Dtype   \n",
      "---  ------         --------------  -----   \n",
      " 0   index          13580 non-null  int64   \n",
      " 1   Suburb         13580 non-null  category\n",
      " 2   Address        13580 non-null  object  \n",
      " 3   Rooms          13580 non-null  int64   \n",
      " 4   Type           13580 non-null  object  \n",
      " 5   Price          13580 non-null  float64 \n",
      " 6   Method         13580 non-null  object  \n",
      " 7   SellerG        13580 non-null  object  \n",
      " 8   Date           13580 non-null  object  \n",
      " 9   Distance       13580 non-null  float64 \n",
      " 10  Postcode       13580 non-null  int64   \n",
      " 11  Bedroom        13580 non-null  int64   \n",
      " 12  Bathroom       13580 non-null  int64   \n",
      " 13  Car            13580 non-null  int64   \n",
      " 14  Landsize       13580 non-null  float64 \n",
      " 15  BuildingArea   13580 non-null  float64 \n",
      " 16  YearBuilt      13580 non-null  int64   \n",
      " 17  CouncilArea    12211 non-null  object  \n",
      " 18  Lattitude      13580 non-null  float64 \n",
      " 19  Longtitude     13580 non-null  float64 \n",
      " 20  Regionname     13580 non-null  object  \n",
      " 21  Propertycount  13580 non-null  int64   \n",
      " 22  Coordinates    13580 non-null  object  \n",
      "dtypes: category(1), float64(6), int64(8), object(8)\n",
      "memory usage: 2.3+ MB\n"
     ]
    }
   ],
   "source": [
    "#melb_df.info()\n",
    "\n",
    "popular_Suburb = melb_df['Suburb'].value_counts().nlargest(119).index\n",
    "melb_df['Suburb'] = melb_df['Suburb'].apply(lambda x: x if x in popular_Suburb else 'other')\n",
    "melb_df['Suburb'] = melb_df['Suburb'].astype('category')\n",
    "melb_df.info()"
   ]
  },
  {
   "cell_type": "code",
   "execution_count": 122,
   "metadata": {},
   "outputs": [
    {
     "ename": "NameError",
     "evalue": "name 'data' is not defined",
     "output_type": "error",
     "traceback": [
      "\u001b[1;31m---------------------------------------------------------------------------\u001b[0m",
      "\u001b[1;31mNameError\u001b[0m                                 Traceback (most recent call last)",
      "Cell \u001b[1;32mIn [122], line 9\u001b[0m\n\u001b[0;32m      5\u001b[0m citibike_df \u001b[39m=\u001b[39m citibike_data\u001b[39m.\u001b[39mcopy()\n\u001b[0;32m      6\u001b[0m \u001b[39m#citibike_df.head()\u001b[39;00m\n\u001b[0;32m      7\u001b[0m \u001b[39m#print(232202/300000)\u001b[39;00m\n\u001b[0;32m      8\u001b[0m \u001b[39m#citibike_df['start station id'].mode()\u001b[39;00m\n\u001b[1;32m----> 9\u001b[0m \u001b[39mprint\u001b[39m(data[\u001b[39m'\u001b[39m\u001b[39mstart station id\u001b[39m\u001b[39m'\u001b[39m]\u001b[39m.\u001b[39mmode()[\u001b[39m0\u001b[39m])\n\u001b[0;32m     10\u001b[0m \u001b[39m#citibike_df['bikeid'].mode()\u001b[39;00m\n\u001b[0;32m     11\u001b[0m \u001b[39mprint\u001b[39m(data[\u001b[39m'\u001b[39m\u001b[39mbikeid\u001b[39m\u001b[39m'\u001b[39m]\u001b[39m.\u001b[39mmode()[\u001b[39m0\u001b[39m])\n",
      "\u001b[1;31mNameError\u001b[0m: name 'data' is not defined"
     ]
    }
   ],
   "source": [
    "import pandas as pd\n",
    "\n",
    "citibike_data = pd.read_csv('data/citibike-tripdata.csv', sep=',')\n",
    "\n",
    "citibike_df = citibike_data.copy()\n",
    "#citibike_df.head()\n",
    "#print(232202/300000)\n",
    "#citibike_df['start station id'].mode()\n",
    "print(data['start station id'].mode()[0])\n",
    "#citibike_df['bikeid'].mode()\n",
    "print(data['bikeid'].mode()[0])\n",
    "\n",
    "#citibike_df['usertype'].value_counts(normalize=True)\n",
    "\n",
    "#citibike_df['usertype'].mode()\n",
    "#citibike_df[citibike_df['usertype'] == 'Subscriber'][['usertype']].value_counts()\n",
    "#citibike_df.info()\n",
    "mode_usertype = data['usertype'].mode()[0]\n",
    "count_mode_user = data[data['usertype'] == mode_usertype].shape[0]\n",
    "print(round(count_mode_user / data.shape[0], 2))\n",
    "\n",
    "#citibike_df['gender'].value_counts()\n",
    "male_count = data[data['gender'] == 1].shape[0]\n",
    "female_count = data[data['gender'] == 0].shape[0]\n",
    "print(max([male_count, female_count]))\n",
    "\n",
    "#citibike_df['start station name'].value_counts()\n",
    "#citibike_df['start station name'].value_counts()\n",
    "#citibike_df['end station name'].value_counts()\n",
    "#citibike_df.describe()\n",
    "#citibike_df['end station name'].value_counts()\n",
    "\n",
    "\n",
    "citibike_df = citibike_df.drop(['start station id', 'end station id'], axis=1)\n",
    "print(citibike_df.shape[1]) #СТОЛБЦЫ\n",
    "#citibike_df.info()\n",
    "#Замените признак birth year на более понятный признак возраста клиента age. \n",
    "# отсчёта возраста выберите 2018 год. Столбец birth \n",
    "# year удалите из таблицы. Сколько поездок совершено клиентами старше 60 лет\n",
    "#citibike_df['birth year'] = pd.to_datetime(citibike_df['birth year'])\n",
    "#c\n",
    "citibike_df['age'] = 2018 - citibike_df['birth year']\n",
    "#display(citibike_df['age'])\n",
    "#citibike_df = citibike_df.drop(['birth year'], axis=1)\n",
    "#citibike_df[citibike_df['age'] > 60]\n",
    "\n",
    "#Создайте признак длительности поездки trip duration\n",
    "citibike_df['stoptime'] = pd.to_datetime(citibike_df['stoptime'])\n",
    "citibike_df['starttime'] = pd.to_datetime(citibike_df['starttime'])\n",
    "citibike_df['trip duration'] = citibike_df['stoptime'] - citibike_df['starttime']\n",
    "citibike_df.loc[3, 'trip duration']\n",
    "#citibike_df['trip duration']\n",
    "\n",
    "#Создайте «признак-мигалку» weekend, который равен 1, если поездка начиналась в выходной день \n",
    "#и 0 — в противном случае. Выясните, сколько поездок начиналось в выходные\n",
    "week_day = citibike_df['starttime'].dt.dayofweek\n",
    "\n",
    "def weekend_count(num):\n",
    "    if num == 5 or num == 6:\n",
    "        weekend = 1\n",
    "    else:\n",
    "        weekend = 0\n",
    "    return weekend\n",
    "\n",
    "weekend_df = week_day.apply(weekend_count)\n",
    "#display(weekend_df)\n",
    "#weekend_df.value_counts()\n",
    "weekend_df.sum()\n",
    "#****************\n",
    "weekday = data['starttime'].dt.dayofweek\n",
    "data['weekend'] = weekday.apply(lambda x: 1 if x ==5 or x == 6 else 0)\n",
    "data['weekend'].sum()\n",
    "\n",
    "\n",
    "#Создайте признак времени суток поездки time_of_day. Время суток будем определять из часа начала поездки\n",
    "time_df = citibike_df['starttime'].dt.hour\n",
    "#display(time_df)\n",
    "def time_of_day(num):\n",
    "    time = 0\n",
    "    if num in range(7):\n",
    "        time = 'night'\n",
    "    elif num in range(7, 13):\n",
    "        time = 'morning'\n",
    "    elif num in range(13, 19):\n",
    "        time = 'day'\n",
    "    elif num in range(19, 25):\n",
    "        time = 'evening'\n",
    "    return time\n",
    "\n",
    "#print(time_of_day(24))\n",
    "\n",
    "time_res = time_df.apply(time_of_day)\n",
    "time_res.value_counts()\n",
    "#display(time_res)\n",
    "print(round(143012 / 15085))\n",
    "\n",
    "#*****************************\n",
    "def get_time_of_day(time):\n",
    "    if 0 <= time <= 6:\n",
    "        return 'night'\n",
    "    elif 6 < time <= 12:\n",
    "        return 'morning'\n",
    "    elif 12 < time <= 18:\n",
    "        return 'day'\n",
    "    elif 18 < time <= 23:\n",
    "        return 'evening'\n",
    "    else:\n",
    "        return 'else'\n",
    "data['time_of_day'] = data['starttime'].dt.hour.apply(get_time_of_day)\n",
    "a = data[data['time_of_day'] == 'day'].shape[0]\n",
    "b = data[data['time_of_day'] == 'night'].shape[0]\n",
    "print(round(a / b))"
   ]
  }
 ],
 "metadata": {
  "kernelspec": {
   "display_name": "Python 3.9.10 64-bit",
   "language": "python",
   "name": "python3"
  },
  "language_info": {
   "codemirror_mode": {
    "name": "ipython",
    "version": 3
   },
   "file_extension": ".py",
   "mimetype": "text/x-python",
   "name": "python",
   "nbconvert_exporter": "python",
   "pygments_lexer": "ipython3",
   "version": "3.9.10"
  },
  "orig_nbformat": 4,
  "vscode": {
   "interpreter": {
    "hash": "7a4b96c1986ca677e6d2ebfd9e4fc5687c706e8b683bd809e2bb5f8e7e7a77b7"
   }
  }
 },
 "nbformat": 4,
 "nbformat_minor": 2
}
