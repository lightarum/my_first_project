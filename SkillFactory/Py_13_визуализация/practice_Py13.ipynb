{
 "cells": [
  {
   "cell_type": "markdown",
   "metadata": {},
   "source": [
    "**Анализ данных по клиентам с целью найти зависимости и предотвратить отток клиентов в банке**"
   ]
  },
  {
   "cell_type": "code",
   "execution_count": 108,
   "metadata": {},
   "outputs": [
    {
     "data": {
      "text/html": [
       "<div>\n",
       "<style scoped>\n",
       "    .dataframe tbody tr th:only-of-type {\n",
       "        vertical-align: middle;\n",
       "    }\n",
       "\n",
       "    .dataframe tbody tr th {\n",
       "        vertical-align: top;\n",
       "    }\n",
       "\n",
       "    .dataframe thead th {\n",
       "        text-align: right;\n",
       "    }\n",
       "</style>\n",
       "<table border=\"1\" class=\"dataframe\">\n",
       "  <thead>\n",
       "    <tr style=\"text-align: right;\">\n",
       "      <th></th>\n",
       "      <th>CustomerId</th>\n",
       "      <th>Surname</th>\n",
       "      <th>CreditScore</th>\n",
       "      <th>Geography</th>\n",
       "      <th>Gender</th>\n",
       "      <th>Age</th>\n",
       "      <th>Tenure</th>\n",
       "      <th>Balance</th>\n",
       "      <th>NumOfProducts</th>\n",
       "      <th>HasCrCard</th>\n",
       "      <th>IsActiveMember</th>\n",
       "      <th>EstimatedSalary</th>\n",
       "      <th>Exited</th>\n",
       "    </tr>\n",
       "  </thead>\n",
       "  <tbody>\n",
       "    <tr>\n",
       "      <th>0</th>\n",
       "      <td>15634602</td>\n",
       "      <td>Hargrave</td>\n",
       "      <td>619</td>\n",
       "      <td>France</td>\n",
       "      <td>Female</td>\n",
       "      <td>42</td>\n",
       "      <td>2</td>\n",
       "      <td>0.00</td>\n",
       "      <td>1</td>\n",
       "      <td>1</td>\n",
       "      <td>1</td>\n",
       "      <td>101348.88</td>\n",
       "      <td>1</td>\n",
       "    </tr>\n",
       "    <tr>\n",
       "      <th>1</th>\n",
       "      <td>15647311</td>\n",
       "      <td>Hill</td>\n",
       "      <td>608</td>\n",
       "      <td>Spain</td>\n",
       "      <td>Female</td>\n",
       "      <td>41</td>\n",
       "      <td>1</td>\n",
       "      <td>83807.86</td>\n",
       "      <td>1</td>\n",
       "      <td>0</td>\n",
       "      <td>1</td>\n",
       "      <td>112542.58</td>\n",
       "      <td>0</td>\n",
       "    </tr>\n",
       "    <tr>\n",
       "      <th>2</th>\n",
       "      <td>15619304</td>\n",
       "      <td>Onio</td>\n",
       "      <td>502</td>\n",
       "      <td>France</td>\n",
       "      <td>Female</td>\n",
       "      <td>42</td>\n",
       "      <td>8</td>\n",
       "      <td>159660.80</td>\n",
       "      <td>3</td>\n",
       "      <td>1</td>\n",
       "      <td>0</td>\n",
       "      <td>113931.57</td>\n",
       "      <td>1</td>\n",
       "    </tr>\n",
       "    <tr>\n",
       "      <th>3</th>\n",
       "      <td>15701354</td>\n",
       "      <td>Boni</td>\n",
       "      <td>699</td>\n",
       "      <td>France</td>\n",
       "      <td>Female</td>\n",
       "      <td>39</td>\n",
       "      <td>1</td>\n",
       "      <td>0.00</td>\n",
       "      <td>2</td>\n",
       "      <td>0</td>\n",
       "      <td>0</td>\n",
       "      <td>93826.63</td>\n",
       "      <td>0</td>\n",
       "    </tr>\n",
       "    <tr>\n",
       "      <th>4</th>\n",
       "      <td>15737888</td>\n",
       "      <td>Mitchell</td>\n",
       "      <td>850</td>\n",
       "      <td>Spain</td>\n",
       "      <td>Female</td>\n",
       "      <td>43</td>\n",
       "      <td>2</td>\n",
       "      <td>125510.82</td>\n",
       "      <td>1</td>\n",
       "      <td>1</td>\n",
       "      <td>1</td>\n",
       "      <td>79084.10</td>\n",
       "      <td>0</td>\n",
       "    </tr>\n",
       "  </tbody>\n",
       "</table>\n",
       "</div>"
      ],
      "text/plain": [
       "   CustomerId   Surname  CreditScore Geography  Gender  Age  Tenure  \\\n",
       "0    15634602  Hargrave          619    France  Female   42       2   \n",
       "1    15647311      Hill          608     Spain  Female   41       1   \n",
       "2    15619304      Onio          502    France  Female   42       8   \n",
       "3    15701354      Boni          699    France  Female   39       1   \n",
       "4    15737888  Mitchell          850     Spain  Female   43       2   \n",
       "\n",
       "     Balance  NumOfProducts  HasCrCard  IsActiveMember  EstimatedSalary  \\\n",
       "0       0.00              1          1               1        101348.88   \n",
       "1   83807.86              1          0               1        112542.58   \n",
       "2  159660.80              3          1               0        113931.57   \n",
       "3       0.00              2          0               0         93826.63   \n",
       "4  125510.82              1          1               1         79084.10   \n",
       "\n",
       "   Exited  \n",
       "0       1  \n",
       "1       0  \n",
       "2       1  \n",
       "3       0  \n",
       "4       0  "
      ]
     },
     "execution_count": 108,
     "metadata": {},
     "output_type": "execute_result"
    }
   ],
   "source": [
    "import pandas as pd\n",
    "churn_data = pd.read_csv('data/churn.csv')\n",
    "\n",
    "churn_data = churn_data.drop(['RowNumber'], axis=1)\n",
    "\n",
    "import matplotlib.pyplot as plt\n",
    "import seaborn as sns\n",
    "import plotly.express as px\n",
    "\n",
    "churn_data.head()"
   ]
  },
  {
   "cell_type": "markdown",
   "metadata": {},
   "source": [
    "*9.1. Каково соотношение ушедших и лояльных клиентов?*"
   ]
  },
  {
   "cell_type": "code",
   "execution_count": 109,
   "metadata": {},
   "outputs": [
    {
     "data": {
      "image/png": "[encoded data removed]",
      "text/plain": [
       "<Figure size 600x300 with 1 Axes>"
      ]
     },
     "metadata": {},
     "output_type": "display_data"
    }
   ],
   "source": [
    "import matplotlib.pyplot as plt\n",
    "%matplotlib inline\n",
    "\n",
    "churn_data_Exited = churn_data['Exited'].value_counts(normalize=True).sort_values(ascending=False).round(1)\n",
    "\n",
    "fig = plt.figure(figsize=(6, 3))\n",
    "ax = fig.add_axes((1, 1, 1, 1))\n",
    "\n",
    "pie = ax.pie(\n",
    "    churn_data_Exited,\n",
    "    labels=['лояльные', 'ушедшие'],\n",
    "    autopct='%1.1f%%',\n",
    "    startangle=90\n",
    ")\n",
    "title = ax.set_title('Соотношение ушедших и лояльных клиентов', fontsize=16)\n",
    "plt.show(pie)"
   ]
  },
  {
   "cell_type": "markdown",
   "metadata": {},
   "source": [
    "*Вывод:* Ушедших клиентов в 4 раза меньше лояльных."
   ]
  },
  {
   "cell_type": "markdown",
   "metadata": {},
   "source": [
    "*9.2 Распределение баланса пользователей, у которых на счету больше 2 500 долларов*"
   ]
  },
  {
   "cell_type": "code",
   "execution_count": 110,
   "metadata": {},
   "outputs": [
    {
     "data": {
      "image/png": "[encoded data removed]",
      "text/plain": [
       "<Figure size 800x600 with 2 Axes>"
      ]
     },
     "metadata": {},
     "output_type": "display_data"
    }
   ],
   "source": [
    "import seaborn as sns\n",
    "import matplotlib.pyplot as plt\n",
    "\n",
    "churn_data_bal = churn_data[churn_data['Balance'] > 2500]\n",
    "fig, axes = plt.subplots(nrows=2, ncols=1, figsize=(8, 6))\n",
    "sns.histplot(\n",
    "    data=churn_data_bal,\n",
    "    x='Balance',\n",
    "    bins=10,\n",
    "    ax=axes[0]\n",
    ");\n",
    "axes[0].set_title('Гистограмма распределения баланса пользователей, у которых на счету больше 2500 долл.', fontsize=16)\n",
    "sns.histplot(\n",
    "    data=churn_data_bal,\n",
    "    x='Balance',\n",
    "    y='Exited',\n",
    "    bins=10,\n",
    "    color='red',\n",
    "    ax=axes[1]\n",
    ");\n"
   ]
  },
  {
   "cell_type": "markdown",
   "metadata": {},
   "source": [
    "*Вывод:*\n",
    "1. На графике виден диапозон распределения баланса от 2 500 долл. до 250 000 долл.(максимальное значение баланса пользователей).\n",
    "2. Большинство клиентов банка имеет баланс от 100 000 долл. до 125 000 долл. Так как второе по модальности значение доходит до 150 000 долл., то можно сказать, что большинство значений в диапозоне 100 000-150 000.\n",
    "3. По второму графику видно, что диапозон модальных значений у ушедших клиентов начинается от 100тыс., а у лояльных от 75 тыс.долл."
   ]
  },
  {
   "cell_type": "markdown",
   "metadata": {},
   "source": [
    "*9.3. Распределение баланса клиента в разрезе признака оттока.* <br>\n",
    "*Как различаются суммы на накопительном счёте ушедших и лояльных клиентов?*"
   ]
  },
  {
   "cell_type": "code",
   "execution_count": 111,
   "metadata": {},
   "outputs": [
    {
     "data": {
      "image/png": "[encoded data removed]",
      "text/plain": [
       "<Figure size 700x400 with 1 Axes>"
      ]
     },
     "metadata": {},
     "output_type": "display_data"
    }
   ],
   "source": [
    "import pandas as pd\n",
    "churn_data = pd.read_csv('data/churn.csv')\n",
    "\n",
    "churn_data = churn_data.drop(['RowNumber'], axis=1)\n",
    "\n",
    "import seaborn as sns\n",
    "import matplotlib.pyplot as plt\n",
    "\n",
    "churn_data['Exited'] = churn_data['Exited'].apply(lambda x: 'ушедшие' if x == 1 else 'лояльные')\n",
    "\n",
    "fig = plt.figure(figsize=(7, 4))\n",
    "boxplot = sns.boxplot(\n",
    "    data=churn_data,\n",
    "    y='Exited',\n",
    "    x='Balance',\n",
    "    orient='h',\n",
    "    width=0.9\n",
    ")\n",
    "boxplot.set_title('График распределения баланса пользователей в разрезе оттока', fontsize=16);\n",
    "boxplot.set_xlabel('Сумма на накопительном счету');\n",
    "boxplot.set_ylabel('Лояльные и ушедшие пользователи');\n",
    "boxplot.grid()"
   ]
  },
  {
   "cell_type": "markdown",
   "metadata": {},
   "source": [
    "*Выводы:* у ушедших клиентов межквартильный размах начинается с больших сумм, чем у лояльных (примерно с 40 000 долл.), и максимум больше (250 000 долл.) Медианное значение у ушедших клиентов больше, чем у лояльных.\n",
    "Можно предположить, что у банка нет льготных условий для VIP-клиентов с большими суммами на накопительных счетах.\n",
    "Межквартильный размах лояльных пользователей начинается с нуля, то есть у банка много пользователей с небольшими суммами на счетах.\n",
    "\n",
    "**Мы видим большое смещение лояльных клиентов к нулю, это вызвано большим количеством клиентов с нулевым балансом. Стоит отдельно рассмотреть клиентов с нулевым балансом.**"
   ]
  },
  {
   "cell_type": "markdown",
   "metadata": {},
   "source": [
    "*9.4. Распределение возраста в разрезе признака оттока.* <br>\n",
    "*В какой группе больше потенциальных выбросов? На какую возрастную категорию клиентов стоит обратить внимание банку?*"
   ]
  },
  {
   "cell_type": "code",
   "execution_count": 112,
   "metadata": {},
   "outputs": [
    {
     "data": {
      "image/png": "[encoded data removed]",
      "text/plain": [
       "<Figure size 700x400 with 1 Axes>"
      ]
     },
     "metadata": {},
     "output_type": "display_data"
    }
   ],
   "source": [
    "import pandas as pd\n",
    "churn_data = pd.read_csv('data/churn.csv')\n",
    "\n",
    "churn_data = churn_data.drop(['RowNumber'], axis=1)\n",
    "\n",
    "import seaborn as sns\n",
    "import matplotlib.pyplot as plt\n",
    "\n",
    "churn_data['Exited'] = churn_data['Exited'].apply(lambda x: 'ушедшие' if x == 1 else 'лояльные')\n",
    "\n",
    "fig = plt.figure(figsize=(7, 4))\n",
    "boxplot = sns.boxplot(\n",
    "    data=churn_data,\n",
    "    y='Exited',\n",
    "    x='Age',\n",
    "    orient='h',\n",
    "    width=0.9\n",
    ")\n",
    "boxplot.set_title('График возраста пользователей в разрезе признака оттока', fontsize=16);\n",
    "boxplot.set_xlabel('Возраст пользователей');\n",
    "boxplot.set_ylabel('Лояльные и ушедшие пользователи');\n",
    "boxplot.grid()"
   ]
  },
  {
   "cell_type": "markdown",
   "metadata": {},
   "source": [
    "*Выводы:* потенциальных выбросов больше у лояльных клиентов, после максимума в 55 лет.\n",
    "Стоит обратить внимание, что основное количество лояльных клиентов в возрасте 30-40 лет . В то время как ушедшие клиенты старше (в основной массе), это 38-50 лет. Так же медианное значение лояльных клиентов (35) на 10 лет моложе, чем медианное значение возраста ушедших (45).\n",
    "Можно обратить внимание на группу клиентов возраста 40 и старше."
   ]
  },
  {
   "cell_type": "markdown",
   "metadata": {},
   "source": [
    "*9.5. График, который показывает взаимосвязь кредитного рейтинга клиента и его предполагаемой зарплаты.<br>\n",
    "Добавьте расцветку по признаку оттока клиентов. Какова взаимосвязь между признаками?*"
   ]
  },
  {
   "cell_type": "code",
   "execution_count": 113,
   "metadata": {},
   "outputs": [
    {
     "data": {
      "application/vnd.plotly.v1+json": {
       "config": {
        "plotlyServerURL": "https://plot.ly"
       },
       "data": [
        {
         "hovertemplate": "Exited=Loyal<br>EstimatedSalary=%{x}<br>CreditScore=%{y}<extra></extra>",
         "legendgroup": "Loyal",
         "marker": {
          "color": "#636efa",
          "symbol": "circle"
         },
         "mode": "markers",
         "name": "Loyal",
         "orientation": "v",
         "showlegend": true,
         "type": "scatter",
         "x": [
          null,
          null,
          null,
          null,
          null,
          null,
          null,
          null,
          null,
          null,
          null,
          null,
          null,
          null,
          null,
          null,
          72950.14,
          null,
          124874.23,
          99778.105,
          86156.2075,
          12510.53,
          75466.27,
          93844.82,
          12710.95,
          94854.14749999999,
          55003.79,
          88695.394,
          134720.51,
          9904.63,
          54388.994999999995,
          51959.02,
          null,
          16250.61,
          170271.55666666667,
          84553.87,
          66253.41166666667,
          56434.6,
          77188.4275,
          67023.35666666667,
          112021.02750000001,
          92103.95,
          87032.75,
          61790.9,
          123461.27,
          35687.43,
          116321.50600000001,
          73910.415,
          114865.54666666668,
          49826.68,
          174381.23,
          68343.08,
          60247.54750000001,
          138594.7225,
          113683.647,
          143000.1125,
          113612,
          88607.63,
          131303.935,
          117162.9925,
          120209.134,
          106051.604,
          91831.31333333334,
          146759.82333333333,
          84099.915,
          118087.6725,
          143235.93999999997,
          89088.04714285713,
          102868.66,
          158146.05,
          120894.41571428571,
          103697.735,
          79615.2225,
          118445.12428571428,
          121390.46714285715,
          101263.995,
          60932.365000000005,
          126914.907,
          120452.185,
          80771.01444444444,
          111372.0942857143,
          68006.08625,
          106074.81428571428,
          113123.67142857143,
          95032.64,
          91046.7,
          130011.68888888888,
          133012.20500000002,
          95941.03583333333,
          115218.39333333333,
          95860.4775,
          75812.9825,
          88234.58600000001,
          107364.19444444444,
          102364.03818181818,
          79651.20125,
          106281.20818181819,
          99828.365,
          117048.03555555556,
          105987.12727272726,
          105735.1075,
          118460.75333333334,
          85721.698,
          83382.30416666667,
          97032.665,
          119885.26777777777,
          89447.52083333333,
          112407.60076923078,
          96598.5475,
          131122.32666666666,
          98497.78222222223,
          95259.43363636364,
          114411.5823076923,
          92095.83888888889,
          118160.06999999999,
          95204.31066666666,
          96756.30866666666,
          94037.03,
          98792.77500000001,
          84984.15199999999,
          132623.30545454545,
          83266.122,
          108106.36384615385,
          60733.31125,
          120523.55272727273,
          101969.17217391304,
          70792.005,
          114714.61249999999,
          114534.89727272728,
          70794.51095238095,
          77533.43857142857,
          113475.2175,
          104297.17882352941,
          125545.41615384616,
          114518.93666666668,
          92740.31444444443,
          107828.600625,
          109763.4,
          77689.56521739131,
          107236.969375,
          78677.81764705882,
          75696.22625,
          113694.79142857144,
          90419.93571428572,
          97046.85052631579,
          74244.62363636364,
          102109.28349999999,
          93977.49375,
          85738.32523809525,
          96360.81285714285,
          90463.12384615386,
          82433.6994117647,
          106163.22185185186,
          95816.40263157894,
          119799.3705882353,
          102672.68090909091,
          84737.95714285714,
          85918.07352941176,
          92167.42222222223,
          126492.37041666667,
          100817.88533333334,
          79125.3375,
          79729.52900000001,
          116565.78818181818,
          106032.87652173913,
          114205.73052631579,
          96018.88277777778,
          131681.37421052632,
          95785.0376,
          81814.369375,
          84436.28238095238,
          90523.10086956523,
          60446.20846153846,
          91889.66222222222,
          104499.72578947368,
          109559.96909090909,
          95135.47538461538,
          90188.36647058824,
          121917.34666666668,
          100166.86,
          104337.59916666667,
          95136.35277777778,
          102844.58692307692,
          92576.84157894737,
          93069.349,
          89521.5338888889,
          115915.48166666667,
          102181.35352941176,
          91293.05066666666,
          96103.56333333334,
          96517.89814814815,
          86899.83,
          73531.82655172414,
          109269.42028571428,
          96878.83,
          79164.1676923077,
          84113.0396,
          93175.5723076923,
          95816.26130434782,
          103109.43433333332,
          95287.1373076923,
          87790.21375,
          94399.90212121212,
          103978.03586206897,
          101740.55666666667,
          84681.09565217391,
          93239.17125,
          119706.13636363637,
          99318.09958333334,
          86589.69074074074,
          100793.2271875,
          103835.17777777778,
          96409.20347826088,
          88278.76310344828,
          100390.59212121212,
          112222.26903225806,
          111267.15548387096,
          100570.3303125,
          104502.5264,
          110960.62857142858,
          106279.25033333334,
          123242.86000000002,
          96681.63444444444,
          94504.6717857143,
          107020.06793103449,
          103170.89703703705,
          100716.332,
          93398.90631578947,
          97376.605625,
          85988.84413793104,
          84698.75,
          98327.50142857143,
          102601.5125,
          107973.986,
          104355.179,
          91268.93549999999,
          122465.77888888889,
          106212.32625,
          93892.02571428572,
          97990.32333333333,
          110055.41896551724,
          104302.64575757575,
          97611.04658536585,
          105366.6015625,
          112487.09242424242,
          90043.82142857143,
          115022.6034375,
          90274.15958333334,
          104091.3336111111,
          100237.1945,
          85793.7729032258,
          98804.95774193548,
          108727.9682142857,
          82229.515,
          86212.82029411766,
          96398.42588235294,
          95199.56916666667,
          99020.76472222221,
          91191.29433333334,
          91777.28034482758,
          113446.7290909091,
          121111.329,
          76327.47233333332,
          112953.60814814815,
          96937.39930232558,
          99511.35914285714,
          75407.9972,
          95358.80655172415,
          106188.82068965519,
          102812.56731707316,
          98304.13148148147,
          94614.79548387097,
          105854.55384615385,
          116846.8112,
          107964.2256,
          95531.75387096775,
          81911.93428571429,
          92898.60592592592,
          113135.99551724139,
          93786.6461904762,
          100612.71633333333,
          116504.69350000001,
          85997.15933333334,
          94710.89916666667,
          85875.32142857143,
          96492.54233333333,
          98279.178,
          88391.64460000001,
          100723.73902439023,
          93444.75484848485,
          102121.98914285714,
          97753.36846153847,
          102613.58390243903,
          109634.26418604652,
          113822.94833333333,
          111123.56368421053,
          98908.69783783784,
          129768.82045454545,
          112525.99833333334,
          95341.4064,
          106739.33615384616,
          107246.37409090908,
          88676.7916,
          84588.91275862067,
          92896.733125,
          97660.93314285715,
          90145.19444444444,
          85891.21344827586,
          110842.45794117649,
          113353.55481481481,
          99251.59128205129,
          101665.22136363637,
          93334.37333333334,
          125940.66560000001,
          92951.11675675675,
          82016.82090909091,
          101039.355,
          84957.4215,
          94601.26212121212,
          93907.89657142857,
          81386.87794117647,
          116627.82027027025,
          93732.91705882353,
          101078.46179487181,
          104876.71818181817,
          117440.98772727273,
          112662.75724137931,
          78241.08742857142,
          118422.685,
          108179.25157894737,
          97392.87384615386,
          120421.54470588235,
          90117.30866666666,
          93585.5384375,
          118590.01166666666,
          84663.004,
          102242.46,
          89969.89444444444,
          102784.67230769231,
          119049.95800000001,
          133747.2628,
          122381.97727272728,
          94673.60137931035,
          80061.63764705883,
          94835.022,
          101575.88285714286,
          90127.73352941177,
          87379.97260869565,
          117465.6355,
          81012.66416666667,
          85121.75608695652,
          74981.49142857142,
          113578.60714285714,
          103608.59653846153,
          108850.03772727273,
          106375.004,
          114133.17461538462,
          105966.28041666666,
          92767.32,
          71150.04352941176,
          82771.37913043478,
          100236.13380952382,
          109992.43117647059,
          80968.07619047619,
          90743.39428571428,
          107430.90913043478,
          131220.0648,
          91123.12272727273,
          88810.78157894737,
          103534.36642857142,
          130625.269,
          114277.5,
          73686.674375,
          109485.10785714285,
          92609.30666666666,
          74342.7075,
          100173.92941176471,
          74428.95583333333,
          96430.764,
          111950.228,
          80668.99615384615,
          91082.18538461538,
          89380.80086956521,
          90628.31999999999,
          98559.43625000001,
          122178.55588235294,
          90247.06375,
          123047.62833333334,
          91959.47499999999,
          94354.93375,
          106818.344,
          111688.0307142857,
          111672.78,
          127416.77333333333,
          110621.1175,
          94553.450625,
          71529.10769230769,
          83083.159,
          96004.25444444445,
          133659.4857894737,
          114355.95555555556,
          96200.75615384616,
          109156.77333333335,
          103896.20882352942,
          160046.00625,
          102705.45230769229,
          104166.04384615386,
          108397.317,
          96876.112,
          95929.25444444445,
          72805.20857142858,
          122067.35333333333,
          104681.7375,
          117407.15857142858,
          66663.95,
          107332.91142857143,
          103551.16533333334,
          111086.92,
          134679.92833333334,
          110944.93666666666,
          114456.86,
          137834.00333333333,
          78122.06375,
          144566.1890909091,
          129711.83249999999,
          63896.404,
          93891.76999999999,
          99199.58200000001,
          79547.58,
          75447.905,
          89478.59428571428,
          81933.98749999999,
          136903.418,
          97127.544,
          66225.77285714286,
          145788.848,
          94174.524,
          121575.41777777778,
          63906.86,
          50567.450000000004,
          120625.834,
          100252.09,
          97526.64857142858,
          68514.90625,
          98497.50888888889,
          119081.58750000001,
          91413.9275,
          78952.82285714286,
          62674.42,
          92718.555,
          138255.21399999998,
          87630.56,
          39149.134999999995,
          133982.515,
          136830.83000000002,
          108445.01333333335,
          107291.3075,
          130616.95800000001,
          123653.06333333334,
          96853.09942105264
         ],
         "xaxis": "x",
         "y": [
          350,
          351,
          358,
          359,
          363,
          365,
          367,
          373,
          376,
          382,
          383,
          386,
          395,
          399,
          401,
          404,
          405,
          407,
          408,
          410,
          411,
          412,
          413,
          414,
          415,
          416,
          417,
          418,
          419,
          420,
          421,
          422,
          423,
          424,
          425,
          426,
          427,
          428,
          429,
          430,
          431,
          432,
          433,
          434,
          435,
          436,
          437,
          438,
          439,
          440,
          441,
          442,
          443,
          444,
          445,
          446,
          447,
          448,
          449,
          450,
          451,
          452,
          453,
          454,
          455,
          456,
          457,
          458,
          459,
          460,
          461,
          462,
          463,
          464,
          465,
          466,
          467,
          468,
          469,
          470,
          471,
          472,
          473,
          474,
          475,
          476,
          477,
          478,
          479,
          480,
          481,
          482,
          483,
          484,
          485,
          486,
          487,
          488,
          489,
          490,
          491,
          492,
          493,
          494,
          495,
          496,
          497,
          498,
          499,
          500,
          501,
          502,
          503,
          504,
          505,
          506,
          507,
          508,
          509,
          510,
          511,
          512,
          513,
          514,
          515,
          516,
          517,
          518,
          519,
          520,
          521,
          522,
          523,
          524,
          525,
          526,
          527,
          528,
          529,
          530,
          531,
          532,
          533,
          534,
          535,
          536,
          537,
          538,
          539,
          540,
          541,
          542,
          543,
          544,
          545,
          546,
          547,
          548,
          549,
          550,
          551,
          552,
          553,
          554,
          555,
          556,
          557,
          558,
          559,
          560,
          561,
          562,
          563,
          564,
          565,
          566,
          567,
          568,
          569,
          570,
          571,
          572,
          573,
          574,
          575,
          576,
          577,
          578,
          579,
          580,
          581,
          582,
          583,
          584,
          585,
          586,
          587,
          588,
          589,
          590,
          591,
          592,
          593,
          594,
          595,
          596,
          597,
          598,
          599,
          600,
          601,
          602,
          603,
          604,
          605,
          606,
          607,
          608,
          609,
          610,
          611,
          612,
          613,
          614,
          615,
          616,
          617,
          618,
          619,
          620,
          621,
          622,
          623,
          624,
          625,
          626,
          627,
          628,
          629,
          630,
          631,
          632,
          633,
          634,
          635,
          636,
          637,
          638,
          639,
          640,
          641,
          642,
          643,
          644,
          645,
          646,
          647,
          648,
          649,
          650,
          651,
          652,
          653,
          654,
          655,
          656,
          657,
          658,
          659,
          660,
          661,
          662,
          663,
          664,
          665,
          666,
          667,
          668,
          669,
          670,
          671,
          672,
          673,
          674,
          675,
          676,
          677,
          678,
          679,
          680,
          681,
          682,
          683,
          684,
          685,
          686,
          687,
          688,
          689,
          690,
          691,
          692,
          693,
          694,
          695,
          696,
          697,
          698,
          699,
          700,
          701,
          702,
          703,
          704,
          705,
          706,
          707,
          708,
          709,
          710,
          711,
          712,
          713,
          714,
          715,
          716,
          717,
          718,
          719,
          720,
          721,
          722,
          723,
          724,
          725,
          726,
          727,
          728,
          729,
          730,
          731,
          732,
          733,
          734,
          735,
          736,
          737,
          738,
          739,
          740,
          741,
          742,
          743,
          744,
          745,
          746,
          747,
          748,
          749,
          750,
          751,
          752,
          753,
          754,
          755,
          756,
          757,
          758,
          759,
          760,
          761,
          762,
          763,
          764,
          765,
          766,
          767,
          768,
          769,
          770,
          771,
          772,
          773,
          774,
          775,
          776,
          777,
          778,
          779,
          780,
          781,
          782,
          783,
          784,
          785,
          786,
          787,
          788,
          789,
          790,
          791,
          792,
          793,
          794,
          795,
          796,
          797,
          798,
          799,
          800,
          801,
          802,
          803,
          804,
          805,
          806,
          807,
          808,
          809,
          810,
          811,
          812,
          813,
          814,
          815,
          816,
          817,
          818,
          819,
          820,
          821,
          822,
          823,
          824,
          825,
          826,
          827,
          828,
          829,
          830,
          831,
          832,
          833,
          834,
          835,
          836,
          837,
          838,
          839,
          840,
          841,
          842,
          843,
          844,
          845,
          846,
          847,
          848,
          849,
          850
         ],
         "yaxis": "y"
        },
        {
         "hovertemplate": "Exited=Exited<br>EstimatedSalary=%{x}<br>CreditScore=%{y}<extra></extra>",
         "legendgroup": "Exited",
         "marker": {
          "color": "#EF553B",
          "symbol": "circle"
         },
         "mode": "markers",
         "name": "Exited",
         "orientation": "v",
         "showlegend": true,
         "type": "scatter",
         "x": [
          145503.35,
          169621.69,
          141959.11,
          146955.71,
          100615.14,
          81537.85,
          168816.73,
          77786.37,
          138340.285,
          179540.73,
          137702.01,
          62514.65,
          17376.57,
          139994.68,
          175753.55,
          83715.66,
          160810.85,
          49161.12,
          188484.52,
          66333.56,
          null,
          null,
          null,
          77661.12,
          178587.36,
          null,
          null,
          81014.5,
          null,
          147170.70500000002,
          89017.38,
          null,
          118372.55,
          null,
          136365,
          null,
          null,
          72876.43,
          null,
          160435.51333333334,
          37688.31,
          76655.97,
          null,
          76953.24333333333,
          78945.69499999999,
          183540.22,
          148330.97,
          121664.52500000001,
          198874.52,
          null,
          null,
          null,
          78728.545,
          145831.675,
          46607.705,
          128260.86,
          115684.82500000001,
          null,
          null,
          null,
          null,
          null,
          133919.44999999998,
          154344,
          null,
          140758.07,
          185750.02,
          null,
          67313.06999999999,
          123855.355,
          56767.67,
          null,
          null,
          null,
          128098.225,
          175343.66499999998,
          105066.985,
          62256.87,
          152278.92666666667,
          null,
          null,
          null,
          85937.52,
          145177.345,
          94354.505,
          126498.825,
          114573.785,
          63100.486666666664,
          57883.314,
          67231.08666666667,
          117609.94,
          87642.235,
          177753.945,
          93737.35500000001,
          116828.51,
          168034.83,
          26612.266666666663,
          null,
          119520.44666666666,
          110327.1,
          78850.435,
          95007.96666666667,
          163365.115,
          188426.13,
          125619.5,
          65864.45,
          53820.07666666666,
          88806.18,
          97030.14000000001,
          101178.57500000001,
          81123.59,
          61901.619999999995,
          null,
          132305.93199999997,
          138321.42333333334,
          194421.12,
          125869.56666666667,
          132468.76,
          71244.59,
          77946.69750000001,
          119540.98999999999,
          69105.195,
          73473.6675,
          123799.43333333333,
          95094.196,
          134241.13142857142,
          111166.96399999999,
          120047.58333333333,
          126135.10666666664,
          91586.8,
          87436.29400000001,
          174248.52,
          125145.5325,
          112852.04166666667,
          106257.8675,
          89264.1,
          95998.8,
          118440.9475,
          116738.5157142857,
          141366.72333333336,
          119878.7075,
          135658.448,
          104188.08,
          58982.98,
          83577.776,
          79389.50333333333,
          93755.56125,
          82531.98,
          114047.225,
          152662.63333333333,
          199808.1,
          68334.53666666667,
          108005.435,
          101693.27500000001,
          99919.42571428571,
          92348.18428571428,
          82420.8325,
          144540.2175,
          70792.82333333333,
          87974.03857142858,
          102137.01833333333,
          130917.192,
          113590.94750000001,
          111231.41125,
          118483.92333333334,
          122676.435,
          132867.68333333332,
          91362.89,
          113625.47875000001,
          117379.73333333334,
          109455.515,
          33581.325,
          116890.69833333332,
          61272.85,
          151230.16,
          102359.3075,
          97222.23,
          91433.06666666667,
          87759.37625,
          133977.306,
          79855.58,
          100760.088,
          155043.782,
          85981.53,
          99686.085,
          117619.74333333333,
          111577.9,
          118477.394,
          75283.53,
          101177.08,
          118458.80727272727,
          104282.23,
          93793.8025,
          114351.435,
          104374.56,
          123567.8875,
          74592.90000000001,
          85053.70125,
          100480.10428571429,
          111708.84999999999,
          159456.998,
          49836.60999999999,
          57298.714,
          26939.4175,
          99371.95125,
          111995.70428571428,
          63293.44375,
          110091.8925,
          109738.782,
          86523.592,
          68189.46875,
          127063.43428571429,
          138591.082,
          67691.396,
          90384.41500000001,
          100660.49666666666,
          108741.818,
          108609.44727272727,
          121359.81400000001,
          141971.08125,
          100668.95999999999,
          99515.675,
          79426.06333333334,
          93198.97777777778,
          96397.55333333334,
          89739.313,
          84059.14666666667,
          116600.11,
          100580.18583333334,
          54858.015,
          119119.66625,
          110143.11875,
          80395.925,
          74973.45,
          118338.43461538461,
          91377.91625000001,
          96474.41625,
          87523.30090909092,
          81139.0088888889,
          71881.14625,
          103394.2425,
          84591.35,
          65626.2675,
          88931.23625,
          107870.07,
          108367.1425,
          95910.2757142857,
          102803.68100000001,
          84361.72,
          86237.96857142857,
          101121.9057142857,
          75386.52166666667,
          60179.6125,
          114590.45090909091,
          100051.56454545454,
          101532.969,
          120610.45857142856,
          115616.74416666669,
          105468.25,
          109872.1825,
          85297.74882352941,
          131459.95375,
          84625.98571428572,
          141971.44333333333,
          97153.72272727272,
          56159.9,
          122641.14142857143,
          129113.88,
          121526.79999999999,
          152728.14571428573,
          114537.36374999999,
          64234.583333333336,
          73449.95999999999,
          135482.38428571427,
          66998.7875,
          116354.56000000001,
          107004.64090909091,
          126080.91875000001,
          107543.3642857143,
          157465.18375,
          116677.0875,
          81857.89142857143,
          65913.03,
          99611.39333333333,
          117180.60888888889,
          85204.03333333334,
          69136.514,
          142236.74384615384,
          163006.0325,
          89455.46857142857,
          59928.6825,
          78701.89125,
          77398.40428571428,
          69109.38,
          102340.284,
          86680.50857142858,
          115953.12125,
          113516.75375,
          84620.42333333334,
          107568.7025,
          131733.7875,
          115148.124,
          74870.7775,
          109500.595,
          116623.56999999999,
          102083.12333333334,
          74239.78666666667,
          107320.63166666667,
          121980.455,
          142944.27,
          149132.5,
          63929.172,
          79502.5,
          117305.40999999999,
          96474.61375,
          121383.00272727273,
          94978.19375,
          118279.39749999999,
          70044.26,
          97530.001,
          40900.324,
          97017.6575,
          125050.79666666666,
          72241.91666666667,
          114487.39199999999,
          21698.32,
          134410.85,
          81468.52,
          70278.20999999999,
          100065.41222222222,
          101755.43000000001,
          74674.398,
          136748.06600000002,
          143154.6,
          130420.29666666668,
          119228.9725,
          110742.45153846152,
          85855.93400000001,
          81883.446,
          73655.13333333335,
          114613.00666666667,
          81393.95142857144,
          48559.19,
          115837.23333333334,
          123346.145,
          92181.50833333335,
          101185.54000000001,
          93520.70375,
          135659.51142857142,
          99403.68571428572,
          88651.3925,
          63162.595714285715,
          111981.67625,
          141746.53,
          93527.54285714286,
          81947.27333333333,
          102197.57888888888,
          105946.06999999999,
          110856.5525,
          97242.61375,
          97822.785,
          113599.32,
          103284.21111111112,
          78743.12666666666,
          95520.83666666667,
          99980.51142857144,
          49125.104,
          111928.85800000001,
          null,
          97588.2,
          86920.97,
          93061.40428571429,
          77870.515,
          124907.18000000001,
          108395.9375,
          122859.63,
          78080.2725,
          74759.03666666667,
          111543.0475,
          83935.92199999999,
          98059.32833333332,
          108042.90000000001,
          98287.40666666666,
          113763.23,
          89167.0525,
          129525.5,
          91915.395,
          126910.535,
          100028.34999999999,
          167908.83666666667,
          112767.09,
          105336.7475,
          113660.81999999999,
          null,
          100083.21500000001,
          94851.45999999999,
          20955.03,
          125872.41333333333,
          86613.385,
          86634.5075,
          128855.33,
          79437.69200000001,
          123858.28333333334,
          148494.04499999998,
          61837.27,
          91986.765,
          49418.87,
          60888.44333333333,
          63034.445,
          98640.15,
          null,
          49485.32,
          91067.17666666665,
          8546.87,
          95192.53199999999,
          85028.36,
          83237.735,
          35140.49,
          148044.56,
          null,
          79912.225,
          114694.24666666666,
          134100.05333333334,
          null,
          62024.943333333336,
          71905.77,
          84399.1075,
          192298.84,
          96605.37999999999,
          39154.37,
          126241.4,
          9149.96,
          79815.27500000001,
          87474.89,
          26342.33,
          170256.40000000002,
          null,
          83611.45,
          125568.44666666667,
          null,
          28144.07,
          127804.66,
          37522.87,
          141524.64,
          81950.34,
          37141.62,
          null,
          150659.35,
          118642.92499999999,
          36687.11,
          134378.03999999998,
          87936.77,
          null,
          110103.18333333333,
          31726.76,
          35917.055,
          80104.615,
          null,
          170130.08000000002,
          91793.33837209301
         ],
         "xaxis": "x",
         "y": [
          350,
          351,
          358,
          359,
          363,
          365,
          367,
          373,
          376,
          382,
          383,
          386,
          395,
          399,
          401,
          404,
          405,
          407,
          408,
          410,
          411,
          412,
          413,
          414,
          415,
          416,
          417,
          418,
          419,
          420,
          421,
          422,
          423,
          424,
          425,
          426,
          427,
          428,
          429,
          430,
          431,
          432,
          433,
          434,
          435,
          436,
          437,
          438,
          439,
          440,
          441,
          442,
          443,
          444,
          445,
          446,
          447,
          448,
          449,
          450,
          451,
          452,
          453,
          454,
          455,
          456,
          457,
          458,
          459,
          460,
          461,
          462,
          463,
          464,
          465,
          466,
          467,
          468,
          469,
          470,
          471,
          472,
          473,
          474,
          475,
          476,
          477,
          478,
          479,
          480,
          481,
          482,
          483,
          484,
          485,
          486,
          487,
          488,
          489,
          490,
          491,
          492,
          493,
          494,
          495,
          496,
          497,
          498,
          499,
          500,
          501,
          502,
          503,
          504,
          505,
          506,
          507,
          508,
          509,
          510,
          511,
          512,
          513,
          514,
          515,
          516,
          517,
          518,
          519,
          520,
          521,
          522,
          523,
          524,
          525,
          526,
          527,
          528,
          529,
          530,
          531,
          532,
          533,
          534,
          535,
          536,
          537,
          538,
          539,
          540,
          541,
          542,
          543,
          544,
          545,
          546,
          547,
          548,
          549,
          550,
          551,
          552,
          553,
          554,
          555,
          556,
          557,
          558,
          559,
          560,
          561,
          562,
          563,
          564,
          565,
          566,
          567,
          568,
          569,
          570,
          571,
          572,
          573,
          574,
          575,
          576,
          577,
          578,
          579,
          580,
          581,
          582,
          583,
          584,
          585,
          586,
          587,
          588,
          589,
          590,
          591,
          592,
          593,
          594,
          595,
          596,
          597,
          598,
          599,
          600,
          601,
          602,
          603,
          604,
          605,
          606,
          607,
          608,
          609,
          610,
          611,
          612,
          613,
          614,
          615,
          616,
          617,
          618,
          619,
          620,
          621,
          622,
          623,
          624,
          625,
          626,
          627,
          628,
          629,
          630,
          631,
          632,
          633,
          634,
          635,
          636,
          637,
          638,
          639,
          640,
          641,
          642,
          643,
          644,
          645,
          646,
          647,
          648,
          649,
          650,
          651,
          652,
          653,
          654,
          655,
          656,
          657,
          658,
          659,
          660,
          661,
          662,
          663,
          664,
          665,
          666,
          667,
          668,
          669,
          670,
          671,
          672,
          673,
          674,
          675,
          676,
          677,
          678,
          679,
          680,
          681,
          682,
          683,
          684,
          685,
          686,
          687,
          688,
          689,
          690,
          691,
          692,
          693,
          694,
          695,
          696,
          697,
          698,
          699,
          700,
          701,
          702,
          703,
          704,
          705,
          706,
          707,
          708,
          709,
          710,
          711,
          712,
          713,
          714,
          715,
          716,
          717,
          718,
          719,
          720,
          721,
          722,
          723,
          724,
          725,
          726,
          727,
          728,
          729,
          730,
          731,
          732,
          733,
          734,
          735,
          736,
          737,
          738,
          739,
          740,
          741,
          742,
          743,
          744,
          745,
          746,
          747,
          748,
          749,
          750,
          751,
          752,
          753,
          754,
          755,
          756,
          757,
          758,
          759,
          760,
          761,
          762,
          763,
          764,
          765,
          766,
          767,
          768,
          769,
          770,
          771,
          772,
          773,
          774,
          775,
          776,
          777,
          778,
          779,
          780,
          781,
          782,
          783,
          784,
          785,
          786,
          787,
          788,
          789,
          790,
          791,
          792,
          793,
          794,
          795,
          796,
          797,
          798,
          799,
          800,
          801,
          802,
          803,
          804,
          805,
          806,
          807,
          808,
          809,
          810,
          811,
          812,
          813,
          814,
          815,
          816,
          817,
          818,
          819,
          820,
          821,
          822,
          823,
          824,
          825,
          826,
          827,
          828,
          829,
          830,
          831,
          832,
          833,
          834,
          835,
          836,
          837,
          838,
          839,
          840,
          841,
          842,
          843,
          844,
          845,
          846,
          847,
          848,
          849,
          850
         ],
         "yaxis": "y"
        }
       ],
       "layout": {
        "height": 300,
        "legend": {
         "title": {
          "text": "Exited"
         },
         "tracegroupgap": 0
        },
        "template": {
         "data": {
          "bar": [
           {
            "error_x": {
             "color": "#2a3f5f"
            },
            "error_y": {
             "color": "#2a3f5f"
            },
            "marker": {
             "line": {
              "color": "#E5ECF6",
              "width": 0.5
             },
             "pattern": {
              "fillmode": "overlay",
              "size": 10,
              "solidity": 0.2
             }
            },
            "type": "bar"
           }
          ],
          "barpolar": [
           {
            "marker": {
             "line": {
              "color": "#E5ECF6",
              "width": 0.5
             },
             "pattern": {
              "fillmode": "overlay",
              "size": 10,
              "solidity": 0.2
             }
            },
            "type": "barpolar"
           }
          ],
          "carpet": [
           {
            "aaxis": {
             "endlinecolor": "#2a3f5f",
             "gridcolor": "white",
             "linecolor": "white",
             "minorgridcolor": "white",
             "startlinecolor": "#2a3f5f"
            },
            "baxis": {
             "endlinecolor": "#2a3f5f",
             "gridcolor": "white",
             "linecolor": "white",
             "minorgridcolor": "white",
             "startlinecolor": "#2a3f5f"
            },
            "type": "carpet"
           }
          ],
          "choropleth": [
           {
            "colorbar": {
             "outlinewidth": 0,
             "ticks": ""
            },
            "type": "choropleth"
           }
          ],
          "contour": [
           {
            "colorbar": {
             "outlinewidth": 0,
             "ticks": ""
            },
            "colorscale": [
             [
              0,
              "#0d0887"
             ],
             [
              0.1111111111111111,
              "#46039f"
             ],
             [
              0.2222222222222222,
              "#7201a8"
             ],
             [
              0.3333333333333333,
              "#9c179e"
             ],
             [
              0.4444444444444444,
              "#bd3786"
             ],
             [
              0.5555555555555556,
              "#d8576b"
             ],
             [
              0.6666666666666666,
              "#ed7953"
             ],
             [
              0.7777777777777778,
              "#fb9f3a"
             ],
             [
              0.8888888888888888,
              "#fdca26"
             ],
             [
              1,
              "#f0f921"
             ]
            ],
            "type": "contour"
           }
          ],
          "contourcarpet": [
           {
            "colorbar": {
             "outlinewidth": 0,
             "ticks": ""
            },
            "type": "contourcarpet"
           }
          ],
          "heatmap": [
           {
            "colorbar": {
             "outlinewidth": 0,
             "ticks": ""
            },
            "colorscale": [
             [
              0,
              "#0d0887"
             ],
             [
              0.1111111111111111,
              "#46039f"
             ],
             [
              0.2222222222222222,
              "#7201a8"
             ],
             [
              0.3333333333333333,
              "#9c179e"
             ],
             [
              0.4444444444444444,
              "#bd3786"
             ],
             [
              0.5555555555555556,
              "#d8576b"
             ],
             [
              0.6666666666666666,
              "#ed7953"
             ],
             [
              0.7777777777777778,
              "#fb9f3a"
             ],
             [
              0.8888888888888888,
              "#fdca26"
             ],
             [
              1,
              "#f0f921"
             ]
            ],
            "type": "heatmap"
           }
          ],
          "heatmapgl": [
           {
            "colorbar": {
             "outlinewidth": 0,
             "ticks": ""
            },
            "colorscale": [
             [
              0,
              "#0d0887"
             ],
             [
              0.1111111111111111,
              "#46039f"
             ],
             [
              0.2222222222222222,
              "#7201a8"
             ],
             [
              0.3333333333333333,
              "#9c179e"
             ],
             [
              0.4444444444444444,
              "#bd3786"
             ],
             [
              0.5555555555555556,
              "#d8576b"
             ],
             [
              0.6666666666666666,
              "#ed7953"
             ],
             [
              0.7777777777777778,
              "#fb9f3a"
             ],
             [
              0.8888888888888888,
              "#fdca26"
             ],
             [
              1,
              "#f0f921"
             ]
            ],
            "type": "heatmapgl"
           }
          ],
          "histogram": [
           {
            "marker": {
             "pattern": {
              "fillmode": "overlay",
              "size": 10,
              "solidity": 0.2
             }
            },
            "type": "histogram"
           }
          ],
          "histogram2d": [
           {
            "colorbar": {
             "outlinewidth": 0,
             "ticks": ""
            },
            "colorscale": [
             [
              0,
              "#0d0887"
             ],
             [
              0.1111111111111111,
              "#46039f"
             ],
             [
              0.2222222222222222,
              "#7201a8"
             ],
             [
              0.3333333333333333,
              "#9c179e"
             ],
             [
              0.4444444444444444,
              "#bd3786"
             ],
             [
              0.5555555555555556,
              "#d8576b"
             ],
             [
              0.6666666666666666,
              "#ed7953"
             ],
             [
              0.7777777777777778,
              "#fb9f3a"
             ],
             [
              0.8888888888888888,
              "#fdca26"
             ],
             [
              1,
              "#f0f921"
             ]
            ],
            "type": "histogram2d"
           }
          ],
          "histogram2dcontour": [
           {
            "colorbar": {
             "outlinewidth": 0,
             "ticks": ""
            },
            "colorscale": [
             [
              0,
              "#0d0887"
             ],
             [
              0.1111111111111111,
              "#46039f"
             ],
             [
              0.2222222222222222,
              "#7201a8"
             ],
             [
              0.3333333333333333,
              "#9c179e"
             ],
             [
              0.4444444444444444,
              "#bd3786"
             ],
             [
              0.5555555555555556,
              "#d8576b"
             ],
             [
              0.6666666666666666,
              "#ed7953"
             ],
             [
              0.7777777777777778,
              "#fb9f3a"
             ],
             [
              0.8888888888888888,
              "#fdca26"
             ],
             [
              1,
              "#f0f921"
             ]
            ],
            "type": "histogram2dcontour"
           }
          ],
          "mesh3d": [
           {
            "colorbar": {
             "outlinewidth": 0,
             "ticks": ""
            },
            "type": "mesh3d"
           }
          ],
          "parcoords": [
           {
            "line": {
             "colorbar": {
              "outlinewidth": 0,
              "ticks": ""
             }
            },
            "type": "parcoords"
           }
          ],
          "pie": [
           {
            "automargin": true,
            "type": "pie"
           }
          ],
          "scatter": [
           {
            "fillpattern": {
             "fillmode": "overlay",
             "size": 10,
             "solidity": 0.2
            },
            "type": "scatter"
           }
          ],
          "scatter3d": [
           {
            "line": {
             "colorbar": {
              "outlinewidth": 0,
              "ticks": ""
             }
            },
            "marker": {
             "colorbar": {
              "outlinewidth": 0,
              "ticks": ""
             }
            },
            "type": "scatter3d"
           }
          ],
          "scattercarpet": [
           {
            "marker": {
             "colorbar": {
              "outlinewidth": 0,
              "ticks": ""
             }
            },
            "type": "scattercarpet"
           }
          ],
          "scattergeo": [
           {
            "marker": {
             "colorbar": {
              "outlinewidth": 0,
              "ticks": ""
             }
            },
            "type": "scattergeo"
           }
          ],
          "scattergl": [
           {
            "marker": {
             "colorbar": {
              "outlinewidth": 0,
              "ticks": ""
             }
            },
            "type": "scattergl"
           }
          ],
          "scattermapbox": [
           {
            "marker": {
             "colorbar": {
              "outlinewidth": 0,
              "ticks": ""
             }
            },
            "type": "scattermapbox"
           }
          ],
          "scatterpolar": [
           {
            "marker": {
             "colorbar": {
              "outlinewidth": 0,
              "ticks": ""
             }
            },
            "type": "scatterpolar"
           }
          ],
          "scatterpolargl": [
           {
            "marker": {
             "colorbar": {
              "outlinewidth": 0,
              "ticks": ""
             }
            },
            "type": "scatterpolargl"
           }
          ],
          "scatterternary": [
           {
            "marker": {
             "colorbar": {
              "outlinewidth": 0,
              "ticks": ""
             }
            },
            "type": "scatterternary"
           }
          ],
          "surface": [
           {
            "colorbar": {
             "outlinewidth": 0,
             "ticks": ""
            },
            "colorscale": [
             [
              0,
              "#0d0887"
             ],
             [
              0.1111111111111111,
              "#46039f"
             ],
             [
              0.2222222222222222,
              "#7201a8"
             ],
             [
              0.3333333333333333,
              "#9c179e"
             ],
             [
              0.4444444444444444,
              "#bd3786"
             ],
             [
              0.5555555555555556,
              "#d8576b"
             ],
             [
              0.6666666666666666,
              "#ed7953"
             ],
             [
              0.7777777777777778,
              "#fb9f3a"
             ],
             [
              0.8888888888888888,
              "#fdca26"
             ],
             [
              1,
              "#f0f921"
             ]
            ],
            "type": "surface"
           }
          ],
          "table": [
           {
            "cells": {
             "fill": {
              "color": "#EBF0F8"
             },
             "line": {
              "color": "white"
             }
            },
            "header": {
             "fill": {
              "color": "#C8D4E3"
             },
             "line": {
              "color": "white"
             }
            },
            "type": "table"
           }
          ]
         },
         "layout": {
          "annotationdefaults": {
           "arrowcolor": "#2a3f5f",
           "arrowhead": 0,
           "arrowwidth": 1
          },
          "autotypenumbers": "strict",
          "coloraxis": {
           "colorbar": {
            "outlinewidth": 0,
            "ticks": ""
           }
          },
          "colorscale": {
           "diverging": [
            [
             0,
             "#8e0152"
            ],
            [
             0.1,
             "#c51b7d"
            ],
            [
             0.2,
             "#de77ae"
            ],
            [
             0.3,
             "#f1b6da"
            ],
            [
             0.4,
             "#fde0ef"
            ],
            [
             0.5,
             "#f7f7f7"
            ],
            [
             0.6,
             "#e6f5d0"
            ],
            [
             0.7,
             "#b8e186"
            ],
            [
             0.8,
             "#7fbc41"
            ],
            [
             0.9,
             "#4d9221"
            ],
            [
             1,
             "#276419"
            ]
           ],
           "sequential": [
            [
             0,
             "#0d0887"
            ],
            [
             0.1111111111111111,
             "#46039f"
            ],
            [
             0.2222222222222222,
             "#7201a8"
            ],
            [
             0.3333333333333333,
             "#9c179e"
            ],
            [
             0.4444444444444444,
             "#bd3786"
            ],
            [
             0.5555555555555556,
             "#d8576b"
            ],
            [
             0.6666666666666666,
             "#ed7953"
            ],
            [
             0.7777777777777778,
             "#fb9f3a"
            ],
            [
             0.8888888888888888,
             "#fdca26"
            ],
            [
             1,
             "#f0f921"
            ]
           ],
           "sequentialminus": [
            [
             0,
             "#0d0887"
            ],
            [
             0.1111111111111111,
             "#46039f"
            ],
            [
             0.2222222222222222,
             "#7201a8"
            ],
            [
             0.3333333333333333,
             "#9c179e"
            ],
            [
             0.4444444444444444,
             "#bd3786"
            ],
            [
             0.5555555555555556,
             "#d8576b"
            ],
            [
             0.6666666666666666,
             "#ed7953"
            ],
            [
             0.7777777777777778,
             "#fb9f3a"
            ],
            [
             0.8888888888888888,
             "#fdca26"
            ],
            [
             1,
             "#f0f921"
            ]
           ]
          },
          "colorway": [
           "#636efa",
           "#EF553B",
           "#00cc96",
           "#ab63fa",
           "#FFA15A",
           "#19d3f3",
           "#FF6692",
           "#B6E880",
           "#FF97FF",
           "#FECB52"
          ],
          "font": {
           "color": "#2a3f5f"
          },
          "geo": {
           "bgcolor": "white",
           "lakecolor": "white",
           "landcolor": "#E5ECF6",
           "showlakes": true,
           "showland": true,
           "subunitcolor": "white"
          },
          "hoverlabel": {
           "align": "left"
          },
          "hovermode": "closest",
          "mapbox": {
           "style": "light"
          },
          "paper_bgcolor": "white",
          "plot_bgcolor": "#E5ECF6",
          "polar": {
           "angularaxis": {
            "gridcolor": "white",
            "linecolor": "white",
            "ticks": ""
           },
           "bgcolor": "#E5ECF6",
           "radialaxis": {
            "gridcolor": "white",
            "linecolor": "white",
            "ticks": ""
           }
          },
          "scene": {
           "xaxis": {
            "backgroundcolor": "#E5ECF6",
            "gridcolor": "white",
            "gridwidth": 2,
            "linecolor": "white",
            "showbackground": true,
            "ticks": "",
            "zerolinecolor": "white"
           },
           "yaxis": {
            "backgroundcolor": "#E5ECF6",
            "gridcolor": "white",
            "gridwidth": 2,
            "linecolor": "white",
            "showbackground": true,
            "ticks": "",
            "zerolinecolor": "white"
           },
           "zaxis": {
            "backgroundcolor": "#E5ECF6",
            "gridcolor": "white",
            "gridwidth": 2,
            "linecolor": "white",
            "showbackground": true,
            "ticks": "",
            "zerolinecolor": "white"
           }
          },
          "shapedefaults": {
           "line": {
            "color": "#2a3f5f"
           }
          },
          "ternary": {
           "aaxis": {
            "gridcolor": "white",
            "linecolor": "white",
            "ticks": ""
           },
           "baxis": {
            "gridcolor": "white",
            "linecolor": "white",
            "ticks": ""
           },
           "bgcolor": "#E5ECF6",
           "caxis": {
            "gridcolor": "white",
            "linecolor": "white",
            "ticks": ""
           }
          },
          "title": {
           "x": 0.05
          },
          "xaxis": {
           "automargin": true,
           "gridcolor": "white",
           "linecolor": "white",
           "ticks": "",
           "title": {
            "standoff": 15
           },
           "zerolinecolor": "white",
           "zerolinewidth": 2
          },
          "yaxis": {
           "automargin": true,
           "gridcolor": "white",
           "linecolor": "white",
           "ticks": "",
           "title": {
            "standoff": 15
           },
           "zerolinecolor": "white",
           "zerolinewidth": 2
          }
         }
        },
        "title": {
         "text": "Зависимость крединого рейтинга от предполагаемой заработной платы"
        },
        "width": 700,
        "xaxis": {
         "anchor": "y",
         "domain": [
          0,
          1
         ],
         "title": {
          "text": "EstimatedSalary"
         }
        },
        "yaxis": {
         "anchor": "x",
         "domain": [
          0,
          1
         ],
         "title": {
          "text": "CreditScore"
         }
        }
       }
      }
     },
     "metadata": {},
     "output_type": "display_data"
    }
   ],
   "source": [
    "import pandas as pd\n",
    "churn_data = pd.read_csv('data/churn.csv')\n",
    "\n",
    "churn_data = churn_data.drop(['RowNumber'], axis=1)\n",
    "\n",
    "import plotly.express as px\n",
    "\n",
    "churn_data['Exited'] = churn_data['Exited'].astype('category')\n",
    "churn_data['Exited'] = churn_data['Exited'].cat.rename_categories({\n",
    "    1 : 'Exited',\n",
    "    0 : 'Loyal'\n",
    "})\n",
    "\n",
    "churn_data_sal_cred = churn_data.groupby(['CreditScore', 'Exited'], as_index=False)['EstimatedSalary'].mean()\n",
    "\n",
    "fig = px.scatter(\n",
    "    data_frame=churn_data_sal_cred,\n",
    "    x = 'EstimatedSalary',\n",
    "    y = 'CreditScore',\n",
    "    color='Exited',\n",
    "    width=700,\n",
    "    height=300,\n",
    "    title='Зависимость крединого рейтинга от предполагаемой заработной платы',\n",
    ")\n",
    "\n",
    "fig.show()\n"
   ]
  },
  {
   "cell_type": "markdown",
   "metadata": {},
   "source": [
    "*Вывод:* по графику без группировки не видно взаимосвязи рейтинга и зарплаты.<br>\n",
    "Группировка по рейтингу и средняя заработная плата дают возможность увидеть, что у лояльных клиентов разброс средних заработных плат не такой сильных, как у ушедших. Так же видно, что среди ушедших клиентов много клиентов с большой зароботной платой, но маленьким кредитным рейтингом.\n",
    "\n",
    "**Можно отметить, что только у ушедших клиентов есть рейтинг ниже 400.**"
   ]
  },
  {
   "cell_type": "markdown",
   "metadata": {},
   "source": [
    "*9.6. Кто чаще уходит, мужчины или женщины?*"
   ]
  },
  {
   "cell_type": "code",
   "execution_count": 114,
   "metadata": {},
   "outputs": [
    {
     "data": {
      "image/png": "[encoded data removed]",
      "text/plain": [
       "<Figure size 640x480 with 1 Axes>"
      ]
     },
     "metadata": {},
     "output_type": "display_data"
    }
   ],
   "source": [
    "import pandas as pd\n",
    "churn_data = pd.read_csv('data/churn.csv')\n",
    "\n",
    "churn_data = churn_data.drop(['RowNumber'], axis=1)\n",
    "\n",
    "import seaborn as sns\n",
    "\n",
    "churn_data_gender = churn_data.groupby(['Gender'], as_index=False)['Exited'].mean()\n",
    "\n",
    "barplot = sns.barplot(\n",
    "    data=churn_data_gender,\n",
    "    x='Gender',\n",
    "    y='Exited',\n",
    "    orient='v',\n",
    ")\n",
    "barplot.set_title('Соотношение мужчин и женщин среди ушедших клиентов', fontsize=16);\n",
    "barplot.set_ylabel('Доля ушедших клиентов', fontsize=14);\n",
    "barplot.set_xlabel('Гендерный признак', fontsize=14);\n",
    "\n",
    "\n",
    "#Возможный код:\n",
    "gone = data[data['Exited'] == 'Ушедший']\n",
    "fig, axes = plt.subplots(figsize=(9, 9))\n",
    "axes.pie(\n",
    "gone['Gender'].value_counts(), # берем данные об ушедших клиентах\n",
    "labels=['Женщины', 'Мужчины'],\n",
    "autopct='%.1f%%', #округление до первого знака после запятой\n",
    "explode=[0.1, 0] #доля смещения от центра\n",
    ")"
   ]
  },
  {
   "cell_type": "markdown",
   "metadata": {},
   "source": [
    "*Вывод:* чаще уходят женщины.\n",
    "\n",
    "**Можно было взять всех ушедших клиентов и посмотреть долю мужчин и женщин от всего 100% ушедших клиентов.**\n"
   ]
  },
  {
   "cell_type": "markdown",
   "metadata": {},
   "source": [
    "*9.7. Как отток клиентов зависит от числа приобретённых у банка услуг?*"
   ]
  },
  {
   "cell_type": "code",
   "execution_count": 115,
   "metadata": {},
   "outputs": [
    {
     "data": {
      "image/png": "[encoded data removed]",
      "text/plain": [
       "<Figure size 640x480 with 1 Axes>"
      ]
     },
     "metadata": {},
     "output_type": "display_data"
    }
   ],
   "source": [
    "import pandas as pd\n",
    "churn_data = pd.read_csv('data/churn.csv')\n",
    "\n",
    "churn_data = churn_data.drop(['RowNumber'], axis=1)\n",
    "\n",
    "import seaborn as sns\n",
    "import matplotlib.pyplot as plt\n",
    "\n",
    "churn_data['Exited'] = churn_data['Exited'].astype('category')\n",
    "churn_data['Exited'] = churn_data['Exited'].cat.rename_categories({\n",
    "    1 : 'Exited',\n",
    "    0 : 'Loyal'\n",
    "})\n",
    "\n",
    "grouped_row = churn_data.groupby(['NumOfProducts', 'Exited'], as_index=False)['CustomerId'].count()\n",
    "\n",
    "barplot = sns.barplot(\n",
    "    data=grouped_row,\n",
    "    x='NumOfProducts',\n",
    "    y='CustomerId',\n",
    "    hue='Exited',\n",
    "    orient='v'\n",
    ")\n",
    "barplot.set_xlabel('Услуги банка', fontsize=14);\n",
    "barplot.set_ylabel('Количество клиентов', fontsize=14);\n",
    "\n",
    "\n",
    "#pivot=churn_data.pivot_table(\n",
    "#'CustomerId',\n",
    "#index='Exited',\n",
    "#columns='NumOfProducts',\n",
    "#aggfunc='count')\n",
    "\n",
    "#pivot=pivot.fillna(0)"
   ]
  },
  {
   "cell_type": "markdown",
   "metadata": {},
   "source": [
    "*Выводы:* Почти все лояльные клиенты пользуются улугами 1 и 2, по этим категориям ушедших в категории 1 меньше половины, а в категории 2 только 12,5 %.\n",
    "Интересная картина у 3 и 4 категорий услуг. В услугах 3: ушедших клиентов значитально больше, чем лояльных.\n",
    "А 4ой категорией услуг лояльные клиенты не пользуются вообще, в данной категории только ушедшие клиенты.\n",
    "Соответственно, стоит обратить внимание на услуги 3 и 4. А так же на удержание клиентов в категории услуг 1."
   ]
  },
  {
   "cell_type": "markdown",
   "metadata": {},
   "source": [
    "*9.8. Как влияет наличие статуса активного клиента на отток клиентов?<br>*\n",
    "*Что бы вы предложили банку, чтобы уменьшить отток клиентов среди неактивных?*"
   ]
  },
  {
   "cell_type": "code",
   "execution_count": 116,
   "metadata": {},
   "outputs": [
    {
     "data": {
      "image/png": "[encoded data removed]",
      "text/plain": [
       "<Figure size 640x480 with 1 Axes>"
      ]
     },
     "metadata": {},
     "output_type": "display_data"
    }
   ],
   "source": [
    "import pandas as pd\n",
    "churn_data = pd.read_csv('data/churn.csv')\n",
    "\n",
    "churn_data = churn_data.drop(['RowNumber'], axis=1)\n",
    "\n",
    "import seaborn as sns\n",
    "import matplotlib.pyplot as plt\n",
    "\n",
    "churn_data['Exited'] = churn_data['Exited'].astype('category')\n",
    "churn_data['Exited'] = churn_data['Exited'].cat.rename_categories({\n",
    "    1 : 'Exited',\n",
    "    0 : 'Loyal'\n",
    "})\n",
    "\n",
    "churn_data['IsActiveMember'] = churn_data['IsActiveMember'].astype('category')\n",
    "churn_data['IsActiveMember'] = churn_data['IsActiveMember'].cat.rename_categories({\n",
    "    1 : 'Active',\n",
    "    0 : 'Inactive'\n",
    "})\n",
    "\n",
    "grouped_row = churn_data.groupby(['IsActiveMember', 'Exited'], as_index=False)['CustomerId'].count()\n",
    "\n",
    "barplot = sns.barplot(\n",
    "    data=grouped_row,\n",
    "    x='IsActiveMember',\n",
    "    y='CustomerId',\n",
    "    hue='Exited',\n",
    "    orient='v'\n",
    ")\n",
    "barplot.set_xlabel('Есть ли статус активного клиента', fontsize=14);\n",
    "barplot.set_ylabel('Количество клиентов', fontsize=14);"
   ]
  },
  {
   "cell_type": "markdown",
   "metadata": {},
   "source": [
    "*Выводы:* по графику видно, что наличие статуса активного клиента уменьшает отток клиентов. Соотношение клиентов без статуса активный: ушедших клиентов примерно 30%, а у клиентов со статусом активный ушедших примерно 20%.\n",
    "Можно посоветовать для неативных клиентов повышать их активность: проводить льготные программы, повышать ставки по депозитам, увеличивать процент кэшбека и т.д. "
   ]
  },
  {
   "cell_type": "markdown",
   "metadata": {},
   "source": [
    "*9.9. В какой стране доля ушедших клиентов больше?*"
   ]
  },
  {
   "cell_type": "code",
   "execution_count": 117,
   "metadata": {},
   "outputs": [
    {
     "data": {
      "application/vnd.plotly.v1+json": {
       "config": {
        "plotlyServerURL": "https://plot.ly"
       },
       "data": [
        {
         "coloraxis": "coloraxis",
         "geo": "geo",
         "hovertemplate": "Geography=%{location}<br>Exited=%{z}<extra></extra>",
         "locationmode": "country names",
         "locations": [
          "France",
          "Germany",
          "Spain"
         ],
         "name": "",
         "type": "choropleth",
         "z": [
          0.16154766653370561,
          0.32443204463929853,
          0.1667339523617279
         ]
        }
       ],
       "layout": {
        "coloraxis": {
         "cmax": 0.4,
         "cmin": 0,
         "colorbar": {
          "title": {
           "text": "Exited"
          }
         },
         "colorscale": [
          [
           0,
           "rgb(255,245,240)"
          ],
          [
           0.125,
           "rgb(254,224,210)"
          ],
          [
           0.25,
           "rgb(252,187,161)"
          ],
          [
           0.375,
           "rgb(252,146,114)"
          ],
          [
           0.5,
           "rgb(251,106,74)"
          ],
          [
           0.625,
           "rgb(239,59,44)"
          ],
          [
           0.75,
           "rgb(203,24,29)"
          ],
          [
           0.875,
           "rgb(165,15,21)"
          ],
          [
           1,
           "rgb(103,0,13)"
          ]
         ]
        },
        "geo": {
         "center": {},
         "domain": {
          "x": [
           0,
           1
          ],
          "y": [
           0,
           1
          ]
         }
        },
        "height": 500,
        "legend": {
         "tracegroupgap": 0
        },
        "template": {
         "data": {
          "bar": [
           {
            "error_x": {
             "color": "#2a3f5f"
            },
            "error_y": {
             "color": "#2a3f5f"
            },
            "marker": {
             "line": {
              "color": "#E5ECF6",
              "width": 0.5
             },
             "pattern": {
              "fillmode": "overlay",
              "size": 10,
              "solidity": 0.2
             }
            },
            "type": "bar"
           }
          ],
          "barpolar": [
           {
            "marker": {
             "line": {
              "color": "#E5ECF6",
              "width": 0.5
             },
             "pattern": {
              "fillmode": "overlay",
              "size": 10,
              "solidity": 0.2
             }
            },
            "type": "barpolar"
           }
          ],
          "carpet": [
           {
            "aaxis": {
             "endlinecolor": "#2a3f5f",
             "gridcolor": "white",
             "linecolor": "white",
             "minorgridcolor": "white",
             "startlinecolor": "#2a3f5f"
            },
            "baxis": {
             "endlinecolor": "#2a3f5f",
             "gridcolor": "white",
             "linecolor": "white",
             "minorgridcolor": "white",
             "startlinecolor": "#2a3f5f"
            },
            "type": "carpet"
           }
          ],
          "choropleth": [
           {
            "colorbar": {
             "outlinewidth": 0,
             "ticks": ""
            },
            "type": "choropleth"
           }
          ],
          "contour": [
           {
            "colorbar": {
             "outlinewidth": 0,
             "ticks": ""
            },
            "colorscale": [
             [
              0,
              "#0d0887"
             ],
             [
              0.1111111111111111,
              "#46039f"
             ],
             [
              0.2222222222222222,
              "#7201a8"
             ],
             [
              0.3333333333333333,
              "#9c179e"
             ],
             [
              0.4444444444444444,
              "#bd3786"
             ],
             [
              0.5555555555555556,
              "#d8576b"
             ],
             [
              0.6666666666666666,
              "#ed7953"
             ],
             [
              0.7777777777777778,
              "#fb9f3a"
             ],
             [
              0.8888888888888888,
              "#fdca26"
             ],
             [
              1,
              "#f0f921"
             ]
            ],
            "type": "contour"
           }
          ],
          "contourcarpet": [
           {
            "colorbar": {
             "outlinewidth": 0,
             "ticks": ""
            },
            "type": "contourcarpet"
           }
          ],
          "heatmap": [
           {
            "colorbar": {
             "outlinewidth": 0,
             "ticks": ""
            },
            "colorscale": [
             [
              0,
              "#0d0887"
             ],
             [
              0.1111111111111111,
              "#46039f"
             ],
             [
              0.2222222222222222,
              "#7201a8"
             ],
             [
              0.3333333333333333,
              "#9c179e"
             ],
             [
              0.4444444444444444,
              "#bd3786"
             ],
             [
              0.5555555555555556,
              "#d8576b"
             ],
             [
              0.6666666666666666,
              "#ed7953"
             ],
             [
              0.7777777777777778,
              "#fb9f3a"
             ],
             [
              0.8888888888888888,
              "#fdca26"
             ],
             [
              1,
              "#f0f921"
             ]
            ],
            "type": "heatmap"
           }
          ],
          "heatmapgl": [
           {
            "colorbar": {
             "outlinewidth": 0,
             "ticks": ""
            },
            "colorscale": [
             [
              0,
              "#0d0887"
             ],
             [
              0.1111111111111111,
              "#46039f"
             ],
             [
              0.2222222222222222,
              "#7201a8"
             ],
             [
              0.3333333333333333,
              "#9c179e"
             ],
             [
              0.4444444444444444,
              "#bd3786"
             ],
             [
              0.5555555555555556,
              "#d8576b"
             ],
             [
              0.6666666666666666,
              "#ed7953"
             ],
             [
              0.7777777777777778,
              "#fb9f3a"
             ],
             [
              0.8888888888888888,
              "#fdca26"
             ],
             [
              1,
              "#f0f921"
             ]
            ],
            "type": "heatmapgl"
           }
          ],
          "histogram": [
           {
            "marker": {
             "pattern": {
              "fillmode": "overlay",
              "size": 10,
              "solidity": 0.2
             }
            },
            "type": "histogram"
           }
          ],
          "histogram2d": [
           {
            "colorbar": {
             "outlinewidth": 0,
             "ticks": ""
            },
            "colorscale": [
             [
              0,
              "#0d0887"
             ],
             [
              0.1111111111111111,
              "#46039f"
             ],
             [
              0.2222222222222222,
              "#7201a8"
             ],
             [
              0.3333333333333333,
              "#9c179e"
             ],
             [
              0.4444444444444444,
              "#bd3786"
             ],
             [
              0.5555555555555556,
              "#d8576b"
             ],
             [
              0.6666666666666666,
              "#ed7953"
             ],
             [
              0.7777777777777778,
              "#fb9f3a"
             ],
             [
              0.8888888888888888,
              "#fdca26"
             ],
             [
              1,
              "#f0f921"
             ]
            ],
            "type": "histogram2d"
           }
          ],
          "histogram2dcontour": [
           {
            "colorbar": {
             "outlinewidth": 0,
             "ticks": ""
            },
            "colorscale": [
             [
              0,
              "#0d0887"
             ],
             [
              0.1111111111111111,
              "#46039f"
             ],
             [
              0.2222222222222222,
              "#7201a8"
             ],
             [
              0.3333333333333333,
              "#9c179e"
             ],
             [
              0.4444444444444444,
              "#bd3786"
             ],
             [
              0.5555555555555556,
              "#d8576b"
             ],
             [
              0.6666666666666666,
              "#ed7953"
             ],
             [
              0.7777777777777778,
              "#fb9f3a"
             ],
             [
              0.8888888888888888,
              "#fdca26"
             ],
             [
              1,
              "#f0f921"
             ]
            ],
            "type": "histogram2dcontour"
           }
          ],
          "mesh3d": [
           {
            "colorbar": {
             "outlinewidth": 0,
             "ticks": ""
            },
            "type": "mesh3d"
           }
          ],
          "parcoords": [
           {
            "line": {
             "colorbar": {
              "outlinewidth": 0,
              "ticks": ""
             }
            },
            "type": "parcoords"
           }
          ],
          "pie": [
           {
            "automargin": true,
            "type": "pie"
           }
          ],
          "scatter": [
           {
            "fillpattern": {
             "fillmode": "overlay",
             "size": 10,
             "solidity": 0.2
            },
            "type": "scatter"
           }
          ],
          "scatter3d": [
           {
            "line": {
             "colorbar": {
              "outlinewidth": 0,
              "ticks": ""
             }
            },
            "marker": {
             "colorbar": {
              "outlinewidth": 0,
              "ticks": ""
             }
            },
            "type": "scatter3d"
           }
          ],
          "scattercarpet": [
           {
            "marker": {
             "colorbar": {
              "outlinewidth": 0,
              "ticks": ""
             }
            },
            "type": "scattercarpet"
           }
          ],
          "scattergeo": [
           {
            "marker": {
             "colorbar": {
              "outlinewidth": 0,
              "ticks": ""
             }
            },
            "type": "scattergeo"
           }
          ],
          "scattergl": [
           {
            "marker": {
             "colorbar": {
              "outlinewidth": 0,
              "ticks": ""
             }
            },
            "type": "scattergl"
           }
          ],
          "scattermapbox": [
           {
            "marker": {
             "colorbar": {
              "outlinewidth": 0,
              "ticks": ""
             }
            },
            "type": "scattermapbox"
           }
          ],
          "scatterpolar": [
           {
            "marker": {
             "colorbar": {
              "outlinewidth": 0,
              "ticks": ""
             }
            },
            "type": "scatterpolar"
           }
          ],
          "scatterpolargl": [
           {
            "marker": {
             "colorbar": {
              "outlinewidth": 0,
              "ticks": ""
             }
            },
            "type": "scatterpolargl"
           }
          ],
          "scatterternary": [
           {
            "marker": {
             "colorbar": {
              "outlinewidth": 0,
              "ticks": ""
             }
            },
            "type": "scatterternary"
           }
          ],
          "surface": [
           {
            "colorbar": {
             "outlinewidth": 0,
             "ticks": ""
            },
            "colorscale": [
             [
              0,
              "#0d0887"
             ],
             [
              0.1111111111111111,
              "#46039f"
             ],
             [
              0.2222222222222222,
              "#7201a8"
             ],
             [
              0.3333333333333333,
              "#9c179e"
             ],
             [
              0.4444444444444444,
              "#bd3786"
             ],
             [
              0.5555555555555556,
              "#d8576b"
             ],
             [
              0.6666666666666666,
              "#ed7953"
             ],
             [
              0.7777777777777778,
              "#fb9f3a"
             ],
             [
              0.8888888888888888,
              "#fdca26"
             ],
             [
              1,
              "#f0f921"
             ]
            ],
            "type": "surface"
           }
          ],
          "table": [
           {
            "cells": {
             "fill": {
              "color": "#EBF0F8"
             },
             "line": {
              "color": "white"
             }
            },
            "header": {
             "fill": {
              "color": "#C8D4E3"
             },
             "line": {
              "color": "white"
             }
            },
            "type": "table"
           }
          ]
         },
         "layout": {
          "annotationdefaults": {
           "arrowcolor": "#2a3f5f",
           "arrowhead": 0,
           "arrowwidth": 1
          },
          "autotypenumbers": "strict",
          "coloraxis": {
           "colorbar": {
            "outlinewidth": 0,
            "ticks": ""
           }
          },
          "colorscale": {
           "diverging": [
            [
             0,
             "#8e0152"
            ],
            [
             0.1,
             "#c51b7d"
            ],
            [
             0.2,
             "#de77ae"
            ],
            [
             0.3,
             "#f1b6da"
            ],
            [
             0.4,
             "#fde0ef"
            ],
            [
             0.5,
             "#f7f7f7"
            ],
            [
             0.6,
             "#e6f5d0"
            ],
            [
             0.7,
             "#b8e186"
            ],
            [
             0.8,
             "#7fbc41"
            ],
            [
             0.9,
             "#4d9221"
            ],
            [
             1,
             "#276419"
            ]
           ],
           "sequential": [
            [
             0,
             "#0d0887"
            ],
            [
             0.1111111111111111,
             "#46039f"
            ],
            [
             0.2222222222222222,
             "#7201a8"
            ],
            [
             0.3333333333333333,
             "#9c179e"
            ],
            [
             0.4444444444444444,
             "#bd3786"
            ],
            [
             0.5555555555555556,
             "#d8576b"
            ],
            [
             0.6666666666666666,
             "#ed7953"
            ],
            [
             0.7777777777777778,
             "#fb9f3a"
            ],
            [
             0.8888888888888888,
             "#fdca26"
            ],
            [
             1,
             "#f0f921"
            ]
           ],
           "sequentialminus": [
            [
             0,
             "#0d0887"
            ],
            [
             0.1111111111111111,
             "#46039f"
            ],
            [
             0.2222222222222222,
             "#7201a8"
            ],
            [
             0.3333333333333333,
             "#9c179e"
            ],
            [
             0.4444444444444444,
             "#bd3786"
            ],
            [
             0.5555555555555556,
             "#d8576b"
            ],
            [
             0.6666666666666666,
             "#ed7953"
            ],
            [
             0.7777777777777778,
             "#fb9f3a"
            ],
            [
             0.8888888888888888,
             "#fdca26"
            ],
            [
             1,
             "#f0f921"
            ]
           ]
          },
          "colorway": [
           "#636efa",
           "#EF553B",
           "#00cc96",
           "#ab63fa",
           "#FFA15A",
           "#19d3f3",
           "#FF6692",
           "#B6E880",
           "#FF97FF",
           "#FECB52"
          ],
          "font": {
           "color": "#2a3f5f"
          },
          "geo": {
           "bgcolor": "white",
           "lakecolor": "white",
           "landcolor": "#E5ECF6",
           "showlakes": true,
           "showland": true,
           "subunitcolor": "white"
          },
          "hoverlabel": {
           "align": "left"
          },
          "hovermode": "closest",
          "mapbox": {
           "style": "light"
          },
          "paper_bgcolor": "white",
          "plot_bgcolor": "#E5ECF6",
          "polar": {
           "angularaxis": {
            "gridcolor": "white",
            "linecolor": "white",
            "ticks": ""
           },
           "bgcolor": "#E5ECF6",
           "radialaxis": {
            "gridcolor": "white",
            "linecolor": "white",
            "ticks": ""
           }
          },
          "scene": {
           "xaxis": {
            "backgroundcolor": "#E5ECF6",
            "gridcolor": "white",
            "gridwidth": 2,
            "linecolor": "white",
            "showbackground": true,
            "ticks": "",
            "zerolinecolor": "white"
           },
           "yaxis": {
            "backgroundcolor": "#E5ECF6",
            "gridcolor": "white",
            "gridwidth": 2,
            "linecolor": "white",
            "showbackground": true,
            "ticks": "",
            "zerolinecolor": "white"
           },
           "zaxis": {
            "backgroundcolor": "#E5ECF6",
            "gridcolor": "white",
            "gridwidth": 2,
            "linecolor": "white",
            "showbackground": true,
            "ticks": "",
            "zerolinecolor": "white"
           }
          },
          "shapedefaults": {
           "line": {
            "color": "#2a3f5f"
           }
          },
          "ternary": {
           "aaxis": {
            "gridcolor": "white",
            "linecolor": "white",
            "ticks": ""
           },
           "baxis": {
            "gridcolor": "white",
            "linecolor": "white",
            "ticks": ""
           },
           "bgcolor": "#E5ECF6",
           "caxis": {
            "gridcolor": "white",
            "linecolor": "white",
            "ticks": ""
           }
          },
          "title": {
           "x": 0.05
          },
          "xaxis": {
           "automargin": true,
           "gridcolor": "white",
           "linecolor": "white",
           "ticks": "",
           "title": {
            "standoff": 15
           },
           "zerolinecolor": "white",
           "zerolinewidth": 2
          },
          "yaxis": {
           "automargin": true,
           "gridcolor": "white",
           "linecolor": "white",
           "ticks": "",
           "title": {
            "standoff": 15
           },
           "zerolinecolor": "white",
           "zerolinewidth": 2
          }
         }
        },
        "title": {
         "text": "Средний отток клиентов по странам"
        },
        "width": 800
       }
      }
     },
     "metadata": {},
     "output_type": "display_data"
    }
   ],
   "source": [
    "import pandas as pd\n",
    "churn_data = pd.read_csv('data/churn.csv')\n",
    "\n",
    "churn_data = churn_data.drop(['RowNumber'], axis=1)\n",
    "\n",
    "import plotly.express as px\n",
    "\n",
    "churn_data_geo = churn_data.groupby('Geography', as_index=False)['Exited'].mean()\n",
    "\n",
    "fig = px.choropleth(\n",
    "    data_frame=churn_data_geo,\n",
    "    locations=\"Geography\",\n",
    "    locationmode = \"country names\",\n",
    "    color=\"Exited\",\n",
    "    range_color=[0, 0.4],\n",
    "    title='Средний отток клиентов по странам',\n",
    "    width=800, #ширина\n",
    "    height=500, #высота\n",
    "    color_continuous_scale='Reds'\n",
    ")\n",
    "\n",
    "fig.show()"
   ]
  },
  {
   "cell_type": "markdown",
   "metadata": {},
   "source": [
    "*Вывод:* По графику видно, что в Германии отток клиентов выше в 2 раза, а в Испании и Франции отток клиентов примерно одинаковый. Возможно это связано с большим количеством разнообразных банков в Германии, что дает большие возможности выбора пользователям банков."
   ]
  },
  {
   "cell_type": "markdown",
   "metadata": {},
   "source": [
    "*9.10. Тепловая карта с аннотацией. Найдите на тепловой карте категории клиентов, которые уходят чаще всего.*"
   ]
  },
  {
   "cell_type": "code",
   "execution_count": 118,
   "metadata": {},
   "outputs": [
    {
     "data": {
      "image/png": "[encoded data removed]",
      "text/plain": [
       "<Figure size 640x480 with 2 Axes>"
      ]
     },
     "metadata": {},
     "output_type": "display_data"
    }
   ],
   "source": [
    "import pandas as pd\n",
    "churn_data = pd.read_csv('data/churn.csv')\n",
    "\n",
    "churn_data = churn_data.drop(['RowNumber'], axis=1)\n",
    "\n",
    "import matplotlib.pyplot as plt\n",
    "import seaborn as sns\n",
    "\n",
    "def get_credit_score_cat(credit_score):\n",
    "    if credit_score >= 300 and credit_score < 500:\n",
    "        return \"Very_Poor\"\n",
    "    elif credit_score >= 500 and credit_score < 601:\n",
    "        return \"Poor\"\n",
    "    elif credit_score >= 601 and credit_score < 661:\n",
    "        return \"Fair\"\n",
    "    elif credit_score >= 661 and credit_score < 781:\n",
    "        return \"Good\"\n",
    "    elif credit_score >= 781 and credit_score < 851:\n",
    "        return \"Excellent\"\n",
    "    elif credit_score >= 851:\n",
    "        return \"Top\"\n",
    "    elif credit_score < 300:\n",
    "        return \"Deep\"\n",
    "\n",
    "churn_data['CreditScoreCat'] = churn_data['CreditScore'].apply(get_credit_score_cat)\n",
    "\n",
    "pivot1=churn_data.pivot_table(\n",
    "values='Exited',\n",
    "index='CreditScoreCat',\n",
    "columns='Tenure',\n",
    "aggfunc='mean')\n",
    "\n",
    "fig = plt.figure()\n",
    "ax = sns.heatmap(data=pivot1, annot=True, cmap='OrRd');\n",
    "ax.set_title('Зависимость оттока клиентов от кредитного рейтинга и числа лет сотрудничества');"
   ]
  },
  {
   "cell_type": "markdown",
   "metadata": {},
   "source": [
    "*Вывод:* самый большой отток клиентов с кредитным рейтингом Very_Poor, которые пользуются услугами банка меньше года и 10 лет.\n",
    "Так же стоит обратить внимание на клиентов рейтинга Very_Poor, которые пользуются услугами банка 3 и 4 года, и клиентов с кредитным рейтингом Excellent, которые пользуютсу услугами первый год и 9-10 год.\n"
   ]
  }
 ],
 "metadata": {
  "kernelspec": {
   "display_name": "Python 3.9.10 64-bit",
   "language": "python",
   "name": "python3"
  },
  "language_info": {
   "codemirror_mode": {
    "name": "ipython",
    "version": 3
   },
   "file_extension": ".py",
   "mimetype": "text/x-python",
   "name": "python",
   "nbconvert_exporter": "python",
   "pygments_lexer": "ipython3",
   "version": "3.9.10"
  },
  "orig_nbformat": 4,
  "vscode": {
   "interpreter": {
    "hash": "7a4b96c1986ca677e6d2ebfd9e4fc5687c706e8b683bd809e2bb5f8e7e7a77b7"
   }
  }
 },
 "nbformat": 4,
 "nbformat_minor": 2
}
