{
 "cells": [
  {
   "cell_type": "code",
   "execution_count": 7,
   "metadata": {},
   "outputs": [],
   "source": [
    "import pandas as pd\n",
    "import numpy as np\n",
    "import matplotlib.pyplot as plt\n",
    "import seaborn as sns"
   ]
  },
  {
   "cell_type": "code",
   "execution_count": 8,
   "metadata": {},
   "outputs": [
    {
     "data": {
      "text/html": [
       "<div>\n",
       "<style scoped>\n",
       "    .dataframe tbody tr th:only-of-type {\n",
       "        vertical-align: middle;\n",
       "    }\n",
       "\n",
       "    .dataframe tbody tr th {\n",
       "        vertical-align: top;\n",
       "    }\n",
       "\n",
       "    .dataframe thead th {\n",
       "        text-align: right;\n",
       "    }\n",
       "</style>\n",
       "<table border=\"1\" class=\"dataframe\">\n",
       "  <thead>\n",
       "    <tr style=\"text-align: right;\">\n",
       "      <th></th>\n",
       "      <th>Pregnancies</th>\n",
       "      <th>Glucose</th>\n",
       "      <th>BloodPressure</th>\n",
       "      <th>SkinThickness</th>\n",
       "      <th>Insulin</th>\n",
       "      <th>BMI</th>\n",
       "      <th>DiabetesPedigreeFunction</th>\n",
       "      <th>Age</th>\n",
       "      <th>Outcome</th>\n",
       "      <th>Gender</th>\n",
       "    </tr>\n",
       "  </thead>\n",
       "  <tbody>\n",
       "    <tr>\n",
       "      <th>0</th>\n",
       "      <td>6</td>\n",
       "      <td>98</td>\n",
       "      <td>58</td>\n",
       "      <td>33</td>\n",
       "      <td>190</td>\n",
       "      <td>34.0</td>\n",
       "      <td>0.430</td>\n",
       "      <td>43</td>\n",
       "      <td>0</td>\n",
       "      <td>Female</td>\n",
       "    </tr>\n",
       "    <tr>\n",
       "      <th>1</th>\n",
       "      <td>2</td>\n",
       "      <td>112</td>\n",
       "      <td>75</td>\n",
       "      <td>32</td>\n",
       "      <td>0</td>\n",
       "      <td>35.7</td>\n",
       "      <td>0.148</td>\n",
       "      <td>21</td>\n",
       "      <td>0</td>\n",
       "      <td>Female</td>\n",
       "    </tr>\n",
       "    <tr>\n",
       "      <th>2</th>\n",
       "      <td>2</td>\n",
       "      <td>108</td>\n",
       "      <td>64</td>\n",
       "      <td>0</td>\n",
       "      <td>0</td>\n",
       "      <td>30.8</td>\n",
       "      <td>0.158</td>\n",
       "      <td>21</td>\n",
       "      <td>0</td>\n",
       "      <td>Female</td>\n",
       "    </tr>\n",
       "    <tr>\n",
       "      <th>3</th>\n",
       "      <td>8</td>\n",
       "      <td>107</td>\n",
       "      <td>80</td>\n",
       "      <td>0</td>\n",
       "      <td>0</td>\n",
       "      <td>24.6</td>\n",
       "      <td>0.856</td>\n",
       "      <td>34</td>\n",
       "      <td>0</td>\n",
       "      <td>Female</td>\n",
       "    </tr>\n",
       "    <tr>\n",
       "      <th>4</th>\n",
       "      <td>7</td>\n",
       "      <td>136</td>\n",
       "      <td>90</td>\n",
       "      <td>0</td>\n",
       "      <td>0</td>\n",
       "      <td>29.9</td>\n",
       "      <td>0.210</td>\n",
       "      <td>50</td>\n",
       "      <td>0</td>\n",
       "      <td>Female</td>\n",
       "    </tr>\n",
       "  </tbody>\n",
       "</table>\n",
       "</div>"
      ],
      "text/plain": [
       "   Pregnancies  Glucose  BloodPressure  SkinThickness  Insulin   BMI  \\\n",
       "0            6       98             58             33      190  34.0   \n",
       "1            2      112             75             32        0  35.7   \n",
       "2            2      108             64              0        0  30.8   \n",
       "3            8      107             80              0        0  24.6   \n",
       "4            7      136             90              0        0  29.9   \n",
       "\n",
       "   DiabetesPedigreeFunction  Age  Outcome  Gender  \n",
       "0                     0.430   43        0  Female  \n",
       "1                     0.148   21        0  Female  \n",
       "2                     0.158   21        0  Female  \n",
       "3                     0.856   34        0  Female  \n",
       "4                     0.210   50        0  Female  "
      ]
     },
     "execution_count": 8,
     "metadata": {},
     "output_type": "execute_result"
    }
   ],
   "source": [
    "diabetes = pd.read_csv('data/diabetes_data.csv')\n",
    "diabetes.head()"
   ]
  },
  {
   "cell_type": "code",
   "execution_count": 10,
   "metadata": {},
   "outputs": [
    {
     "name": "stdout",
     "output_type": "stream",
     "text": [
      "Число найденных дубликатов: 0\n",
      "Результирующее число записей: 768\n"
     ]
    }
   ],
   "source": [
    "# 8.1 Найдите все повторяющиеся строки в данных и удалите их\n",
    "dupl_columns = list(diabetes.columns)\n",
    "\n",
    "mask = diabetes.duplicated(subset=dupl_columns)\n",
    "diabetes_duplicates = diabetes[mask]\n",
    "print(f'Число найденных дубликатов: {diabetes_duplicates.shape[0]}')\n",
    "\n",
    "diabetes = diabetes.drop_duplicates(subset=dupl_columns)\n",
    "print(f'Результирующее число записей: {diabetes.shape[0]}')"
   ]
  },
  {
   "cell_type": "code",
   "execution_count": 11,
   "metadata": {},
   "outputs": [
    {
     "name": "stdout",
     "output_type": "stream",
     "text": [
      "Gender: 100.0% одинаковых значений\n",
      "Результирующее число признаков: 9\n",
      "<class 'pandas.core.frame.DataFrame'>\n",
      "Int64Index: 768 entries, 0 to 767\n",
      "Data columns (total 9 columns):\n",
      " #   Column                    Non-Null Count  Dtype  \n",
      "---  ------                    --------------  -----  \n",
      " 0   Pregnancies               768 non-null    int64  \n",
      " 1   Glucose                   768 non-null    int64  \n",
      " 2   BloodPressure             768 non-null    int64  \n",
      " 3   SkinThickness             768 non-null    int64  \n",
      " 4   Insulin                   768 non-null    int64  \n",
      " 5   BMI                       768 non-null    float64\n",
      " 6   DiabetesPedigreeFunction  768 non-null    float64\n",
      " 7   Age                       768 non-null    int64  \n",
      " 8   Outcome                   768 non-null    int64  \n",
      "dtypes: float64(2), int64(7)\n",
      "memory usage: 60.0 KB\n"
     ]
    }
   ],
   "source": [
    "# 8.2 найдите все неинформативные признаки в данных и избавьтесь от них\n",
    "# удалите все признаки, для которых 95 % значений повторяются или 95 % записей уникальны\n",
    "low_information_cols = [] \n",
    "\n",
    "for col in diabetes.columns:\n",
    "    top_freq = diabetes[col].value_counts(normalize=True).max()\n",
    "    nunique_ratio = diabetes[col].nunique() / diabetes[col].count()\n",
    "    if top_freq > 0.95:\n",
    "        low_information_cols.append(col)\n",
    "        print(f'{col}: {round(top_freq*100, 2)}% одинаковых значений')\n",
    "    if nunique_ratio > 0.95:\n",
    "        low_information_cols.append(col)\n",
    "        print(f'{col}: {round(nunique_ratio*100, 2)}% уникальных значений')\n",
    "        \n",
    "diabetes = diabetes.drop(low_information_cols, axis=1)\n",
    "print(f'Результирующее число признаков: {diabetes.shape[1]}')\n",
    "\n",
    "diabetes.info()"
   ]
  },
  {
   "cell_type": "code",
   "execution_count": 12,
   "metadata": {},
   "outputs": [
    {
     "data": {
      "text/plain": [
       "Pregnancies                 0.00\n",
       "Glucose                     0.01\n",
       "BloodPressure               0.05\n",
       "SkinThickness               0.30\n",
       "Insulin                     0.49\n",
       "BMI                         0.01\n",
       "DiabetesPedigreeFunction    0.00\n",
       "Age                         0.00\n",
       "Outcome                     0.00\n",
       "dtype: float64"
      ]
     },
     "metadata": {},
     "output_type": "display_data"
    }
   ],
   "source": [
    "# 8.3 Замените все записи, равные 0, в столбцах Glucose, BloodPressure, SkinThickness, Insulin и BMI на символ пропуска\n",
    "diabetes['Glucose'] = diabetes['Glucose'].apply(lambda x: x if x != 0 else np.nan)\n",
    "diabetes['BloodPressure'] = diabetes['BloodPressure'].apply(lambda x: x if x != 0 else np.nan)\n",
    "diabetes['SkinThickness'] = diabetes['SkinThickness'].apply(lambda x: x if x != 0 else np.nan)\n",
    "diabetes['Insulin'] = diabetes['Insulin'].apply(lambda x: x if x != 0 else np.nan)\n",
    "diabetes['BMI'] = diabetes['BMI'].apply(lambda x: x if x != 0 else np.nan)\n",
    "cols_null_percent = diabetes.isnull().mean()\n",
    "display(round(cols_null_percent,2))"
   ]
  },
  {
   "cell_type": "code",
   "execution_count": 13,
   "metadata": {},
   "outputs": [
    {
     "data": {
      "text/plain": [
       "8"
      ]
     },
     "metadata": {},
     "output_type": "display_data"
    }
   ],
   "source": [
    "# 8.4 далите из данных признаки, где число пропусков составляет более 30 %\n",
    "thresh = diabetes.shape[0]*0.7\n",
    "diabetes = diabetes.dropna(thresh=thresh, axis=1)\n",
    "display(diabetes.shape[1])"
   ]
  },
  {
   "cell_type": "code",
   "execution_count": 14,
   "metadata": {},
   "outputs": [
    {
     "name": "stdout",
     "output_type": "stream",
     "text": [
      "761\n"
     ]
    }
   ],
   "source": [
    "# 8.5 Удалите из данных только те строки, в которых содержится более двух пропусков одновременно\n",
    "m = diabetes.shape[1]\n",
    "diabetes = diabetes.dropna(thresh=m-2, axis=0)\n",
    "print(diabetes.shape[0])"
   ]
  },
  {
   "cell_type": "code",
   "execution_count": 15,
   "metadata": {},
   "outputs": [
    {
     "data": {
      "text/plain": [
       "29.1"
      ]
     },
     "execution_count": 15,
     "metadata": {},
     "output_type": "execute_result"
    }
   ],
   "source": [
    "# 8.6 замените пропуски на медиану\n",
    "values = {\n",
    "    'BloodPressure': diabetes['BloodPressure'].median(),\n",
    "    'SkinThickness': diabetes['SkinThickness'].median(),\n",
    "    'Glucose': diabetes['Glucose'].median(),\n",
    "    'BMI': diabetes['BMI'].median(),\n",
    "}\n",
    "diabetes = diabetes.fillna(values)\n",
    "diabetes.isnull().mean()\n",
    "diabetes['SkinThickness'].mean().round(1)\n"
   ]
  },
  {
   "cell_type": "code",
   "execution_count": 16,
   "metadata": {},
   "outputs": [
    {
     "name": "stdout",
     "output_type": "stream",
     "text": [
      "Число выбросов по методу Тьюки: 87\n",
      "Результирующее число записей: 674\n"
     ]
    }
   ],
   "source": [
    "# 8.7 Сколько выбросов найдёт классический метод межквартильного размаха в признаке SkinThickness?\n",
    "def outliers_iqr(data, feature):\n",
    "    x = data[feature]\n",
    "    quartile_1, quartile_3 = x.quantile(0.25), x.quantile(0.75),\n",
    "    iqr = quartile_3 - quartile_1\n",
    "    lower_bound = quartile_1 - (iqr * 1.5)\n",
    "    upper_bound = quartile_3 + (iqr * 1.5)\n",
    "    outliers = data[(x < lower_bound) | (x > upper_bound)]\n",
    "    cleaned = data[(x > lower_bound) & (x < upper_bound)]\n",
    "    return outliers, cleaned\n",
    "\n",
    "\n",
    "outliers, cleaned = outliers_iqr(diabetes, 'SkinThickness')\n",
    "print(f'Число выбросов по методу Тьюки: {outliers.shape[0]}')\n",
    "print(f'Результирующее число записей: {cleaned.shape[0]}')"
   ]
  },
  {
   "cell_type": "code",
   "execution_count": 17,
   "metadata": {},
   "outputs": [
    {
     "name": "stdout",
     "output_type": "stream",
     "text": [
      "Число выбросов по методу z-отклонения: 4\n",
      "Результирующее число записей: 757\n"
     ]
    }
   ],
   "source": [
    "# 8.8 Сколько выбросов найдёт классический метод z-отклонения в признаке SkinThickness\n",
    "def outliers_z_score(data, feature, log_scale=False): # log_scale True, то будем логарифмировать рассматриваемый признак\n",
    "    if log_scale:\n",
    "        x = np.log(data[feature]+1)\n",
    "    else:\n",
    "        x = data[feature]\n",
    "    mu = x.mean()\n",
    "    sigma = x.std()\n",
    "    lower_bound = mu - 3 * sigma\n",
    "    upper_bound = mu + 3 * sigma\n",
    "    outliers = data[(x < lower_bound) | (x > upper_bound)]\n",
    "    cleaned = data[(x > lower_bound) & (x < upper_bound)]\n",
    "    return outliers, cleaned\n",
    "\n",
    "outliers, cleaned = outliers_z_score(diabetes, 'SkinThickness')\n",
    "print(f'Число выбросов по методу z-отклонения: {outliers.shape[0]}')\n",
    "print(f'Результирующее число записей: {cleaned.shape[0]}')"
   ]
  },
  {
   "cell_type": "code",
   "execution_count": 22,
   "metadata": {},
   "outputs": [
    {
     "name": "stdout",
     "output_type": "stream",
     "text": [
      "29\n"
     ]
    }
   ],
   "source": [
    "# 8.9 Найдите сначала число выбросов в признаке DiabetesPedigreeFunction\n",
    "# с помощью классического метода межквартильного размаха(29)\n",
    "def outliers_iqr(data, feature,log_scale=False):\n",
    "    if log_scale:\n",
    "        x = np.log(data[feature])\n",
    "    else:\n",
    "        x = data[feature]\n",
    "    quartile_1, quartile_3 = x.quantile(0.25), x.quantile(0.75),\n",
    "    iqr = quartile_3 - quartile_1\n",
    "    lower_bound = quartile_1 - (iqr * 1.5)\n",
    "    upper_bound = quartile_3 + (iqr * 1.5)\n",
    "    outliers = data[(x < lower_bound) | (x > upper_bound)]\n",
    "    cleaned = data[(x > lower_bound) & (x < upper_bound)]\n",
    "    return outliers, cleaned\n",
    "\n",
    "outliers, _ = outliers_iqr(diabetes, 'DiabetesPedigreeFunction')\n",
    "outliers_log, _ = outliers_iqr(diabetes, 'DiabetesPedigreeFunction', log_scale=True)\n",
    "print(outliers.shape[0] - outliers_log.shape[0])"
   ]
  }
 ],
 "metadata": {
  "kernelspec": {
   "display_name": "Python 3.9.10 64-bit",
   "language": "python",
   "name": "python3"
  },
  "language_info": {
   "codemirror_mode": {
    "name": "ipython",
    "version": 3
   },
   "file_extension": ".py",
   "mimetype": "text/x-python",
   "name": "python",
   "nbconvert_exporter": "python",
   "pygments_lexer": "ipython3",
   "version": "3.9.10"
  },
  "orig_nbformat": 4,
  "vscode": {
   "interpreter": {
    "hash": "7a4b96c1986ca677e6d2ebfd9e4fc5687c706e8b683bd809e2bb5f8e7e7a77b7"
   }
  }
 },
 "nbformat": 4,
 "nbformat_minor": 2
}
